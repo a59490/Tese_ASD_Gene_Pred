{
 "cells": [
  {
   "cell_type": "markdown",
   "metadata": {},
   "source": [
    "# NCBI id to Ensemble id"
   ]
  },
  {
   "cell_type": "code",
   "execution_count": 102,
   "metadata": {},
   "outputs": [],
   "source": [
    "import csv\n",
    "import pandas as pd\n",
    "import numpy as np\n",
    "from Bio import Entrez\n",
    "import matplotlib_venn"
   ]
  },
  {
   "cell_type": "code",
   "execution_count": 103,
   "metadata": {},
   "outputs": [],
   "source": [
    "xls = pd.read_excel(\"Negative_Positive_genes.xlsx\", sheet_name=1)\n",
    "NCBI_id = xls[\"gene id\"].astype(str).to_list()"
   ]
  },
  {
   "cell_type": "code",
   "execution_count": 104,
   "metadata": {},
   "outputs": [
    {
     "name": "stdout",
     "output_type": "stream",
     "text": [
      "There are 1189 negative genes\n"
     ]
    }
   ],
   "source": [
    "print(f'There are {len(NCBI_id)} negative genes')"
   ]
  },
  {
   "cell_type": "code",
   "execution_count": 105,
   "metadata": {},
   "outputs": [
    {
     "data": {
      "text/html": [
       "<div>\n",
       "<style scoped>\n",
       "    .dataframe tbody tr th:only-of-type {\n",
       "        vertical-align: middle;\n",
       "    }\n",
       "\n",
       "    .dataframe tbody tr th {\n",
       "        vertical-align: top;\n",
       "    }\n",
       "\n",
       "    .dataframe thead th {\n",
       "        text-align: right;\n",
       "    }\n",
       "</style>\n",
       "<table border=\"1\" class=\"dataframe\">\n",
       "  <thead>\n",
       "    <tr style=\"text-align: right;\">\n",
       "      <th></th>\n",
       "      <th>gene id</th>\n",
       "      <th>symbol</th>\n",
       "    </tr>\n",
       "  </thead>\n",
       "  <tbody>\n",
       "    <tr>\n",
       "      <th>0</th>\n",
       "      <td>10002</td>\n",
       "      <td>NR2E3</td>\n",
       "    </tr>\n",
       "    <tr>\n",
       "      <th>1</th>\n",
       "      <td>10008</td>\n",
       "      <td>KCNE3</td>\n",
       "    </tr>\n",
       "    <tr>\n",
       "      <th>2</th>\n",
       "      <td>100133941</td>\n",
       "      <td>CD24</td>\n",
       "    </tr>\n",
       "    <tr>\n",
       "      <th>3</th>\n",
       "      <td>10019</td>\n",
       "      <td>SH2B3</td>\n",
       "    </tr>\n",
       "    <tr>\n",
       "      <th>4</th>\n",
       "      <td>10020</td>\n",
       "      <td>GNE</td>\n",
       "    </tr>\n",
       "    <tr>\n",
       "      <th>5</th>\n",
       "      <td>10021</td>\n",
       "      <td>HCN4</td>\n",
       "    </tr>\n",
       "    <tr>\n",
       "      <th>6</th>\n",
       "      <td>10046</td>\n",
       "      <td>MAMLD1</td>\n",
       "    </tr>\n",
       "    <tr>\n",
       "      <th>7</th>\n",
       "      <td>100506658</td>\n",
       "      <td>OCLN</td>\n",
       "    </tr>\n",
       "    <tr>\n",
       "      <th>8</th>\n",
       "      <td>10060</td>\n",
       "      <td>ABCC9</td>\n",
       "    </tr>\n",
       "    <tr>\n",
       "      <th>9</th>\n",
       "      <td>10083</td>\n",
       "      <td>USH1C</td>\n",
       "    </tr>\n",
       "  </tbody>\n",
       "</table>\n",
       "</div>"
      ],
      "text/plain": [
       "     gene id  symbol\n",
       "0      10002   NR2E3\n",
       "1      10008   KCNE3\n",
       "2  100133941    CD24\n",
       "3      10019   SH2B3\n",
       "4      10020     GNE\n",
       "5      10021    HCN4\n",
       "6      10046  MAMLD1\n",
       "7  100506658    OCLN\n",
       "8      10060   ABCC9\n",
       "9      10083   USH1C"
      ]
     },
     "execution_count": 105,
     "metadata": {},
     "output_type": "execute_result"
    }
   ],
   "source": [
    "xls.head(10)"
   ]
  },
  {
   "cell_type": "code",
   "execution_count": 106,
   "metadata": {},
   "outputs": [
    {
     "data": {
      "text/plain": [
       "gene id    0\n",
       "symbol     0\n",
       "dtype: int64"
      ]
     },
     "execution_count": 106,
     "metadata": {},
     "output_type": "execute_result"
    }
   ],
   "source": [
    "# check null values\n",
    "xls.isnull().sum()"
   ]
  },
  {
   "cell_type": "markdown",
   "metadata": {},
   "source": [
    "pip install mygene\n"
   ]
  },
  {
   "cell_type": "markdown",
   "metadata": {},
   "source": [
    "Mygene looks like a promising package to use for this task.  \n",
    "- https://docs.mygene.info/projects/mygene-py/en/latest/#optional-dependencies  package documentation  \n",
    "- https://www.kaggle.com/code/alexandervc/genes-info-with-mygene-python-package kaggle tutorial"
   ]
  },
  {
   "cell_type": "code",
   "execution_count": 107,
   "metadata": {},
   "outputs": [
    {
     "name": "stdout",
     "output_type": "stream",
     "text": [
      "dict_keys(['AllianceGenome', 'HGNC', 'MIM', '_id', '_version', 'accession', 'alias', 'clingen', 'ensembl', 'entrezgene', 'generif', 'genomic_pos', 'go', 'map_location', 'name', 'other_names', 'pantherdb', 'pathway', 'pharmgkb', 'pharos', 'reagent', 'refseq', 'reporter', 'retired', 'summary', 'symbol', 'taxid', 'type_of_gene', 'umls', 'unigene', 'wikipedia'])\n"
     ]
    }
   ],
   "source": [
    "import mygene\n",
    "\n",
    "mg = mygene.MyGeneInfo()\n",
    "\n",
    "g = mg.getgene(3507)\n",
    "print( g.keys() )"
   ]
  },
  {
   "cell_type": "code",
   "execution_count": 108,
   "metadata": {},
   "outputs": [
    {
     "name": "stdout",
     "output_type": "stream",
     "text": [
      "{'gene': 'ENSG00000211899', 'protein': ['ENSP00000375001', 'ENSP00000490253'], 'transcript': ['ENST00000390559', 'ENST00000637539'], 'translation': [{'protein': 'ENSP00000490253', 'rna': 'ENST00000637539'}, {'protein': 'ENSP00000375001', 'rna': 'ENST00000390559'}], 'type_of_gene': 'IG_C_gene'}\n",
      "5\n",
      "<class 'dict'>\n"
     ]
    }
   ],
   "source": [
    "print( g['ensembl'] )\n",
    "print( len(g['ensembl']) )\n",
    "print(type(g['ensembl']))"
   ]
  },
  {
   "cell_type": "markdown",
   "metadata": {},
   "source": [
    "## 1 create a dataset with NCBI id and Ensemble id"
   ]
  },
  {
   "cell_type": "code",
   "execution_count": 24,
   "metadata": {},
   "outputs": [
    {
     "name": "stdout",
     "output_type": "stream",
     "text": [
      "gene 6315 not found\n"
     ]
    }
   ],
   "source": [
    "NCBI_dict = {}\n",
    "\n",
    "for gene in NCBI_id:\n",
    "    try:\n",
    "        g = mg.getgene(gene)\n",
    "        if isinstance(g['ensembl'], list):\n",
    "            gene_list = []\n",
    "            for entry in g['ensembl']:\n",
    "                gene_list.append(entry['gene'])\n",
    "            NCBI_dict[gene] = gene_list\n",
    "        else:\n",
    "            NCBI_dict[gene] = g['ensembl']['gene']\n",
    "    except:\n",
    "        print(f'gene {gene} not found')\n",
    "        NCBI_dict[gene] = 'not found'\n",
    "        continue\n",
    "    \n",
    "\n"
   ]
  },
  {
   "cell_type": "code",
   "execution_count": 44,
   "metadata": {},
   "outputs": [
    {
     "data": {
      "text/html": [
       "<div>\n",
       "<style scoped>\n",
       "    .dataframe tbody tr th:only-of-type {\n",
       "        vertical-align: middle;\n",
       "    }\n",
       "\n",
       "    .dataframe tbody tr th {\n",
       "        vertical-align: top;\n",
       "    }\n",
       "\n",
       "    .dataframe thead th {\n",
       "        text-align: right;\n",
       "    }\n",
       "</style>\n",
       "<table border=\"1\" class=\"dataframe\">\n",
       "  <thead>\n",
       "    <tr style=\"text-align: right;\">\n",
       "      <th></th>\n",
       "      <th>Ensembl ID</th>\n",
       "    </tr>\n",
       "  </thead>\n",
       "  <tbody>\n",
       "    <tr>\n",
       "      <th>10002</th>\n",
       "      <td>ENSG00000278570</td>\n",
       "    </tr>\n",
       "    <tr>\n",
       "      <th>10008</th>\n",
       "      <td>ENSG00000175538</td>\n",
       "    </tr>\n",
       "    <tr>\n",
       "      <th>100133941</th>\n",
       "      <td>ENSG00000272398</td>\n",
       "    </tr>\n",
       "    <tr>\n",
       "      <th>10019</th>\n",
       "      <td>ENSG00000111252</td>\n",
       "    </tr>\n",
       "    <tr>\n",
       "      <th>10020</th>\n",
       "      <td>ENSG00000159921</td>\n",
       "    </tr>\n",
       "    <tr>\n",
       "      <th>10021</th>\n",
       "      <td>ENSG00000138622</td>\n",
       "    </tr>\n",
       "    <tr>\n",
       "      <th>10046</th>\n",
       "      <td>ENSG00000013619</td>\n",
       "    </tr>\n",
       "    <tr>\n",
       "      <th>100506658</th>\n",
       "      <td>[ENSG00000197822, ENSG00000273814]</td>\n",
       "    </tr>\n",
       "    <tr>\n",
       "      <th>10060</th>\n",
       "      <td>ENSG00000069431</td>\n",
       "    </tr>\n",
       "    <tr>\n",
       "      <th>10083</th>\n",
       "      <td>ENSG00000006611</td>\n",
       "    </tr>\n",
       "  </tbody>\n",
       "</table>\n",
       "</div>"
      ],
      "text/plain": [
       "                                   Ensembl ID\n",
       "10002                         ENSG00000278570\n",
       "10008                         ENSG00000175538\n",
       "100133941                     ENSG00000272398\n",
       "10019                         ENSG00000111252\n",
       "10020                         ENSG00000159921\n",
       "10021                         ENSG00000138622\n",
       "10046                         ENSG00000013619\n",
       "100506658  [ENSG00000197822, ENSG00000273814]\n",
       "10060                         ENSG00000069431\n",
       "10083                         ENSG00000006611"
      ]
     },
     "metadata": {},
     "output_type": "display_data"
    },
    {
     "name": "stdout",
     "output_type": "stream",
     "text": [
      "(1189, 1)\n"
     ]
    }
   ],
   "source": [
    "NCBI_df = pd.DataFrame.from_dict(NCBI_dict, orient='index')\n",
    "\n",
    "# rename the columns on the NCBI_df\n",
    "NCBI_df.columns = ['Ensembl ID']\n",
    "\n",
    "\n",
    "display(NCBI_df.head(10))\n",
    "print(NCBI_df.shape)\n"
   ]
  },
  {
   "cell_type": "code",
   "execution_count": 77,
   "metadata": {},
   "outputs": [
    {
     "data": {
      "text/html": [
       "<div>\n",
       "<style scoped>\n",
       "    .dataframe tbody tr th:only-of-type {\n",
       "        vertical-align: middle;\n",
       "    }\n",
       "\n",
       "    .dataframe tbody tr th {\n",
       "        vertical-align: top;\n",
       "    }\n",
       "\n",
       "    .dataframe thead th {\n",
       "        text-align: right;\n",
       "    }\n",
       "</style>\n",
       "<table border=\"1\" class=\"dataframe\">\n",
       "  <thead>\n",
       "    <tr style=\"text-align: right;\">\n",
       "      <th></th>\n",
       "      <th>Ensembl ID</th>\n",
       "    </tr>\n",
       "  </thead>\n",
       "  <tbody>\n",
       "    <tr>\n",
       "      <th>100506658</th>\n",
       "      <td>[ENSG00000197822, ENSG00000273814]</td>\n",
       "    </tr>\n",
       "    <tr>\n",
       "      <th>1028</th>\n",
       "      <td>[ENSG00000129757, ENSG00000273707]</td>\n",
       "    </tr>\n",
       "    <tr>\n",
       "      <th>10466</th>\n",
       "      <td>[ENSG00000164597, ENSG00000284369]</td>\n",
       "    </tr>\n",
       "    <tr>\n",
       "      <th>10594</th>\n",
       "      <td>[ENSG00000174231, ENSG00000274442]</td>\n",
       "    </tr>\n",
       "    <tr>\n",
       "      <th>10801</th>\n",
       "      <td>[ENSG00000282302, ENSG00000184640]</td>\n",
       "    </tr>\n",
       "    <tr>\n",
       "      <th>...</th>\n",
       "      <td>...</td>\n",
       "    </tr>\n",
       "    <tr>\n",
       "      <th>8622</th>\n",
       "      <td>[ENSG00000284762, ENSG00000113231]</td>\n",
       "    </tr>\n",
       "    <tr>\n",
       "      <th>8754</th>\n",
       "      <td>[ENSG00000168615, ENSG00000282230]</td>\n",
       "    </tr>\n",
       "    <tr>\n",
       "      <th>8878</th>\n",
       "      <td>[ENSG00000161011, ENSG00000284099]</td>\n",
       "    </tr>\n",
       "    <tr>\n",
       "      <th>94137</th>\n",
       "      <td>[ENSG00000183638, ENSG00000292297]</td>\n",
       "    </tr>\n",
       "    <tr>\n",
       "      <th>9842</th>\n",
       "      <td>[ENSG00000225190, ENSG00000276358, ENSG0000027...</td>\n",
       "    </tr>\n",
       "  </tbody>\n",
       "</table>\n",
       "<p>78 rows × 1 columns</p>\n",
       "</div>"
      ],
      "text/plain": [
       "                                                  Ensembl ID\n",
       "100506658                 [ENSG00000197822, ENSG00000273814]\n",
       "1028                      [ENSG00000129757, ENSG00000273707]\n",
       "10466                     [ENSG00000164597, ENSG00000284369]\n",
       "10594                     [ENSG00000174231, ENSG00000274442]\n",
       "10801                     [ENSG00000282302, ENSG00000184640]\n",
       "...                                                      ...\n",
       "8622                      [ENSG00000284762, ENSG00000113231]\n",
       "8754                      [ENSG00000168615, ENSG00000282230]\n",
       "8878                      [ENSG00000161011, ENSG00000284099]\n",
       "94137                     [ENSG00000183638, ENSG00000292297]\n",
       "9842       [ENSG00000225190, ENSG00000276358, ENSG0000027...\n",
       "\n",
       "[78 rows x 1 columns]"
      ]
     },
     "execution_count": 77,
     "metadata": {},
     "output_type": "execute_result"
    }
   ],
   "source": [
    "NCBI_df[\"Ensembl ID\"].str.contains(\",\").isna().sum()\n",
    "\n",
    "NCBI_df[NCBI_df[\"Ensembl ID\"].str.contains(\",\").isna()]"
   ]
  },
  {
   "cell_type": "markdown",
   "metadata": {},
   "source": [
    "#### Since only 1 gene had no Ensemble id, it was removed\n",
    "\n",
    "\n",
    "- gene 6315 not found"
   ]
  },
  {
   "cell_type": "code",
   "execution_count": 79,
   "metadata": {},
   "outputs": [
    {
     "name": "stdout",
     "output_type": "stream",
     "text": [
      "[['ENSG00000225190', 'ENSG00000276358', 'ENSG00000277111']]\n"
     ]
    }
   ],
   "source": [
    "print(NCBI_df.loc['9842'].tolist())\n",
    "#NCBI_df.drop('6315', inplace=True)\n"
   ]
  },
  {
   "cell_type": "markdown",
   "metadata": {},
   "source": [
    "# G Profiler"
   ]
  },
  {
   "cell_type": "code",
   "execution_count": 111,
   "metadata": {},
   "outputs": [
    {
     "data": {
      "text/html": [
       "<div>\n",
       "<style scoped>\n",
       "    .dataframe tbody tr th:only-of-type {\n",
       "        vertical-align: middle;\n",
       "    }\n",
       "\n",
       "    .dataframe tbody tr th {\n",
       "        vertical-align: top;\n",
       "    }\n",
       "\n",
       "    .dataframe thead th {\n",
       "        text-align: right;\n",
       "    }\n",
       "</style>\n",
       "<table border=\"1\" class=\"dataframe\">\n",
       "  <thead>\n",
       "    <tr style=\"text-align: right;\">\n",
       "      <th></th>\n",
       "      <th>gene id</th>\n",
       "      <th>symbol</th>\n",
       "    </tr>\n",
       "  </thead>\n",
       "  <tbody>\n",
       "    <tr>\n",
       "      <th>0</th>\n",
       "      <td>10002</td>\n",
       "      <td>NR2E3</td>\n",
       "    </tr>\n",
       "    <tr>\n",
       "      <th>1</th>\n",
       "      <td>10008</td>\n",
       "      <td>KCNE3</td>\n",
       "    </tr>\n",
       "    <tr>\n",
       "      <th>2</th>\n",
       "      <td>100133941</td>\n",
       "      <td>CD24</td>\n",
       "    </tr>\n",
       "    <tr>\n",
       "      <th>3</th>\n",
       "      <td>10019</td>\n",
       "      <td>SH2B3</td>\n",
       "    </tr>\n",
       "    <tr>\n",
       "      <th>4</th>\n",
       "      <td>10020</td>\n",
       "      <td>GNE</td>\n",
       "    </tr>\n",
       "    <tr>\n",
       "      <th>...</th>\n",
       "      <td>...</td>\n",
       "      <td>...</td>\n",
       "    </tr>\n",
       "    <tr>\n",
       "      <th>1184</th>\n",
       "      <td>9939</td>\n",
       "      <td>RBM8A</td>\n",
       "    </tr>\n",
       "    <tr>\n",
       "      <th>1185</th>\n",
       "      <td>9950</td>\n",
       "      <td>GOLGA5</td>\n",
       "    </tr>\n",
       "    <tr>\n",
       "      <th>1186</th>\n",
       "      <td>999</td>\n",
       "      <td>CDH1</td>\n",
       "    </tr>\n",
       "    <tr>\n",
       "      <th>1187</th>\n",
       "      <td>9992</td>\n",
       "      <td>KCNE2</td>\n",
       "    </tr>\n",
       "    <tr>\n",
       "      <th>1188</th>\n",
       "      <td>9997</td>\n",
       "      <td>SCO2</td>\n",
       "    </tr>\n",
       "  </tbody>\n",
       "</table>\n",
       "<p>1189 rows × 2 columns</p>\n",
       "</div>"
      ],
      "text/plain": [
       "        gene id  symbol\n",
       "0         10002   NR2E3\n",
       "1         10008   KCNE3\n",
       "2     100133941    CD24\n",
       "3         10019   SH2B3\n",
       "4         10020     GNE\n",
       "...         ...     ...\n",
       "1184       9939   RBM8A\n",
       "1185       9950  GOLGA5\n",
       "1186        999    CDH1\n",
       "1187       9992   KCNE2\n",
       "1188       9997    SCO2\n",
       "\n",
       "[1189 rows x 2 columns]"
      ]
     },
     "execution_count": 111,
     "metadata": {},
     "output_type": "execute_result"
    }
   ],
   "source": [
    "xls['symbol']= xls['symbol'].astype(str)\n",
    "xls"
   ]
  },
  {
   "cell_type": "code",
   "execution_count": 120,
   "metadata": {},
   "outputs": [
    {
     "data": {
      "text/html": [
       "<div>\n",
       "<style scoped>\n",
       "    .dataframe tbody tr th:only-of-type {\n",
       "        vertical-align: middle;\n",
       "    }\n",
       "\n",
       "    .dataframe tbody tr th {\n",
       "        vertical-align: top;\n",
       "    }\n",
       "\n",
       "    .dataframe thead th {\n",
       "        text-align: right;\n",
       "    }\n",
       "</style>\n",
       "<table border=\"1\" class=\"dataframe\">\n",
       "  <thead>\n",
       "    <tr style=\"text-align: right;\">\n",
       "      <th></th>\n",
       "      <th>incoming</th>\n",
       "      <th>converted</th>\n",
       "      <th>n_incoming</th>\n",
       "      <th>n_converted</th>\n",
       "      <th>name</th>\n",
       "      <th>description</th>\n",
       "      <th>namespaces</th>\n",
       "      <th>query</th>\n",
       "    </tr>\n",
       "  </thead>\n",
       "  <tbody>\n",
       "    <tr>\n",
       "      <th>0</th>\n",
       "      <td>NR2E3</td>\n",
       "      <td>ENSG00000278570</td>\n",
       "      <td>1</td>\n",
       "      <td>1</td>\n",
       "      <td>NR2E3</td>\n",
       "      <td>nuclear receptor subfamily 2 group E member 3 ...</td>\n",
       "      <td>ENTREZGENE,GENECARDS,HGNC,UNIPROT_GN,WIKIGENE</td>\n",
       "      <td>query_1</td>\n",
       "    </tr>\n",
       "    <tr>\n",
       "      <th>1</th>\n",
       "      <td>KCNE3</td>\n",
       "      <td>ENSG00000175538</td>\n",
       "      <td>2</td>\n",
       "      <td>1</td>\n",
       "      <td>KCNE3</td>\n",
       "      <td>potassium voltage-gated channel subfamily E re...</td>\n",
       "      <td>ENTREZGENE,GENECARDS,HGNC,UNIPROT_GN,WIKIGENE</td>\n",
       "      <td>query_1</td>\n",
       "    </tr>\n",
       "    <tr>\n",
       "      <th>2</th>\n",
       "      <td>CD24</td>\n",
       "      <td>ENSG00000272398</td>\n",
       "      <td>3</td>\n",
       "      <td>1</td>\n",
       "      <td>CD24</td>\n",
       "      <td>CD24 molecule [Source:HGNC Symbol;Acc:HGNC:1645]</td>\n",
       "      <td>ENTREZGENE,GENECARDS,HGNC,UNIPROT_GN,WIKIGENE</td>\n",
       "      <td>query_1</td>\n",
       "    </tr>\n",
       "    <tr>\n",
       "      <th>3</th>\n",
       "      <td>SH2B3</td>\n",
       "      <td>ENSG00000111252</td>\n",
       "      <td>4</td>\n",
       "      <td>1</td>\n",
       "      <td>SH2B3</td>\n",
       "      <td>SH2B adaptor protein 3 [Source:HGNC Symbol;Acc...</td>\n",
       "      <td>ENTREZGENE,GENECARDS,HGNC,UNIPROT_GN,WIKIGENE</td>\n",
       "      <td>query_1</td>\n",
       "    </tr>\n",
       "    <tr>\n",
       "      <th>4</th>\n",
       "      <td>GNE</td>\n",
       "      <td>ENSG00000159921</td>\n",
       "      <td>5</td>\n",
       "      <td>1</td>\n",
       "      <td>GNE</td>\n",
       "      <td>glucosamine (UDP-N-acetyl)-2-epimerase/N-acety...</td>\n",
       "      <td>ENTREZGENE,GENECARDS,HGNC,UNIPROT_GN,WIKIGENE</td>\n",
       "      <td>query_1</td>\n",
       "    </tr>\n",
       "    <tr>\n",
       "      <th>...</th>\n",
       "      <td>...</td>\n",
       "      <td>...</td>\n",
       "      <td>...</td>\n",
       "      <td>...</td>\n",
       "      <td>...</td>\n",
       "      <td>...</td>\n",
       "      <td>...</td>\n",
       "      <td>...</td>\n",
       "    </tr>\n",
       "    <tr>\n",
       "      <th>1199</th>\n",
       "      <td>RBM8A</td>\n",
       "      <td>ENSG00000265241</td>\n",
       "      <td>1185</td>\n",
       "      <td>1</td>\n",
       "      <td>RBM8A</td>\n",
       "      <td>RNA binding motif protein 8A [Source:HGNC Symb...</td>\n",
       "      <td>ENTREZGENE,GENECARDS,HGNC,UNIPROT_GN,WIKIGENE</td>\n",
       "      <td>query_1</td>\n",
       "    </tr>\n",
       "    <tr>\n",
       "      <th>1200</th>\n",
       "      <td>GOLGA5</td>\n",
       "      <td>ENSG00000066455</td>\n",
       "      <td>1186</td>\n",
       "      <td>1</td>\n",
       "      <td>GOLGA5</td>\n",
       "      <td>golgin A5 [Source:HGNC Symbol;Acc:HGNC:4428]</td>\n",
       "      <td>ENTREZGENE,GENECARDS,HGNC,UNIPROT_GN,WIKIGENE</td>\n",
       "      <td>query_1</td>\n",
       "    </tr>\n",
       "    <tr>\n",
       "      <th>1201</th>\n",
       "      <td>CDH1</td>\n",
       "      <td>ENSG00000039068</td>\n",
       "      <td>1187</td>\n",
       "      <td>1</td>\n",
       "      <td>CDH1</td>\n",
       "      <td>cadherin 1 [Source:HGNC Symbol;Acc:HGNC:1748]</td>\n",
       "      <td>ENTREZGENE,GENECARDS,HGNC,UNIPROT_GN,WIKIGENE</td>\n",
       "      <td>query_1</td>\n",
       "    </tr>\n",
       "    <tr>\n",
       "      <th>1202</th>\n",
       "      <td>KCNE2</td>\n",
       "      <td>ENSG00000159197</td>\n",
       "      <td>1188</td>\n",
       "      <td>1</td>\n",
       "      <td>KCNE2</td>\n",
       "      <td>potassium voltage-gated channel subfamily E re...</td>\n",
       "      <td>ENTREZGENE,GENECARDS,HGNC,UNIPROT_GN,WIKIGENE</td>\n",
       "      <td>query_1</td>\n",
       "    </tr>\n",
       "    <tr>\n",
       "      <th>1203</th>\n",
       "      <td>SCO2</td>\n",
       "      <td>ENSG00000284194</td>\n",
       "      <td>1189</td>\n",
       "      <td>1</td>\n",
       "      <td>SCO2</td>\n",
       "      <td>synthesis of cytochrome C oxidase 2 [Source:HG...</td>\n",
       "      <td>ENTREZGENE,GENECARDS,HGNC,UNIPROT_GN,WIKIGENE</td>\n",
       "      <td>query_1</td>\n",
       "    </tr>\n",
       "  </tbody>\n",
       "</table>\n",
       "<p>1204 rows × 8 columns</p>\n",
       "</div>"
      ],
      "text/plain": [
       "     incoming        converted  n_incoming  n_converted    name  \\\n",
       "0       NR2E3  ENSG00000278570           1            1   NR2E3   \n",
       "1       KCNE3  ENSG00000175538           2            1   KCNE3   \n",
       "2        CD24  ENSG00000272398           3            1    CD24   \n",
       "3       SH2B3  ENSG00000111252           4            1   SH2B3   \n",
       "4         GNE  ENSG00000159921           5            1     GNE   \n",
       "...       ...              ...         ...          ...     ...   \n",
       "1199    RBM8A  ENSG00000265241        1185            1   RBM8A   \n",
       "1200   GOLGA5  ENSG00000066455        1186            1  GOLGA5   \n",
       "1201     CDH1  ENSG00000039068        1187            1    CDH1   \n",
       "1202    KCNE2  ENSG00000159197        1188            1   KCNE2   \n",
       "1203     SCO2  ENSG00000284194        1189            1    SCO2   \n",
       "\n",
       "                                            description  \\\n",
       "0     nuclear receptor subfamily 2 group E member 3 ...   \n",
       "1     potassium voltage-gated channel subfamily E re...   \n",
       "2      CD24 molecule [Source:HGNC Symbol;Acc:HGNC:1645]   \n",
       "3     SH2B adaptor protein 3 [Source:HGNC Symbol;Acc...   \n",
       "4     glucosamine (UDP-N-acetyl)-2-epimerase/N-acety...   \n",
       "...                                                 ...   \n",
       "1199  RNA binding motif protein 8A [Source:HGNC Symb...   \n",
       "1200       golgin A5 [Source:HGNC Symbol;Acc:HGNC:4428]   \n",
       "1201      cadherin 1 [Source:HGNC Symbol;Acc:HGNC:1748]   \n",
       "1202  potassium voltage-gated channel subfamily E re...   \n",
       "1203  synthesis of cytochrome C oxidase 2 [Source:HG...   \n",
       "\n",
       "                                         namespaces    query  \n",
       "0     ENTREZGENE,GENECARDS,HGNC,UNIPROT_GN,WIKIGENE  query_1  \n",
       "1     ENTREZGENE,GENECARDS,HGNC,UNIPROT_GN,WIKIGENE  query_1  \n",
       "2     ENTREZGENE,GENECARDS,HGNC,UNIPROT_GN,WIKIGENE  query_1  \n",
       "3     ENTREZGENE,GENECARDS,HGNC,UNIPROT_GN,WIKIGENE  query_1  \n",
       "4     ENTREZGENE,GENECARDS,HGNC,UNIPROT_GN,WIKIGENE  query_1  \n",
       "...                                             ...      ...  \n",
       "1199  ENTREZGENE,GENECARDS,HGNC,UNIPROT_GN,WIKIGENE  query_1  \n",
       "1200  ENTREZGENE,GENECARDS,HGNC,UNIPROT_GN,WIKIGENE  query_1  \n",
       "1201  ENTREZGENE,GENECARDS,HGNC,UNIPROT_GN,WIKIGENE  query_1  \n",
       "1202  ENTREZGENE,GENECARDS,HGNC,UNIPROT_GN,WIKIGENE  query_1  \n",
       "1203  ENTREZGENE,GENECARDS,HGNC,UNIPROT_GN,WIKIGENE  query_1  \n",
       "\n",
       "[1204 rows x 8 columns]"
      ]
     },
     "execution_count": 120,
     "metadata": {},
     "output_type": "execute_result"
    }
   ],
   "source": [
    "from gprofiler import GProfiler\n",
    "\n",
    "gp = GProfiler(return_dataframe=True)\n",
    "gp_convert_df =gp.convert(organism  = 'hsapiens',\n",
    "                            query= xls['symbol'].to_list(),\n",
    "                                target_namespace= 'ENSG')\n",
    "gp_convert_df"
   ]
  },
  {
   "cell_type": "code",
   "execution_count": 121,
   "metadata": {},
   "outputs": [
    {
     "data": {
      "text/plain": [
       "MKKS        3\n",
       "SMN1        2\n",
       "HPS1        2\n",
       "FOXP3       2\n",
       "HLA-DQA1    2\n",
       "HBA2        2\n",
       "HBA1        2\n",
       "CARD9       2\n",
       "SMN2        2\n",
       "TREX1       2\n",
       "Name: incoming, dtype: int64"
      ]
     },
     "execution_count": 121,
     "metadata": {},
     "output_type": "execute_result"
    }
   ],
   "source": [
    "gp_convert_df[\"incoming\"].value_counts().head(10)"
   ]
  },
  {
   "cell_type": "code",
   "execution_count": 122,
   "metadata": {},
   "outputs": [
    {
     "data": {
      "text/html": [
       "<div>\n",
       "<style scoped>\n",
       "    .dataframe tbody tr th:only-of-type {\n",
       "        vertical-align: middle;\n",
       "    }\n",
       "\n",
       "    .dataframe tbody tr th {\n",
       "        vertical-align: top;\n",
       "    }\n",
       "\n",
       "    .dataframe thead th {\n",
       "        text-align: right;\n",
       "    }\n",
       "</style>\n",
       "<table border=\"1\" class=\"dataframe\">\n",
       "  <thead>\n",
       "    <tr style=\"text-align: right;\">\n",
       "      <th></th>\n",
       "      <th>incoming</th>\n",
       "      <th>converted</th>\n",
       "      <th>n_incoming</th>\n",
       "      <th>n_converted</th>\n",
       "      <th>name</th>\n",
       "      <th>description</th>\n",
       "      <th>namespaces</th>\n",
       "      <th>query</th>\n",
       "    </tr>\n",
       "  </thead>\n",
       "  <tbody>\n",
       "    <tr>\n",
       "      <th>1073</th>\n",
       "      <td>MKKS</td>\n",
       "      <td>ENSG00000125863</td>\n",
       "      <td>1062</td>\n",
       "      <td>1</td>\n",
       "      <td>MKKS</td>\n",
       "      <td>MKKS centrosomal shuttling protein [Source:HGN...</td>\n",
       "      <td>ENTREZGENE,GENECARDS,HGNC,UNIPROT_GN,WIKIGENE</td>\n",
       "      <td>query_1</td>\n",
       "    </tr>\n",
       "    <tr>\n",
       "      <th>1074</th>\n",
       "      <td>MKKS</td>\n",
       "      <td>ENSG00000285508</td>\n",
       "      <td>1062</td>\n",
       "      <td>2</td>\n",
       "      <td>MKKS</td>\n",
       "      <td>MKKS centrosomal shuttling protein [Source:NCB...</td>\n",
       "      <td>ENTREZGENE,GENECARDS,HGNC,UNIPROT_GN,WIKIGENE</td>\n",
       "      <td>query_1</td>\n",
       "    </tr>\n",
       "    <tr>\n",
       "      <th>1075</th>\n",
       "      <td>MKKS</td>\n",
       "      <td>ENSG00000285723</td>\n",
       "      <td>1062</td>\n",
       "      <td>3</td>\n",
       "      <td>MKKS</td>\n",
       "      <td>MKKS centrosomal shuttling protein [Source:NCB...</td>\n",
       "      <td>ENTREZGENE,GENECARDS,HGNC,UNIPROT_GN,WIKIGENE</td>\n",
       "      <td>query_1</td>\n",
       "    </tr>\n",
       "  </tbody>\n",
       "</table>\n",
       "</div>"
      ],
      "text/plain": [
       "     incoming        converted  n_incoming  n_converted  name  \\\n",
       "1073     MKKS  ENSG00000125863        1062            1  MKKS   \n",
       "1074     MKKS  ENSG00000285508        1062            2  MKKS   \n",
       "1075     MKKS  ENSG00000285723        1062            3  MKKS   \n",
       "\n",
       "                                            description  \\\n",
       "1073  MKKS centrosomal shuttling protein [Source:HGN...   \n",
       "1074  MKKS centrosomal shuttling protein [Source:NCB...   \n",
       "1075  MKKS centrosomal shuttling protein [Source:NCB...   \n",
       "\n",
       "                                         namespaces    query  \n",
       "1073  ENTREZGENE,GENECARDS,HGNC,UNIPROT_GN,WIKIGENE  query_1  \n",
       "1074  ENTREZGENE,GENECARDS,HGNC,UNIPROT_GN,WIKIGENE  query_1  \n",
       "1075  ENTREZGENE,GENECARDS,HGNC,UNIPROT_GN,WIKIGENE  query_1  "
      ]
     },
     "execution_count": 122,
     "metadata": {},
     "output_type": "execute_result"
    }
   ],
   "source": [
    "a= gp_convert_df[gp_convert_df[\"incoming\"]=='MKKS']\n",
    "a"
   ]
  },
  {
   "cell_type": "markdown",
   "metadata": {},
   "source": [
    "## Compare the NCBI dataset with the Ensemble dataset"
   ]
  },
  {
   "cell_type": "code",
   "execution_count": 137,
   "metadata": {},
   "outputs": [],
   "source": [
    "sfari= pd.read_csv(\"sfari_ed.csv\")\n",
    "sfari= sfari[\"ensembl-id\"]"
   ]
  },
  {
   "cell_type": "code",
   "execution_count": 142,
   "metadata": {},
   "outputs": [],
   "source": [
    "positive= set(sfari)\n",
    "negative= set(gp_convert_df[\"converted\"])"
   ]
  },
  {
   "cell_type": "code",
   "execution_count": 143,
   "metadata": {},
   "outputs": [
    {
     "data": {
      "text/plain": [
       "<matplotlib_venn._common.VennDiagram at 0x143acf12790>"
      ]
     },
     "execution_count": 143,
     "metadata": {},
     "output_type": "execute_result"
    },
    {
     "data": {
      "image/png": "[encoded data removed]",
      "text/plain": [
       "<Figure size 640x480 with 1 Axes>"
      ]
     },
     "metadata": {},
     "output_type": "display_data"
    }
   ],
   "source": [
    "matplotlib_venn.venn2([positive, negative ], set_labels=[\"positive\", \"negative\" ])"
   ]
  },
  {
   "cell_type": "code",
   "execution_count": 145,
   "metadata": {},
   "outputs": [
    {
     "data": {
      "text/plain": [
       "80"
      ]
     },
     "execution_count": 145,
     "metadata": {},
     "output_type": "execute_result"
    }
   ],
   "source": [
    "cross =positive & negative\n",
    "len(cross)"
   ]
  },
  {
   "cell_type": "code",
   "execution_count": 146,
   "metadata": {},
   "outputs": [
    {
     "data": {
      "text/html": [
       "<div>\n",
       "<style scoped>\n",
       "    .dataframe tbody tr th:only-of-type {\n",
       "        vertical-align: middle;\n",
       "    }\n",
       "\n",
       "    .dataframe tbody tr th {\n",
       "        vertical-align: top;\n",
       "    }\n",
       "\n",
       "    .dataframe thead th {\n",
       "        text-align: right;\n",
       "    }\n",
       "</style>\n",
       "<table border=\"1\" class=\"dataframe\">\n",
       "  <thead>\n",
       "    <tr style=\"text-align: right;\">\n",
       "      <th></th>\n",
       "      <th>gene</th>\n",
       "      <th>y</th>\n",
       "    </tr>\n",
       "  </thead>\n",
       "  <tbody>\n",
       "    <tr>\n",
       "      <th>0</th>\n",
       "      <td>ENSG00000169057</td>\n",
       "      <td>1</td>\n",
       "    </tr>\n",
       "    <tr>\n",
       "      <th>1</th>\n",
       "      <td>ENSG00000185960</td>\n",
       "      <td>1</td>\n",
       "    </tr>\n",
       "    <tr>\n",
       "      <th>2</th>\n",
       "      <td>ENSG00000006377</td>\n",
       "      <td>1</td>\n",
       "    </tr>\n",
       "    <tr>\n",
       "      <th>3</th>\n",
       "      <td>ENSG00000137713</td>\n",
       "      <td>1</td>\n",
       "    </tr>\n",
       "    <tr>\n",
       "      <th>4</th>\n",
       "      <td>ENSG00000164604</td>\n",
       "      <td>1</td>\n",
       "    </tr>\n",
       "    <tr>\n",
       "      <th>...</th>\n",
       "      <td>...</td>\n",
       "      <td>...</td>\n",
       "    </tr>\n",
       "    <tr>\n",
       "      <th>1098</th>\n",
       "      <td>ENSG00000241635</td>\n",
       "      <td>0</td>\n",
       "    </tr>\n",
       "    <tr>\n",
       "      <th>1099</th>\n",
       "      <td>ENSG00000015285</td>\n",
       "      <td>0</td>\n",
       "    </tr>\n",
       "    <tr>\n",
       "      <th>1100</th>\n",
       "      <td>ENSG00000163093</td>\n",
       "      <td>0</td>\n",
       "    </tr>\n",
       "    <tr>\n",
       "      <th>1101</th>\n",
       "      <td>ENSG00000165730</td>\n",
       "      <td>0</td>\n",
       "    </tr>\n",
       "    <tr>\n",
       "      <th>1102</th>\n",
       "      <td>ENSG00000105697</td>\n",
       "      <td>0</td>\n",
       "    </tr>\n",
       "  </tbody>\n",
       "</table>\n",
       "<p>2241 rows × 2 columns</p>\n",
       "</div>"
      ],
      "text/plain": [
       "                 gene  y\n",
       "0     ENSG00000169057  1\n",
       "1     ENSG00000185960  1\n",
       "2     ENSG00000006377  1\n",
       "3     ENSG00000137713  1\n",
       "4     ENSG00000164604  1\n",
       "...               ... ..\n",
       "1098  ENSG00000241635  0\n",
       "1099  ENSG00000015285  0\n",
       "1100  ENSG00000163093  0\n",
       "1101  ENSG00000165730  0\n",
       "1102  ENSG00000105697  0\n",
       "\n",
       "[2241 rows x 2 columns]"
      ]
     },
     "execution_count": 146,
     "metadata": {},
     "output_type": "execute_result"
    }
   ],
   "source": [
    "negative= negative - cross\n",
    "\n",
    "positive=pd.DataFrame(positive)\n",
    "positive[\"y\"]=1\n",
    "negative=pd.DataFrame(negative)\n",
    "negative[\"y\"]=0\n",
    "\n",
    "gene_list= pd.concat([positive, negative])\n",
    "gene_list.columns=[\"gene\", \"y\"]\n",
    "gene_list"
   ]
  },
  {
   "cell_type": "code",
   "execution_count": null,
   "metadata": {},
   "outputs": [],
   "source": []
  }
 ],
 "metadata": {
  "kernelspec": {
   "display_name": "dna",
   "language": "python",
   "name": "python3"
  },
  "language_info": {
   "codemirror_mode": {
    "name": "ipython",
    "version": 3
   },
   "file_extension": ".py",
   "mimetype": "text/x-python",
   "name": "python",
   "nbconvert_exporter": "python",
   "pygments_lexer": "ipython3",
   "version": "3.8.18"
  }
 },
 "nbformat": 4,
 "nbformat_minor": 2
}
