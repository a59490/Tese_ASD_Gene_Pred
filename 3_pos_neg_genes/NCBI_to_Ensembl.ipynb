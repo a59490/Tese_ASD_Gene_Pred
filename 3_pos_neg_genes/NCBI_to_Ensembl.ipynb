{
 "cells": [
  {
   "cell_type": "markdown",
   "metadata": {},
   "source": [
    "# NCBI id to Ensemble id"
   ]
  },
  {
   "cell_type": "code",
   "execution_count": 39,
   "metadata": {},
   "outputs": [],
   "source": [
    "import csv\n",
    "import pandas as pd\n",
    "import numpy as np\n",
    "from Bio import Entrez\n",
    "import matplotlib_venn"
   ]
  },
  {
   "cell_type": "code",
   "execution_count": 40,
   "metadata": {},
   "outputs": [],
   "source": [
    "xls = pd.read_excel(\"Negative_Positive_genes.xlsx\", sheet_name=1)\n",
    "NCBI_id = xls[\"gene id\"].astype(str).to_list()"
   ]
  },
  {
   "cell_type": "code",
   "execution_count": 41,
   "metadata": {},
   "outputs": [
    {
     "name": "stdout",
     "output_type": "stream",
     "text": [
      "There are 1189 negative genes\n"
     ]
    }
   ],
   "source": [
    "print(f'There are {len(NCBI_id)} negative genes')"
   ]
  },
  {
   "cell_type": "code",
   "execution_count": 42,
   "metadata": {},
   "outputs": [
    {
     "data": {
      "text/html": [
       "<div>\n",
       "<style scoped>\n",
       "    .dataframe tbody tr th:only-of-type {\n",
       "        vertical-align: middle;\n",
       "    }\n",
       "\n",
       "    .dataframe tbody tr th {\n",
       "        vertical-align: top;\n",
       "    }\n",
       "\n",
       "    .dataframe thead th {\n",
       "        text-align: right;\n",
       "    }\n",
       "</style>\n",
       "<table border=\"1\" class=\"dataframe\">\n",
       "  <thead>\n",
       "    <tr style=\"text-align: right;\">\n",
       "      <th></th>\n",
       "      <th>gene id</th>\n",
       "      <th>symbol</th>\n",
       "    </tr>\n",
       "  </thead>\n",
       "  <tbody>\n",
       "    <tr>\n",
       "      <th>0</th>\n",
       "      <td>10002</td>\n",
       "      <td>NR2E3</td>\n",
       "    </tr>\n",
       "    <tr>\n",
       "      <th>1</th>\n",
       "      <td>10008</td>\n",
       "      <td>KCNE3</td>\n",
       "    </tr>\n",
       "    <tr>\n",
       "      <th>2</th>\n",
       "      <td>100133941</td>\n",
       "      <td>CD24</td>\n",
       "    </tr>\n",
       "    <tr>\n",
       "      <th>3</th>\n",
       "      <td>10019</td>\n",
       "      <td>SH2B3</td>\n",
       "    </tr>\n",
       "    <tr>\n",
       "      <th>4</th>\n",
       "      <td>10020</td>\n",
       "      <td>GNE</td>\n",
       "    </tr>\n",
       "    <tr>\n",
       "      <th>5</th>\n",
       "      <td>10021</td>\n",
       "      <td>HCN4</td>\n",
       "    </tr>\n",
       "    <tr>\n",
       "      <th>6</th>\n",
       "      <td>10046</td>\n",
       "      <td>MAMLD1</td>\n",
       "    </tr>\n",
       "    <tr>\n",
       "      <th>7</th>\n",
       "      <td>100506658</td>\n",
       "      <td>OCLN</td>\n",
       "    </tr>\n",
       "    <tr>\n",
       "      <th>8</th>\n",
       "      <td>10060</td>\n",
       "      <td>ABCC9</td>\n",
       "    </tr>\n",
       "    <tr>\n",
       "      <th>9</th>\n",
       "      <td>10083</td>\n",
       "      <td>USH1C</td>\n",
       "    </tr>\n",
       "  </tbody>\n",
       "</table>\n",
       "</div>"
      ],
      "text/plain": [
       "     gene id  symbol\n",
       "0      10002   NR2E3\n",
       "1      10008   KCNE3\n",
       "2  100133941    CD24\n",
       "3      10019   SH2B3\n",
       "4      10020     GNE\n",
       "5      10021    HCN4\n",
       "6      10046  MAMLD1\n",
       "7  100506658    OCLN\n",
       "8      10060   ABCC9\n",
       "9      10083   USH1C"
      ]
     },
     "execution_count": 42,
     "metadata": {},
     "output_type": "execute_result"
    }
   ],
   "source": [
    "xls.head(10)"
   ]
  },
  {
   "cell_type": "code",
   "execution_count": 43,
   "metadata": {},
   "outputs": [
    {
     "data": {
      "text/plain": [
       "gene id    0\n",
       "symbol     0\n",
       "dtype: int64"
      ]
     },
     "execution_count": 43,
     "metadata": {},
     "output_type": "execute_result"
    }
   ],
   "source": [
    "# check null values\n",
    "xls.isnull().sum()"
   ]
  },
  {
   "cell_type": "markdown",
   "metadata": {},
   "source": [
    "# G Profiler"
   ]
  },
  {
   "cell_type": "code",
   "execution_count": 44,
   "metadata": {},
   "outputs": [
    {
     "data": {
      "text/html": [
       "<div>\n",
       "<style scoped>\n",
       "    .dataframe tbody tr th:only-of-type {\n",
       "        vertical-align: middle;\n",
       "    }\n",
       "\n",
       "    .dataframe tbody tr th {\n",
       "        vertical-align: top;\n",
       "    }\n",
       "\n",
       "    .dataframe thead th {\n",
       "        text-align: right;\n",
       "    }\n",
       "</style>\n",
       "<table border=\"1\" class=\"dataframe\">\n",
       "  <thead>\n",
       "    <tr style=\"text-align: right;\">\n",
       "      <th></th>\n",
       "      <th>gene id</th>\n",
       "      <th>symbol</th>\n",
       "    </tr>\n",
       "  </thead>\n",
       "  <tbody>\n",
       "    <tr>\n",
       "      <th>0</th>\n",
       "      <td>10002</td>\n",
       "      <td>NR2E3</td>\n",
       "    </tr>\n",
       "    <tr>\n",
       "      <th>1</th>\n",
       "      <td>10008</td>\n",
       "      <td>KCNE3</td>\n",
       "    </tr>\n",
       "    <tr>\n",
       "      <th>2</th>\n",
       "      <td>100133941</td>\n",
       "      <td>CD24</td>\n",
       "    </tr>\n",
       "    <tr>\n",
       "      <th>3</th>\n",
       "      <td>10019</td>\n",
       "      <td>SH2B3</td>\n",
       "    </tr>\n",
       "    <tr>\n",
       "      <th>4</th>\n",
       "      <td>10020</td>\n",
       "      <td>GNE</td>\n",
       "    </tr>\n",
       "    <tr>\n",
       "      <th>...</th>\n",
       "      <td>...</td>\n",
       "      <td>...</td>\n",
       "    </tr>\n",
       "    <tr>\n",
       "      <th>1184</th>\n",
       "      <td>9939</td>\n",
       "      <td>RBM8A</td>\n",
       "    </tr>\n",
       "    <tr>\n",
       "      <th>1185</th>\n",
       "      <td>9950</td>\n",
       "      <td>GOLGA5</td>\n",
       "    </tr>\n",
       "    <tr>\n",
       "      <th>1186</th>\n",
       "      <td>999</td>\n",
       "      <td>CDH1</td>\n",
       "    </tr>\n",
       "    <tr>\n",
       "      <th>1187</th>\n",
       "      <td>9992</td>\n",
       "      <td>KCNE2</td>\n",
       "    </tr>\n",
       "    <tr>\n",
       "      <th>1188</th>\n",
       "      <td>9997</td>\n",
       "      <td>SCO2</td>\n",
       "    </tr>\n",
       "  </tbody>\n",
       "</table>\n",
       "<p>1189 rows × 2 columns</p>\n",
       "</div>"
      ],
      "text/plain": [
       "        gene id  symbol\n",
       "0         10002   NR2E3\n",
       "1         10008   KCNE3\n",
       "2     100133941    CD24\n",
       "3         10019   SH2B3\n",
       "4         10020     GNE\n",
       "...         ...     ...\n",
       "1184       9939   RBM8A\n",
       "1185       9950  GOLGA5\n",
       "1186        999    CDH1\n",
       "1187       9992   KCNE2\n",
       "1188       9997    SCO2\n",
       "\n",
       "[1189 rows x 2 columns]"
      ]
     },
     "execution_count": 44,
     "metadata": {},
     "output_type": "execute_result"
    }
   ],
   "source": [
    "xls['symbol']= xls['symbol'].astype(str)\n",
    "xls"
   ]
  },
  {
   "cell_type": "code",
   "execution_count": 45,
   "metadata": {},
   "outputs": [
    {
     "data": {
      "text/html": [
       "<div>\n",
       "<style scoped>\n",
       "    .dataframe tbody tr th:only-of-type {\n",
       "        vertical-align: middle;\n",
       "    }\n",
       "\n",
       "    .dataframe tbody tr th {\n",
       "        vertical-align: top;\n",
       "    }\n",
       "\n",
       "    .dataframe thead th {\n",
       "        text-align: right;\n",
       "    }\n",
       "</style>\n",
       "<table border=\"1\" class=\"dataframe\">\n",
       "  <thead>\n",
       "    <tr style=\"text-align: right;\">\n",
       "      <th></th>\n",
       "      <th>incoming</th>\n",
       "      <th>converted</th>\n",
       "      <th>n_incoming</th>\n",
       "      <th>n_converted</th>\n",
       "      <th>name</th>\n",
       "      <th>description</th>\n",
       "      <th>namespaces</th>\n",
       "      <th>query</th>\n",
       "    </tr>\n",
       "  </thead>\n",
       "  <tbody>\n",
       "    <tr>\n",
       "      <th>0</th>\n",
       "      <td>NR2E3</td>\n",
       "      <td>ENSG00000278570</td>\n",
       "      <td>1</td>\n",
       "      <td>1</td>\n",
       "      <td>NR2E3</td>\n",
       "      <td>nuclear receptor subfamily 2 group E member 3 ...</td>\n",
       "      <td>ENTREZGENE,GENECARDS,HGNC,UNIPROT_GN,WIKIGENE</td>\n",
       "      <td>query_1</td>\n",
       "    </tr>\n",
       "    <tr>\n",
       "      <th>1</th>\n",
       "      <td>KCNE3</td>\n",
       "      <td>ENSG00000175538</td>\n",
       "      <td>2</td>\n",
       "      <td>1</td>\n",
       "      <td>KCNE3</td>\n",
       "      <td>potassium voltage-gated channel subfamily E re...</td>\n",
       "      <td>ENTREZGENE,GENECARDS,HGNC,UNIPROT_GN,WIKIGENE</td>\n",
       "      <td>query_1</td>\n",
       "    </tr>\n",
       "    <tr>\n",
       "      <th>2</th>\n",
       "      <td>CD24</td>\n",
       "      <td>ENSG00000272398</td>\n",
       "      <td>3</td>\n",
       "      <td>1</td>\n",
       "      <td>CD24</td>\n",
       "      <td>CD24 molecule [Source:HGNC Symbol;Acc:HGNC:1645]</td>\n",
       "      <td>ENTREZGENE,GENECARDS,HGNC,UNIPROT_GN,WIKIGENE</td>\n",
       "      <td>query_1</td>\n",
       "    </tr>\n",
       "    <tr>\n",
       "      <th>3</th>\n",
       "      <td>SH2B3</td>\n",
       "      <td>ENSG00000111252</td>\n",
       "      <td>4</td>\n",
       "      <td>1</td>\n",
       "      <td>SH2B3</td>\n",
       "      <td>SH2B adaptor protein 3 [Source:HGNC Symbol;Acc...</td>\n",
       "      <td>ENTREZGENE,GENECARDS,HGNC,UNIPROT_GN,WIKIGENE</td>\n",
       "      <td>query_1</td>\n",
       "    </tr>\n",
       "    <tr>\n",
       "      <th>4</th>\n",
       "      <td>GNE</td>\n",
       "      <td>ENSG00000159921</td>\n",
       "      <td>5</td>\n",
       "      <td>1</td>\n",
       "      <td>GNE</td>\n",
       "      <td>glucosamine (UDP-N-acetyl)-2-epimerase/N-acety...</td>\n",
       "      <td>ENTREZGENE,GENECARDS,HGNC,UNIPROT_GN,WIKIGENE</td>\n",
       "      <td>query_1</td>\n",
       "    </tr>\n",
       "    <tr>\n",
       "      <th>...</th>\n",
       "      <td>...</td>\n",
       "      <td>...</td>\n",
       "      <td>...</td>\n",
       "      <td>...</td>\n",
       "      <td>...</td>\n",
       "      <td>...</td>\n",
       "      <td>...</td>\n",
       "      <td>...</td>\n",
       "    </tr>\n",
       "    <tr>\n",
       "      <th>1199</th>\n",
       "      <td>RBM8A</td>\n",
       "      <td>ENSG00000265241</td>\n",
       "      <td>1185</td>\n",
       "      <td>1</td>\n",
       "      <td>RBM8A</td>\n",
       "      <td>RNA binding motif protein 8A [Source:HGNC Symb...</td>\n",
       "      <td>ENTREZGENE,GENECARDS,HGNC,UNIPROT_GN,WIKIGENE</td>\n",
       "      <td>query_1</td>\n",
       "    </tr>\n",
       "    <tr>\n",
       "      <th>1200</th>\n",
       "      <td>GOLGA5</td>\n",
       "      <td>ENSG00000066455</td>\n",
       "      <td>1186</td>\n",
       "      <td>1</td>\n",
       "      <td>GOLGA5</td>\n",
       "      <td>golgin A5 [Source:HGNC Symbol;Acc:HGNC:4428]</td>\n",
       "      <td>ENTREZGENE,GENECARDS,HGNC,UNIPROT_GN,WIKIGENE</td>\n",
       "      <td>query_1</td>\n",
       "    </tr>\n",
       "    <tr>\n",
       "      <th>1201</th>\n",
       "      <td>CDH1</td>\n",
       "      <td>ENSG00000039068</td>\n",
       "      <td>1187</td>\n",
       "      <td>1</td>\n",
       "      <td>CDH1</td>\n",
       "      <td>cadherin 1 [Source:HGNC Symbol;Acc:HGNC:1748]</td>\n",
       "      <td>ENTREZGENE,GENECARDS,HGNC,UNIPROT_GN,WIKIGENE</td>\n",
       "      <td>query_1</td>\n",
       "    </tr>\n",
       "    <tr>\n",
       "      <th>1202</th>\n",
       "      <td>KCNE2</td>\n",
       "      <td>ENSG00000159197</td>\n",
       "      <td>1188</td>\n",
       "      <td>1</td>\n",
       "      <td>KCNE2</td>\n",
       "      <td>potassium voltage-gated channel subfamily E re...</td>\n",
       "      <td>ENTREZGENE,GENECARDS,HGNC,UNIPROT_GN,WIKIGENE</td>\n",
       "      <td>query_1</td>\n",
       "    </tr>\n",
       "    <tr>\n",
       "      <th>1203</th>\n",
       "      <td>SCO2</td>\n",
       "      <td>ENSG00000284194</td>\n",
       "      <td>1189</td>\n",
       "      <td>1</td>\n",
       "      <td>SCO2</td>\n",
       "      <td>synthesis of cytochrome C oxidase 2 [Source:HG...</td>\n",
       "      <td>ENTREZGENE,GENECARDS,HGNC,UNIPROT_GN,WIKIGENE</td>\n",
       "      <td>query_1</td>\n",
       "    </tr>\n",
       "  </tbody>\n",
       "</table>\n",
       "<p>1204 rows × 8 columns</p>\n",
       "</div>"
      ],
      "text/plain": [
       "     incoming        converted  n_incoming  n_converted    name  \\\n",
       "0       NR2E3  ENSG00000278570           1            1   NR2E3   \n",
       "1       KCNE3  ENSG00000175538           2            1   KCNE3   \n",
       "2        CD24  ENSG00000272398           3            1    CD24   \n",
       "3       SH2B3  ENSG00000111252           4            1   SH2B3   \n",
       "4         GNE  ENSG00000159921           5            1     GNE   \n",
       "...       ...              ...         ...          ...     ...   \n",
       "1199    RBM8A  ENSG00000265241        1185            1   RBM8A   \n",
       "1200   GOLGA5  ENSG00000066455        1186            1  GOLGA5   \n",
       "1201     CDH1  ENSG00000039068        1187            1    CDH1   \n",
       "1202    KCNE2  ENSG00000159197        1188            1   KCNE2   \n",
       "1203     SCO2  ENSG00000284194        1189            1    SCO2   \n",
       "\n",
       "                                            description  \\\n",
       "0     nuclear receptor subfamily 2 group E member 3 ...   \n",
       "1     potassium voltage-gated channel subfamily E re...   \n",
       "2      CD24 molecule [Source:HGNC Symbol;Acc:HGNC:1645]   \n",
       "3     SH2B adaptor protein 3 [Source:HGNC Symbol;Acc...   \n",
       "4     glucosamine (UDP-N-acetyl)-2-epimerase/N-acety...   \n",
       "...                                                 ...   \n",
       "1199  RNA binding motif protein 8A [Source:HGNC Symb...   \n",
       "1200       golgin A5 [Source:HGNC Symbol;Acc:HGNC:4428]   \n",
       "1201      cadherin 1 [Source:HGNC Symbol;Acc:HGNC:1748]   \n",
       "1202  potassium voltage-gated channel subfamily E re...   \n",
       "1203  synthesis of cytochrome C oxidase 2 [Source:HG...   \n",
       "\n",
       "                                         namespaces    query  \n",
       "0     ENTREZGENE,GENECARDS,HGNC,UNIPROT_GN,WIKIGENE  query_1  \n",
       "1     ENTREZGENE,GENECARDS,HGNC,UNIPROT_GN,WIKIGENE  query_1  \n",
       "2     ENTREZGENE,GENECARDS,HGNC,UNIPROT_GN,WIKIGENE  query_1  \n",
       "3     ENTREZGENE,GENECARDS,HGNC,UNIPROT_GN,WIKIGENE  query_1  \n",
       "4     ENTREZGENE,GENECARDS,HGNC,UNIPROT_GN,WIKIGENE  query_1  \n",
       "...                                             ...      ...  \n",
       "1199  ENTREZGENE,GENECARDS,HGNC,UNIPROT_GN,WIKIGENE  query_1  \n",
       "1200  ENTREZGENE,GENECARDS,HGNC,UNIPROT_GN,WIKIGENE  query_1  \n",
       "1201  ENTREZGENE,GENECARDS,HGNC,UNIPROT_GN,WIKIGENE  query_1  \n",
       "1202  ENTREZGENE,GENECARDS,HGNC,UNIPROT_GN,WIKIGENE  query_1  \n",
       "1203  ENTREZGENE,GENECARDS,HGNC,UNIPROT_GN,WIKIGENE  query_1  \n",
       "\n",
       "[1204 rows x 8 columns]"
      ]
     },
     "execution_count": 45,
     "metadata": {},
     "output_type": "execute_result"
    }
   ],
   "source": [
    "from gprofiler import GProfiler\n",
    "\n",
    "gp = GProfiler(return_dataframe=True)\n",
    "gp_convert_df =gp.convert(organism  = 'hsapiens',\n",
    "                            query= xls['symbol'].to_list(),\n",
    "                                target_namespace= 'ENSG')\n",
    "gp_convert_df"
   ]
  },
  {
   "cell_type": "code",
   "execution_count": 46,
   "metadata": {},
   "outputs": [
    {
     "data": {
      "text/plain": [
       "MKKS        3\n",
       "SMN1        2\n",
       "HPS1        2\n",
       "FOXP3       2\n",
       "HLA-DQA1    2\n",
       "HBA2        2\n",
       "HBA1        2\n",
       "CARD9       2\n",
       "SMN2        2\n",
       "TREX1       2\n",
       "Name: incoming, dtype: int64"
      ]
     },
     "execution_count": 46,
     "metadata": {},
     "output_type": "execute_result"
    }
   ],
   "source": [
    "gp_convert_df[\"incoming\"].value_counts().head(10)"
   ]
  },
  {
   "cell_type": "code",
   "execution_count": 47,
   "metadata": {},
   "outputs": [
    {
     "data": {
      "text/html": [
       "<div>\n",
       "<style scoped>\n",
       "    .dataframe tbody tr th:only-of-type {\n",
       "        vertical-align: middle;\n",
       "    }\n",
       "\n",
       "    .dataframe tbody tr th {\n",
       "        vertical-align: top;\n",
       "    }\n",
       "\n",
       "    .dataframe thead th {\n",
       "        text-align: right;\n",
       "    }\n",
       "</style>\n",
       "<table border=\"1\" class=\"dataframe\">\n",
       "  <thead>\n",
       "    <tr style=\"text-align: right;\">\n",
       "      <th></th>\n",
       "      <th>incoming</th>\n",
       "      <th>converted</th>\n",
       "      <th>n_incoming</th>\n",
       "      <th>n_converted</th>\n",
       "      <th>name</th>\n",
       "      <th>description</th>\n",
       "      <th>namespaces</th>\n",
       "      <th>query</th>\n",
       "    </tr>\n",
       "  </thead>\n",
       "  <tbody>\n",
       "    <tr>\n",
       "      <th>1073</th>\n",
       "      <td>MKKS</td>\n",
       "      <td>ENSG00000125863</td>\n",
       "      <td>1062</td>\n",
       "      <td>1</td>\n",
       "      <td>MKKS</td>\n",
       "      <td>MKKS centrosomal shuttling protein [Source:HGN...</td>\n",
       "      <td>ENTREZGENE,GENECARDS,HGNC,UNIPROT_GN,WIKIGENE</td>\n",
       "      <td>query_1</td>\n",
       "    </tr>\n",
       "    <tr>\n",
       "      <th>1074</th>\n",
       "      <td>MKKS</td>\n",
       "      <td>ENSG00000285508</td>\n",
       "      <td>1062</td>\n",
       "      <td>2</td>\n",
       "      <td>MKKS</td>\n",
       "      <td>MKKS centrosomal shuttling protein [Source:NCB...</td>\n",
       "      <td>ENTREZGENE,GENECARDS,HGNC,UNIPROT_GN,WIKIGENE</td>\n",
       "      <td>query_1</td>\n",
       "    </tr>\n",
       "    <tr>\n",
       "      <th>1075</th>\n",
       "      <td>MKKS</td>\n",
       "      <td>ENSG00000285723</td>\n",
       "      <td>1062</td>\n",
       "      <td>3</td>\n",
       "      <td>MKKS</td>\n",
       "      <td>MKKS centrosomal shuttling protein [Source:NCB...</td>\n",
       "      <td>ENTREZGENE,GENECARDS,HGNC,UNIPROT_GN,WIKIGENE</td>\n",
       "      <td>query_1</td>\n",
       "    </tr>\n",
       "  </tbody>\n",
       "</table>\n",
       "</div>"
      ],
      "text/plain": [
       "     incoming        converted  n_incoming  n_converted  name  \\\n",
       "1073     MKKS  ENSG00000125863        1062            1  MKKS   \n",
       "1074     MKKS  ENSG00000285508        1062            2  MKKS   \n",
       "1075     MKKS  ENSG00000285723        1062            3  MKKS   \n",
       "\n",
       "                                            description  \\\n",
       "1073  MKKS centrosomal shuttling protein [Source:HGN...   \n",
       "1074  MKKS centrosomal shuttling protein [Source:NCB...   \n",
       "1075  MKKS centrosomal shuttling protein [Source:NCB...   \n",
       "\n",
       "                                         namespaces    query  \n",
       "1073  ENTREZGENE,GENECARDS,HGNC,UNIPROT_GN,WIKIGENE  query_1  \n",
       "1074  ENTREZGENE,GENECARDS,HGNC,UNIPROT_GN,WIKIGENE  query_1  \n",
       "1075  ENTREZGENE,GENECARDS,HGNC,UNIPROT_GN,WIKIGENE  query_1  "
      ]
     },
     "execution_count": 47,
     "metadata": {},
     "output_type": "execute_result"
    }
   ],
   "source": [
    "a= gp_convert_df[gp_convert_df[\"incoming\"]=='MKKS']\n",
    "a"
   ]
  },
  {
   "cell_type": "markdown",
   "metadata": {},
   "source": [
    "## Compare the NCBI dataset with the Ensemble dataset"
   ]
  },
  {
   "cell_type": "code",
   "execution_count": 48,
   "metadata": {},
   "outputs": [],
   "source": [
    "sfari= pd.read_csv(\"sfari_ed_01_16_2024.csv\")\n",
    "sfari= sfari[\"ensembl-id\"]"
   ]
  },
  {
   "cell_type": "code",
   "execution_count": 51,
   "metadata": {},
   "outputs": [],
   "source": [
    "positive= set(sfari)\n",
    "negative= set(gp_convert_df[\"converted\"])"
   ]
  },
  {
   "cell_type": "code",
   "execution_count": 53,
   "metadata": {},
   "outputs": [
    {
     "data": {
      "text/plain": [
       "<matplotlib_venn._common.VennDiagram at 0x1616599d6a0>"
      ]
     },
     "execution_count": 53,
     "metadata": {},
     "output_type": "execute_result"
    },
    {
     "data": {
      "image/png": "[encoded data removed]",
      "text/plain": [
       "<Figure size 640x480 with 1 Axes>"
      ]
     },
     "metadata": {},
     "output_type": "display_data"
    }
   ],
   "source": [
    "matplotlib_venn.venn2([positive, negative ], set_labels=[\"positive\", \"negative\" ])"
   ]
  },
  {
   "cell_type": "code",
   "execution_count": 54,
   "metadata": {},
   "outputs": [
    {
     "data": {
      "text/plain": [
       "81"
      ]
     },
     "execution_count": 54,
     "metadata": {},
     "output_type": "execute_result"
    }
   ],
   "source": [
    "cross =positive & negative\n",
    "len(cross)"
   ]
  },
  {
   "cell_type": "code",
   "execution_count": 55,
   "metadata": {},
   "outputs": [
    {
     "data": {
      "text/html": [
       "<div>\n",
       "<style scoped>\n",
       "    .dataframe tbody tr th:only-of-type {\n",
       "        vertical-align: middle;\n",
       "    }\n",
       "\n",
       "    .dataframe tbody tr th {\n",
       "        vertical-align: top;\n",
       "    }\n",
       "\n",
       "    .dataframe thead th {\n",
       "        text-align: right;\n",
       "    }\n",
       "</style>\n",
       "<table border=\"1\" class=\"dataframe\">\n",
       "  <thead>\n",
       "    <tr style=\"text-align: right;\">\n",
       "      <th></th>\n",
       "      <th>gene</th>\n",
       "      <th>y</th>\n",
       "    </tr>\n",
       "  </thead>\n",
       "  <tbody>\n",
       "    <tr>\n",
       "      <th>0</th>\n",
       "      <td>ENSG00000126012</td>\n",
       "      <td>1</td>\n",
       "    </tr>\n",
       "    <tr>\n",
       "      <th>1</th>\n",
       "      <td>ENSG00000148219</td>\n",
       "      <td>1</td>\n",
       "    </tr>\n",
       "    <tr>\n",
       "      <th>2</th>\n",
       "      <td>ENSG00000121653</td>\n",
       "      <td>1</td>\n",
       "    </tr>\n",
       "    <tr>\n",
       "      <th>3</th>\n",
       "      <td>ENSG00000124942</td>\n",
       "      <td>1</td>\n",
       "    </tr>\n",
       "    <tr>\n",
       "      <th>4</th>\n",
       "      <td>ENSG00000189108</td>\n",
       "      <td>1</td>\n",
       "    </tr>\n",
       "    <tr>\n",
       "      <th>5</th>\n",
       "      <td>ENSG00000106689</td>\n",
       "      <td>1</td>\n",
       "    </tr>\n",
       "    <tr>\n",
       "      <th>6</th>\n",
       "      <td>ENSG00000198689</td>\n",
       "      <td>1</td>\n",
       "    </tr>\n",
       "    <tr>\n",
       "      <th>7</th>\n",
       "      <td>ENSG00000133958</td>\n",
       "      <td>1</td>\n",
       "    </tr>\n",
       "    <tr>\n",
       "      <th>8</th>\n",
       "      <td>ENSG00000131711</td>\n",
       "      <td>1</td>\n",
       "    </tr>\n",
       "    <tr>\n",
       "      <th>9</th>\n",
       "      <td>ENSG00000172554</td>\n",
       "      <td>1</td>\n",
       "    </tr>\n",
       "    <tr>\n",
       "      <th>10</th>\n",
       "      <td>ENSG00000198728</td>\n",
       "      <td>1</td>\n",
       "    </tr>\n",
       "  </tbody>\n",
       "</table>\n",
       "</div>"
      ],
      "text/plain": [
       "               gene  y\n",
       "0   ENSG00000126012  1\n",
       "1   ENSG00000148219  1\n",
       "2   ENSG00000121653  1\n",
       "3   ENSG00000124942  1\n",
       "4   ENSG00000189108  1\n",
       "5   ENSG00000106689  1\n",
       "6   ENSG00000198689  1\n",
       "7   ENSG00000133958  1\n",
       "8   ENSG00000131711  1\n",
       "9   ENSG00000172554  1\n",
       "10  ENSG00000198728  1"
      ]
     },
     "execution_count": 55,
     "metadata": {},
     "output_type": "execute_result"
    }
   ],
   "source": [
    "negative= negative - cross\n",
    "\n",
    "positive=pd.DataFrame(positive)\n",
    "positive[\"y\"]=1\n",
    "negative=pd.DataFrame(negative)\n",
    "negative[\"y\"]=0\n",
    "\n",
    "gene_list= pd.concat([positive, negative])\n",
    "gene_list.columns=[\"gene\", \"y\"]\n",
    "gene_list.head(11)"
   ]
  },
  {
   "cell_type": "code",
   "execution_count": 57,
   "metadata": {},
   "outputs": [],
   "source": [
    "gene_list.to_csv(\"gene_list_01_16_2024.csv\", index=False)"
   ]
  },
  {
   "cell_type": "code",
   "execution_count": null,
   "metadata": {},
   "outputs": [],
   "source": []
  },
  {
   "cell_type": "code",
   "execution_count": null,
   "metadata": {},
   "outputs": [],
   "source": []
  }
 ],
 "metadata": {
  "kernelspec": {
   "display_name": "dna",
   "language": "python",
   "name": "python3"
  },
  "language_info": {
   "codemirror_mode": {
    "name": "ipython",
    "version": 3
   },
   "file_extension": ".py",
   "mimetype": "text/x-python",
   "name": "python",
   "nbconvert_exporter": "python",
   "pygments_lexer": "ipython3",
   "version": "3.8.18"
  }
 },
 "nbformat": 4,
 "nbformat_minor": 2
}
