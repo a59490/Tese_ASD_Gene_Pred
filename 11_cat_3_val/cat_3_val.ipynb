{
 "cells": [
  {
   "cell_type": "code",
   "execution_count": 35,
   "metadata": {},
   "outputs": [],
   "source": [
    "import pandas as pd\n",
    "import numpy as np\n",
    "import matplotlib.pyplot as plt\n",
    "import seaborn as sns\n",
    "\n"
   ]
  },
  {
   "cell_type": "code",
   "execution_count": 36,
   "metadata": {},
   "outputs": [],
   "source": [
    "sfari = pd.read_csv('sfari_ed_01_16_2024.csv')\n",
    "d_1 = pd.read_csv('d_1.csv',header=None)\n",
    "d_2 = pd.read_csv('d_2.csv',header=None)\n",
    "d_1_xgb = pd.read_csv('d_1_xgb.csv',header=None)"
   ]
  },
  {
   "cell_type": "code",
   "execution_count": 37,
   "metadata": {},
   "outputs": [
    {
     "name": "stdout",
     "output_type": "stream",
     "text": [
      "232\n"
     ]
    }
   ],
   "source": [
    "sfari = sfari[sfari[\"gene-score\"] == 1.0]\n",
    "cat_2_list = sfari[\"ensembl-id\"].tolist()\n",
    "print(len(cat_2_list))\n",
    "\n"
   ]
  },
  {
   "cell_type": "code",
   "execution_count": 38,
   "metadata": {},
   "outputs": [],
   "source": [
    "# count the number of genes of the sfari dataset that are in the d_1 dataset\n",
    "def count_genes_in(genelist,decil):\n",
    "    count = 0\n",
    "    for gene in genelist:\n",
    "        if gene in decil[0].tolist():\n",
    "            count += 1\n",
    "            \n",
    "    return count"
   ]
  },
  {
   "cell_type": "markdown",
   "metadata": {},
   "source": [
    "# Make a SFARI GMT\n"
   ]
  },
  {
   "cell_type": "code",
   "execution_count": 39,
   "metadata": {},
   "outputs": [],
   "source": [
    "sfari = pd.read_csv('sfari_ed_01_16_2024.csv')\n",
    "\n",
    "sfari_cat1=sfari[sfari[\"gene-score\"] == 1.0]\n",
    "cat_1_list = sfari_cat1[\"ensembl-id\"].tolist()\n",
    "\n",
    "sfari_cat2=sfari[sfari[\"gene-score\"] == 2.0]\n",
    "cat_2_list = sfari_cat2[\"ensembl-id\"].tolist()\n",
    "\n",
    "sfari_cat3=sfari[sfari[\"gene-score\"] == 3.0]\n",
    "cat_3_list = sfari_cat3[\"ensembl-id\"].tolist()\n",
    "\n",
    "sfari_full_list=sfari[\"ensembl-id\"].tolist()"
   ]
  },
  {
   "cell_type": "code",
   "execution_count": 40,
   "metadata": {},
   "outputs": [],
   "source": [
    "def make_gmt(gene_list,cat):\n",
    "        gene_string='\\t'.join(gene_list)\n",
    "        gmt_string='SFARI_'+cat+'\\t'+'Category: '+cat[-1] +'\\t'+gene_string+'\\n'\n",
    "        return gmt_string"
   ]
  },
  {
   "cell_type": "code",
   "execution_count": 41,
   "metadata": {},
   "outputs": [],
   "source": [
    "gmt_list = []\n",
    "cat_list=[(cat_1_list,'cat_1'),(cat_2_list,'cat_2'),(cat_3_list,'cat_3'),(sfari_full_list,'full')]\n",
    "for cat in cat_list:\n",
    "    gmt_list.append(make_gmt(cat[0],cat[1]))\n",
    "\n",
    "with open('gmt/sfari.gmt', 'w') as f:\n",
    "    for line in gmt_list:\n",
    "        f.write(line + \"\\n\") \n"
   ]
  },
  {
   "cell_type": "code",
   "execution_count": null,
   "metadata": {},
   "outputs": [],
   "source": []
  },
  {
   "cell_type": "code",
   "execution_count": null,
   "metadata": {},
   "outputs": [],
   "source": []
  }
 ],
 "metadata": {
  "kernelspec": {
   "display_name": "Python 3",
   "language": "python",
   "name": "python3"
  },
  "language_info": {
   "codemirror_mode": {
    "name": "ipython",
    "version": 3
   },
   "file_extension": ".py",
   "mimetype": "text/x-python",
   "name": "python",
   "nbconvert_exporter": "python",
   "pygments_lexer": "ipython3",
   "version": "3.12.2"
  }
 },
 "nbformat": 4,
 "nbformat_minor": 2
}
