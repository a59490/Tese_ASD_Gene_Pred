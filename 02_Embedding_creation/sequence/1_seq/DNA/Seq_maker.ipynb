{
 "cells": [
  {
   "cell_type": "code",
   "execution_count": 6,
   "id": "33ccc9c2",
   "metadata": {},
   "outputs": [],
   "source": [
    "from pyfaidx import Fasta\n",
    "import pandas as pd\n",
    "import matplotlib.pyplot as plt\n",
    "import seaborn as sns\n",
    "import numpy as np"
   ]
  },
  {
   "cell_type": "markdown",
   "id": "2df37b47",
   "metadata": {},
   "source": [
    "## Full list of the transcripts"
   ]
  },
  {
   "cell_type": "markdown",
   "id": "a306e92a",
   "metadata": {},
   "source": [
    "Não faz sentido ir buscar o gene id, "
   ]
  },
  {
   "cell_type": "code",
   "execution_count": 7,
   "id": "7634fe4b",
   "metadata": {},
   "outputs": [
    {
     "ename": "FastaNotFoundError",
     "evalue": "Cannot read FASTA from file Homo_sapiens.GRCh38.cdna.all.fa",
     "output_type": "error",
     "traceback": [
      "\u001b[1;31m---------------------------------------------------------------------------\u001b[0m",
      "\u001b[1;31mFileNotFoundError\u001b[0m                         Traceback (most recent call last)",
      "File \u001b[1;32mc:\\Users\\joaop\\anaconda3\\envs\\dna\\lib\\site-packages\\pyfaidx\\__init__.py:402\u001b[0m, in \u001b[0;36mFaidx.__init__\u001b[1;34m(self, filename, indexname, default_seq, key_function, as_raw, strict_bounds, read_ahead, mutable, split_char, duplicate_action, filt_function, one_based_attributes, read_long_names, sequence_always_upper, rebuild, build_index)\u001b[0m\n\u001b[0;32m    401\u001b[0m \u001b[38;5;28;01mtry\u001b[39;00m:\n\u001b[1;32m--> 402\u001b[0m     \u001b[38;5;28mself\u001b[39m\u001b[38;5;241m.\u001b[39mfile \u001b[38;5;241m=\u001b[39m \u001b[38;5;28;43mopen\u001b[39;49m\u001b[43m(\u001b[49m\u001b[43mfilename\u001b[49m\u001b[43m,\u001b[49m\u001b[43m \u001b[49m\u001b[38;5;124;43m'\u001b[39;49m\u001b[38;5;124;43mr+b\u001b[39;49m\u001b[38;5;124;43m'\u001b[39;49m\u001b[43m \u001b[49m\u001b[38;5;28;43;01mif\u001b[39;49;00m\u001b[43m \u001b[49m\u001b[43mmutable\u001b[49m\u001b[43m \u001b[49m\u001b[38;5;28;43;01melse\u001b[39;49;00m\u001b[43m \u001b[49m\u001b[38;5;124;43m'\u001b[39;49m\u001b[38;5;124;43mrb\u001b[39;49m\u001b[38;5;124;43m'\u001b[39;49m\u001b[43m)\u001b[49m\n\u001b[0;32m    403\u001b[0m \u001b[38;5;28;01mexcept\u001b[39;00m \u001b[38;5;167;01mIOError\u001b[39;00m:\n",
      "\u001b[1;31mFileNotFoundError\u001b[0m: [Errno 2] No such file or directory: 'Homo_sapiens.GRCh38.cdna.all.fa'",
      "\nDuring handling of the above exception, another exception occurred:\n",
      "\u001b[1;31mFastaNotFoundError\u001b[0m                        Traceback (most recent call last)",
      "Cell \u001b[1;32mIn[7], line 1\u001b[0m\n\u001b[1;32m----> 1\u001b[0m transcripts \u001b[38;5;241m=\u001b[39m \u001b[43mFasta\u001b[49m\u001b[43m(\u001b[49m\u001b[38;5;124;43m'\u001b[39;49m\u001b[38;5;124;43mHomo_sapiens.GRCh38.cdna.all.fa\u001b[39;49m\u001b[38;5;124;43m'\u001b[39;49m\u001b[43m)\u001b[49m\n\u001b[0;32m      3\u001b[0m transcript_sequence \u001b[38;5;241m=\u001b[39m pd\u001b[38;5;241m.\u001b[39mDataFrame(transcripts\u001b[38;5;241m.\u001b[39mkeys(), columns\u001b[38;5;241m=\u001b[39m[\u001b[38;5;124m\"\u001b[39m\u001b[38;5;124mid_version\u001b[39m\u001b[38;5;124m\"\u001b[39m])\n\u001b[0;32m      4\u001b[0m transcript_sequence[\u001b[38;5;124m\"\u001b[39m\u001b[38;5;124mTranscript_ID\u001b[39m\u001b[38;5;124m\"\u001b[39m]\u001b[38;5;241m=\u001b[39m transcript_sequence[\u001b[38;5;124m\"\u001b[39m\u001b[38;5;124mid_version\u001b[39m\u001b[38;5;124m\"\u001b[39m]\u001b[38;5;241m.\u001b[39mstr\u001b[38;5;241m.\u001b[39msplit(\u001b[38;5;124m\"\u001b[39m\u001b[38;5;124m.\u001b[39m\u001b[38;5;124m\"\u001b[39m)\u001b[38;5;241m.\u001b[39mstr\u001b[38;5;241m.\u001b[39mget(\u001b[38;5;241m0\u001b[39m)\n",
      "File \u001b[1;32mc:\\Users\\joaop\\anaconda3\\envs\\dna\\lib\\site-packages\\pyfaidx\\__init__.py:1100\u001b[0m, in \u001b[0;36mFasta.__init__\u001b[1;34m(self, filename, indexname, default_seq, key_function, as_raw, strict_bounds, read_ahead, mutable, split_char, filt_function, one_based_attributes, read_long_names, duplicate_action, sequence_always_upper, rebuild, build_index)\u001b[0m\n\u001b[0;32m   1094\u001b[0m \u001b[38;5;250m\u001b[39m\u001b[38;5;124;03m\"\"\"\u001b[39;00m\n\u001b[0;32m   1095\u001b[0m \u001b[38;5;124;03mAn object that provides a pygr compatible interface.\u001b[39;00m\n\u001b[0;32m   1096\u001b[0m \u001b[38;5;124;03mfilename:  name of fasta file or fsspec.core.OpenFile instance\u001b[39;00m\n\u001b[0;32m   1097\u001b[0m \u001b[38;5;124;03mindexname: name of index file or fsspec.core.OpenFile instance\u001b[39;00m\n\u001b[0;32m   1098\u001b[0m \u001b[38;5;124;03m\"\"\"\u001b[39;00m\n\u001b[0;32m   1099\u001b[0m \u001b[38;5;28mself\u001b[39m\u001b[38;5;241m.\u001b[39mmutable \u001b[38;5;241m=\u001b[39m mutable\n\u001b[1;32m-> 1100\u001b[0m \u001b[38;5;28mself\u001b[39m\u001b[38;5;241m.\u001b[39mfaidx \u001b[38;5;241m=\u001b[39m \u001b[43mFaidx\u001b[49m\u001b[43m(\u001b[49m\n\u001b[0;32m   1101\u001b[0m \u001b[43m    \u001b[49m\u001b[43mfilename\u001b[49m\u001b[43m,\u001b[49m\n\u001b[0;32m   1102\u001b[0m \u001b[43m    \u001b[49m\u001b[43mindexname\u001b[49m\u001b[38;5;241;43m=\u001b[39;49m\u001b[43mindexname\u001b[49m\u001b[43m,\u001b[49m\n\u001b[0;32m   1103\u001b[0m \u001b[43m    \u001b[49m\u001b[43mkey_function\u001b[49m\u001b[38;5;241;43m=\u001b[39;49m\u001b[43mkey_function\u001b[49m\u001b[43m,\u001b[49m\n\u001b[0;32m   1104\u001b[0m \u001b[43m    \u001b[49m\u001b[43mas_raw\u001b[49m\u001b[38;5;241;43m=\u001b[39;49m\u001b[43mas_raw\u001b[49m\u001b[43m,\u001b[49m\n\u001b[0;32m   1105\u001b[0m \u001b[43m    \u001b[49m\u001b[43mdefault_seq\u001b[49m\u001b[38;5;241;43m=\u001b[39;49m\u001b[43mdefault_seq\u001b[49m\u001b[43m,\u001b[49m\n\u001b[0;32m   1106\u001b[0m \u001b[43m    \u001b[49m\u001b[43mstrict_bounds\u001b[49m\u001b[38;5;241;43m=\u001b[39;49m\u001b[43mstrict_bounds\u001b[49m\u001b[43m,\u001b[49m\n\u001b[0;32m   1107\u001b[0m \u001b[43m    \u001b[49m\u001b[43mread_ahead\u001b[49m\u001b[38;5;241;43m=\u001b[39;49m\u001b[43mread_ahead\u001b[49m\u001b[43m,\u001b[49m\n\u001b[0;32m   1108\u001b[0m \u001b[43m    \u001b[49m\u001b[43mmutable\u001b[49m\u001b[38;5;241;43m=\u001b[39;49m\u001b[43mmutable\u001b[49m\u001b[43m,\u001b[49m\n\u001b[0;32m   1109\u001b[0m \u001b[43m    \u001b[49m\u001b[43msplit_char\u001b[49m\u001b[38;5;241;43m=\u001b[39;49m\u001b[43msplit_char\u001b[49m\u001b[43m,\u001b[49m\n\u001b[0;32m   1110\u001b[0m \u001b[43m    \u001b[49m\u001b[43mfilt_function\u001b[49m\u001b[38;5;241;43m=\u001b[39;49m\u001b[43mfilt_function\u001b[49m\u001b[43m,\u001b[49m\n\u001b[0;32m   1111\u001b[0m \u001b[43m    \u001b[49m\u001b[43mone_based_attributes\u001b[49m\u001b[38;5;241;43m=\u001b[39;49m\u001b[43mone_based_attributes\u001b[49m\u001b[43m,\u001b[49m\n\u001b[0;32m   1112\u001b[0m \u001b[43m    \u001b[49m\u001b[43mread_long_names\u001b[49m\u001b[38;5;241;43m=\u001b[39;49m\u001b[43mread_long_names\u001b[49m\u001b[43m,\u001b[49m\n\u001b[0;32m   1113\u001b[0m \u001b[43m    \u001b[49m\u001b[43mduplicate_action\u001b[49m\u001b[38;5;241;43m=\u001b[39;49m\u001b[43mduplicate_action\u001b[49m\u001b[43m,\u001b[49m\n\u001b[0;32m   1114\u001b[0m \u001b[43m    \u001b[49m\u001b[43msequence_always_upper\u001b[49m\u001b[38;5;241;43m=\u001b[39;49m\u001b[43msequence_always_upper\u001b[49m\u001b[43m,\u001b[49m\n\u001b[0;32m   1115\u001b[0m \u001b[43m    \u001b[49m\u001b[43mrebuild\u001b[49m\u001b[38;5;241;43m=\u001b[39;49m\u001b[43mrebuild\u001b[49m\u001b[43m,\u001b[49m\n\u001b[0;32m   1116\u001b[0m \u001b[43m    \u001b[49m\u001b[43mbuild_index\u001b[49m\u001b[38;5;241;43m=\u001b[39;49m\u001b[43mbuild_index\u001b[49m\u001b[43m)\u001b[49m\n\u001b[0;32m   1118\u001b[0m \u001b[38;5;28mself\u001b[39m\u001b[38;5;241m.\u001b[39mfilename \u001b[38;5;241m=\u001b[39m \u001b[38;5;28mself\u001b[39m\u001b[38;5;241m.\u001b[39mfaidx\u001b[38;5;241m.\u001b[39mfilename\n\u001b[0;32m   1120\u001b[0m _record_constructor \u001b[38;5;241m=\u001b[39m MutableFastaRecord \u001b[38;5;28;01mif\u001b[39;00m \u001b[38;5;28mself\u001b[39m\u001b[38;5;241m.\u001b[39mmutable \u001b[38;5;28;01melse\u001b[39;00m FastaRecord\n",
      "File \u001b[1;32mc:\\Users\\joaop\\anaconda3\\envs\\dna\\lib\\site-packages\\pyfaidx\\__init__.py:404\u001b[0m, in \u001b[0;36mFaidx.__init__\u001b[1;34m(self, filename, indexname, default_seq, key_function, as_raw, strict_bounds, read_ahead, mutable, split_char, duplicate_action, filt_function, one_based_attributes, read_long_names, sequence_always_upper, rebuild, build_index)\u001b[0m\n\u001b[0;32m    402\u001b[0m         \u001b[38;5;28mself\u001b[39m\u001b[38;5;241m.\u001b[39mfile \u001b[38;5;241m=\u001b[39m \u001b[38;5;28mopen\u001b[39m(filename, \u001b[38;5;124m'\u001b[39m\u001b[38;5;124mr+b\u001b[39m\u001b[38;5;124m'\u001b[39m \u001b[38;5;28;01mif\u001b[39;00m mutable \u001b[38;5;28;01melse\u001b[39;00m \u001b[38;5;124m'\u001b[39m\u001b[38;5;124mrb\u001b[39m\u001b[38;5;124m'\u001b[39m)\n\u001b[0;32m    403\u001b[0m     \u001b[38;5;28;01mexcept\u001b[39;00m \u001b[38;5;167;01mIOError\u001b[39;00m:\n\u001b[1;32m--> 404\u001b[0m         \u001b[38;5;28;01mraise\u001b[39;00m FastaNotFoundError(\u001b[38;5;124m\"\u001b[39m\u001b[38;5;124mCannot read FASTA from file \u001b[39m\u001b[38;5;132;01m%s\u001b[39;00m\u001b[38;5;124m\"\u001b[39m \u001b[38;5;241m%\u001b[39m filename)\n\u001b[0;32m    405\u001b[0m     \u001b[38;5;28mself\u001b[39m\u001b[38;5;241m.\u001b[39m_fs \u001b[38;5;241m=\u001b[39m \u001b[38;5;28;01mNone\u001b[39;00m\n\u001b[0;32m    407\u001b[0m \u001b[38;5;28;01melse\u001b[39;00m:\n",
      "\u001b[1;31mFastaNotFoundError\u001b[0m: Cannot read FASTA from file Homo_sapiens.GRCh38.cdna.all.fa"
     ]
    }
   ],
   "source": [
    "transcripts = Fasta('Homo_sapiens.GRCh38.cdna.all.fa')\n",
    "\n",
    "transcript_sequence = pd.DataFrame(transcripts.keys(), columns=[\"id_version\"])\n",
    "transcript_sequence[\"Transcript_ID\"]= transcript_sequence[\"id_version\"].str.split(\".\").str.get(0) #"
   ]
  },
  {
   "cell_type": "code",
   "execution_count": 5,
   "id": "b383e530",
   "metadata": {},
   "outputs": [
    {
     "ename": "NameError",
     "evalue": "name 'transcript_sequence' is not defined",
     "output_type": "error",
     "traceback": [
      "\u001b[1;31m---------------------------------------------------------------------------\u001b[0m",
      "\u001b[1;31mNameError\u001b[0m                                 Traceback (most recent call last)",
      "Cell \u001b[1;32mIn[5], line 1\u001b[0m\n\u001b[1;32m----> 1\u001b[0m \u001b[43mtranscript_sequence\u001b[49m\n",
      "\u001b[1;31mNameError\u001b[0m: name 'transcript_sequence' is not defined"
     ]
    }
   ],
   "source": [
    "transcript_sequence"
   ]
  },
  {
   "cell_type": "markdown",
   "id": "aa59ee20",
   "metadata": {},
   "source": [
    "The dataset Homo_sapiens.GRCh38.cdna.all.fa was downloaded from the Ensembl website, list of all the transcripts and respective sequences  \n",
    "\n",
    "gene_sequence= Ensemble transcript ID\n"
   ]
  },
  {
   "cell_type": "code",
   "execution_count": 34,
   "id": "745378df",
   "metadata": {},
   "outputs": [
    {
     "data": {
      "text/html": [
       "<div>\n",
       "<style scoped>\n",
       "    .dataframe tbody tr th:only-of-type {\n",
       "        vertical-align: middle;\n",
       "    }\n",
       "\n",
       "    .dataframe tbody tr th {\n",
       "        vertical-align: top;\n",
       "    }\n",
       "\n",
       "    .dataframe thead th {\n",
       "        text-align: right;\n",
       "    }\n",
       "</style>\n",
       "<table border=\"1\" class=\"dataframe\">\n",
       "  <thead>\n",
       "    <tr style=\"text-align: right;\">\n",
       "      <th></th>\n",
       "      <th>id_version</th>\n",
       "      <th>Transcript_ID</th>\n",
       "    </tr>\n",
       "  </thead>\n",
       "  <tbody>\n",
       "    <tr>\n",
       "      <th>0</th>\n",
       "      <td>ENST00000415118.1</td>\n",
       "      <td>ENST00000415118</td>\n",
       "    </tr>\n",
       "    <tr>\n",
       "      <th>1</th>\n",
       "      <td>ENST00000448914.1</td>\n",
       "      <td>ENST00000448914</td>\n",
       "    </tr>\n",
       "    <tr>\n",
       "      <th>2</th>\n",
       "      <td>ENST00000434970.2</td>\n",
       "      <td>ENST00000434970</td>\n",
       "    </tr>\n",
       "    <tr>\n",
       "      <th>3</th>\n",
       "      <td>ENST00000631435.1</td>\n",
       "      <td>ENST00000631435</td>\n",
       "    </tr>\n",
       "    <tr>\n",
       "      <th>4</th>\n",
       "      <td>ENST00000632684.1</td>\n",
       "      <td>ENST00000632684</td>\n",
       "    </tr>\n",
       "    <tr>\n",
       "      <th>...</th>\n",
       "      <td>...</td>\n",
       "      <td>...</td>\n",
       "    </tr>\n",
       "    <tr>\n",
       "      <th>207244</th>\n",
       "      <td>ENST00000568156.1</td>\n",
       "      <td>ENST00000568156</td>\n",
       "    </tr>\n",
       "    <tr>\n",
       "      <th>207245</th>\n",
       "      <td>ENST00000567218.1</td>\n",
       "      <td>ENST00000567218</td>\n",
       "    </tr>\n",
       "    <tr>\n",
       "      <th>207246</th>\n",
       "      <td>ENST00000569984.1</td>\n",
       "      <td>ENST00000569984</td>\n",
       "    </tr>\n",
       "    <tr>\n",
       "      <th>207247</th>\n",
       "      <td>ENST00000624828.1</td>\n",
       "      <td>ENST00000624828</td>\n",
       "    </tr>\n",
       "    <tr>\n",
       "      <th>207248</th>\n",
       "      <td>ENST00000436045.1</td>\n",
       "      <td>ENST00000436045</td>\n",
       "    </tr>\n",
       "  </tbody>\n",
       "</table>\n",
       "<p>207249 rows × 2 columns</p>\n",
       "</div>"
      ],
      "text/plain": [
       "               id_version    Transcript_ID\n",
       "0       ENST00000415118.1  ENST00000415118\n",
       "1       ENST00000448914.1  ENST00000448914\n",
       "2       ENST00000434970.2  ENST00000434970\n",
       "3       ENST00000631435.1  ENST00000631435\n",
       "4       ENST00000632684.1  ENST00000632684\n",
       "...                   ...              ...\n",
       "207244  ENST00000568156.1  ENST00000568156\n",
       "207245  ENST00000567218.1  ENST00000567218\n",
       "207246  ENST00000569984.1  ENST00000569984\n",
       "207247  ENST00000624828.1  ENST00000624828\n",
       "207248  ENST00000436045.1  ENST00000436045\n",
       "\n",
       "[207249 rows x 2 columns]"
      ]
     },
     "execution_count": 34,
     "metadata": {},
     "output_type": "execute_result"
    }
   ],
   "source": [
    "transcript_sequence"
   ]
  },
  {
   "cell_type": "markdown",
   "id": "e58c5b2f",
   "metadata": {},
   "source": [
    "# Get the Canonical dataset"
   ]
  },
  {
   "cell_type": "code",
   "execution_count": 35,
   "id": "238e5aa5",
   "metadata": {},
   "outputs": [],
   "source": [
    "from pybiomart import Dataset\n",
    "\n",
    "dataset = Dataset(name='hsapiens_gene_ensembl', host='http://www.ensembl.org')\n",
    "\n",
    "\n",
    "df = dataset.query(attributes=['ensembl_gene_id', 'external_gene_name', 'ensembl_transcript_id', 'transcript_is_canonical'])"
   ]
  },
  {
   "cell_type": "markdown",
   "id": "f8600ee3",
   "metadata": {},
   "source": [
    "Can't extract the NCBI ID here since there are diferent annotations"
   ]
  },
  {
   "cell_type": "code",
   "execution_count": 36,
   "id": "e658d84f",
   "metadata": {},
   "outputs": [],
   "source": [
    "transcrip_df=df[df[\"Ensembl Canonical\"]==1].copy() # filter to only show the canonical genes"
   ]
  },
  {
   "cell_type": "code",
   "execution_count": 37,
   "id": "752237a4",
   "metadata": {},
   "outputs": [
    {
     "data": {
      "text/html": [
       "<div>\n",
       "<style scoped>\n",
       "    .dataframe tbody tr th:only-of-type {\n",
       "        vertical-align: middle;\n",
       "    }\n",
       "\n",
       "    .dataframe tbody tr th {\n",
       "        vertical-align: top;\n",
       "    }\n",
       "\n",
       "    .dataframe thead th {\n",
       "        text-align: right;\n",
       "    }\n",
       "</style>\n",
       "<table border=\"1\" class=\"dataframe\">\n",
       "  <thead>\n",
       "    <tr style=\"text-align: right;\">\n",
       "      <th></th>\n",
       "      <th>Gene stable ID</th>\n",
       "      <th>Gene name</th>\n",
       "      <th>Transcript stable ID</th>\n",
       "      <th>Ensembl Canonical</th>\n",
       "    </tr>\n",
       "  </thead>\n",
       "  <tbody>\n",
       "    <tr>\n",
       "      <th>0</th>\n",
       "      <td>ENSG00000210049</td>\n",
       "      <td>MT-TF</td>\n",
       "      <td>ENST00000387314</td>\n",
       "      <td>1.0</td>\n",
       "    </tr>\n",
       "    <tr>\n",
       "      <th>1</th>\n",
       "      <td>ENSG00000211459</td>\n",
       "      <td>MT-RNR1</td>\n",
       "      <td>ENST00000389680</td>\n",
       "      <td>1.0</td>\n",
       "    </tr>\n",
       "    <tr>\n",
       "      <th>2</th>\n",
       "      <td>ENSG00000210077</td>\n",
       "      <td>MT-TV</td>\n",
       "      <td>ENST00000387342</td>\n",
       "      <td>1.0</td>\n",
       "    </tr>\n",
       "    <tr>\n",
       "      <th>3</th>\n",
       "      <td>ENSG00000210082</td>\n",
       "      <td>MT-RNR2</td>\n",
       "      <td>ENST00000387347</td>\n",
       "      <td>1.0</td>\n",
       "    </tr>\n",
       "    <tr>\n",
       "      <th>4</th>\n",
       "      <td>ENSG00000209082</td>\n",
       "      <td>MT-TL1</td>\n",
       "      <td>ENST00000386347</td>\n",
       "      <td>1.0</td>\n",
       "    </tr>\n",
       "    <tr>\n",
       "      <th>...</th>\n",
       "      <td>...</td>\n",
       "      <td>...</td>\n",
       "      <td>...</td>\n",
       "      <td>...</td>\n",
       "    </tr>\n",
       "    <tr>\n",
       "      <th>276889</th>\n",
       "      <td>ENSG00000236500</td>\n",
       "      <td>CD24P1</td>\n",
       "      <td>ENST00000422383</td>\n",
       "      <td>1.0</td>\n",
       "    </tr>\n",
       "    <tr>\n",
       "      <th>276892</th>\n",
       "      <td>ENSG00000197312</td>\n",
       "      <td>DDI2</td>\n",
       "      <td>ENST00000480945</td>\n",
       "      <td>1.0</td>\n",
       "    </tr>\n",
       "    <tr>\n",
       "      <th>276898</th>\n",
       "      <td>ENSG00000215695</td>\n",
       "      <td>RSC1A1</td>\n",
       "      <td>ENST00000345034</td>\n",
       "      <td>1.0</td>\n",
       "    </tr>\n",
       "    <tr>\n",
       "      <th>276899</th>\n",
       "      <td>ENSG00000271742</td>\n",
       "      <td>NaN</td>\n",
       "      <td>ENST00000606262</td>\n",
       "      <td>1.0</td>\n",
       "    </tr>\n",
       "    <tr>\n",
       "      <th>276900</th>\n",
       "      <td>ENSG00000116786</td>\n",
       "      <td>PLEKHM2</td>\n",
       "      <td>ENST00000375799</td>\n",
       "      <td>1.0</td>\n",
       "    </tr>\n",
       "  </tbody>\n",
       "</table>\n",
       "<p>70116 rows × 4 columns</p>\n",
       "</div>"
      ],
      "text/plain": [
       "         Gene stable ID Gene name Transcript stable ID  Ensembl Canonical\n",
       "0       ENSG00000210049     MT-TF      ENST00000387314                1.0\n",
       "1       ENSG00000211459   MT-RNR1      ENST00000389680                1.0\n",
       "2       ENSG00000210077     MT-TV      ENST00000387342                1.0\n",
       "3       ENSG00000210082   MT-RNR2      ENST00000387347                1.0\n",
       "4       ENSG00000209082    MT-TL1      ENST00000386347                1.0\n",
       "...                 ...       ...                  ...                ...\n",
       "276889  ENSG00000236500    CD24P1      ENST00000422383                1.0\n",
       "276892  ENSG00000197312      DDI2      ENST00000480945                1.0\n",
       "276898  ENSG00000215695    RSC1A1      ENST00000345034                1.0\n",
       "276899  ENSG00000271742       NaN      ENST00000606262                1.0\n",
       "276900  ENSG00000116786   PLEKHM2      ENST00000375799                1.0\n",
       "\n",
       "[70116 rows x 4 columns]"
      ]
     },
     "execution_count": 37,
     "metadata": {},
     "output_type": "execute_result"
    }
   ],
   "source": [
    "transcrip_df"
   ]
  },
  {
   "cell_type": "markdown",
   "id": "f82673ee",
   "metadata": {},
   "source": [
    "transcrip_df is a dataset of all the human genes with their ensensemble gene IDS, their canonical transcripts and their respective transcript ids."
   ]
  },
  {
   "cell_type": "markdown",
   "id": "4eb17c01",
   "metadata": {},
   "source": [
    "### Merge the full transcripts with the canonical transcripts"
   ]
  },
  {
   "cell_type": "markdown",
   "id": "3109e548",
   "metadata": {},
   "source": [
    "The purpose of this is to extract the Transcript version"
   ]
  },
  {
   "cell_type": "code",
   "execution_count": 38,
   "id": "58f9d316",
   "metadata": {},
   "outputs": [],
   "source": [
    "cano_df = pd.merge(transcrip_df,transcript_sequence , left_on='Transcript stable ID', right_on='Transcript_ID')"
   ]
  },
  {
   "cell_type": "code",
   "execution_count": 39,
   "id": "a1242c22",
   "metadata": {},
   "outputs": [],
   "source": [
    "clean_df = cano_df[[\"Gene name\",\"Gene stable ID\",\"Transcript_ID\",'id_version']].copy()"
   ]
  },
  {
   "cell_type": "code",
   "execution_count": 40,
   "id": "85f24456",
   "metadata": {},
   "outputs": [
    {
     "data": {
      "text/html": [
       "<div>\n",
       "<style scoped>\n",
       "    .dataframe tbody tr th:only-of-type {\n",
       "        vertical-align: middle;\n",
       "    }\n",
       "\n",
       "    .dataframe tbody tr th {\n",
       "        vertical-align: top;\n",
       "    }\n",
       "\n",
       "    .dataframe thead th {\n",
       "        text-align: right;\n",
       "    }\n",
       "</style>\n",
       "<table border=\"1\" class=\"dataframe\">\n",
       "  <thead>\n",
       "    <tr style=\"text-align: right;\">\n",
       "      <th></th>\n",
       "      <th>Gene name</th>\n",
       "      <th>Gene stable ID</th>\n",
       "      <th>Transcript_ID</th>\n",
       "      <th>id_version</th>\n",
       "    </tr>\n",
       "  </thead>\n",
       "  <tbody>\n",
       "    <tr>\n",
       "      <th>0</th>\n",
       "      <td>MT-ND1</td>\n",
       "      <td>ENSG00000198888</td>\n",
       "      <td>ENST00000361390</td>\n",
       "      <td>ENST00000361390.2</td>\n",
       "    </tr>\n",
       "    <tr>\n",
       "      <th>1</th>\n",
       "      <td>MT-ND2</td>\n",
       "      <td>ENSG00000198763</td>\n",
       "      <td>ENST00000361453</td>\n",
       "      <td>ENST00000361453.3</td>\n",
       "    </tr>\n",
       "    <tr>\n",
       "      <th>2</th>\n",
       "      <td>MT-CO1</td>\n",
       "      <td>ENSG00000198804</td>\n",
       "      <td>ENST00000361624</td>\n",
       "      <td>ENST00000361624.2</td>\n",
       "    </tr>\n",
       "    <tr>\n",
       "      <th>3</th>\n",
       "      <td>MT-CO2</td>\n",
       "      <td>ENSG00000198712</td>\n",
       "      <td>ENST00000361739</td>\n",
       "      <td>ENST00000361739.1</td>\n",
       "    </tr>\n",
       "    <tr>\n",
       "      <th>4</th>\n",
       "      <td>MT-ATP8</td>\n",
       "      <td>ENSG00000228253</td>\n",
       "      <td>ENST00000361851</td>\n",
       "      <td>ENST00000361851.1</td>\n",
       "    </tr>\n",
       "    <tr>\n",
       "      <th>...</th>\n",
       "      <td>...</td>\n",
       "      <td>...</td>\n",
       "      <td>...</td>\n",
       "      <td>...</td>\n",
       "    </tr>\n",
       "    <tr>\n",
       "      <th>41079</th>\n",
       "      <td>CHCHD2P6</td>\n",
       "      <td>ENSG00000235084</td>\n",
       "      <td>ENST00000454346</td>\n",
       "      <td>ENST00000454346.1</td>\n",
       "    </tr>\n",
       "    <tr>\n",
       "      <th>41080</th>\n",
       "      <td>CD24P1</td>\n",
       "      <td>ENSG00000236500</td>\n",
       "      <td>ENST00000422383</td>\n",
       "      <td>ENST00000422383.1</td>\n",
       "    </tr>\n",
       "    <tr>\n",
       "      <th>41081</th>\n",
       "      <td>DDI2</td>\n",
       "      <td>ENSG00000197312</td>\n",
       "      <td>ENST00000480945</td>\n",
       "      <td>ENST00000480945.6</td>\n",
       "    </tr>\n",
       "    <tr>\n",
       "      <th>41082</th>\n",
       "      <td>RSC1A1</td>\n",
       "      <td>ENSG00000215695</td>\n",
       "      <td>ENST00000345034</td>\n",
       "      <td>ENST00000345034.2</td>\n",
       "    </tr>\n",
       "    <tr>\n",
       "      <th>41083</th>\n",
       "      <td>PLEKHM2</td>\n",
       "      <td>ENSG00000116786</td>\n",
       "      <td>ENST00000375799</td>\n",
       "      <td>ENST00000375799.8</td>\n",
       "    </tr>\n",
       "  </tbody>\n",
       "</table>\n",
       "<p>41084 rows × 4 columns</p>\n",
       "</div>"
      ],
      "text/plain": [
       "      Gene name   Gene stable ID    Transcript_ID         id_version\n",
       "0        MT-ND1  ENSG00000198888  ENST00000361390  ENST00000361390.2\n",
       "1        MT-ND2  ENSG00000198763  ENST00000361453  ENST00000361453.3\n",
       "2        MT-CO1  ENSG00000198804  ENST00000361624  ENST00000361624.2\n",
       "3        MT-CO2  ENSG00000198712  ENST00000361739  ENST00000361739.1\n",
       "4       MT-ATP8  ENSG00000228253  ENST00000361851  ENST00000361851.1\n",
       "...         ...              ...              ...                ...\n",
       "41079  CHCHD2P6  ENSG00000235084  ENST00000454346  ENST00000454346.1\n",
       "41080    CD24P1  ENSG00000236500  ENST00000422383  ENST00000422383.1\n",
       "41081      DDI2  ENSG00000197312  ENST00000480945  ENST00000480945.6\n",
       "41082    RSC1A1  ENSG00000215695  ENST00000345034  ENST00000345034.2\n",
       "41083   PLEKHM2  ENSG00000116786  ENST00000375799  ENST00000375799.8\n",
       "\n",
       "[41084 rows x 4 columns]"
      ]
     },
     "execution_count": 40,
     "metadata": {},
     "output_type": "execute_result"
    }
   ],
   "source": [
    "clean_df"
   ]
  },
  {
   "cell_type": "code",
   "execution_count": 41,
   "id": "002c5a3c",
   "metadata": {},
   "outputs": [
    {
     "data": {
      "text/plain": [
       "ENSG00000198888    1\n",
       "ENSG00000204628    1\n",
       "ENSG00000183770    1\n",
       "ENSG00000132463    1\n",
       "ENSG00000007237    1\n",
       "ENSG00000092148    1\n",
       "ENSG00000206262    1\n",
       "ENSG00000157654    1\n",
       "ENSG00000163497    1\n",
       "ENSG00000206260    1\n",
       "ENSG00000184814    1\n",
       "ENSG00000233701    1\n",
       "ENSG00000186918    1\n",
       "ENSG00000251137    1\n",
       "ENSG00000223452    1\n",
       "ENSG00000114113    1\n",
       "ENSG00000284976    1\n",
       "ENSG00000163499    1\n",
       "ENSG00000178631    1\n",
       "ENSG00000169241    1\n",
       "Name: Gene stable ID, dtype: int64"
      ]
     },
     "execution_count": 41,
     "metadata": {},
     "output_type": "execute_result"
    }
   ],
   "source": [
    "clean_df['Gene stable ID'].value_counts().head(20)"
   ]
  },
  {
   "cell_type": "markdown",
   "id": "3e6862c6",
   "metadata": {},
   "source": [
    "After removing the NCBI IDS there were no more duplicates"
   ]
  },
  {
   "cell_type": "code",
   "execution_count": 42,
   "id": "4e3a06d5",
   "metadata": {},
   "outputs": [
    {
     "data": {
      "text/html": [
       "<div>\n",
       "<style scoped>\n",
       "    .dataframe tbody tr th:only-of-type {\n",
       "        vertical-align: middle;\n",
       "    }\n",
       "\n",
       "    .dataframe tbody tr th {\n",
       "        vertical-align: top;\n",
       "    }\n",
       "\n",
       "    .dataframe thead th {\n",
       "        text-align: right;\n",
       "    }\n",
       "</style>\n",
       "<table border=\"1\" class=\"dataframe\">\n",
       "  <thead>\n",
       "    <tr style=\"text-align: right;\">\n",
       "      <th></th>\n",
       "      <th>Gene name</th>\n",
       "      <th>Gene stable ID</th>\n",
       "      <th>Transcript_ID</th>\n",
       "      <th>id_version</th>\n",
       "    </tr>\n",
       "  </thead>\n",
       "  <tbody>\n",
       "    <tr>\n",
       "      <th>229</th>\n",
       "      <td>TSPY1</td>\n",
       "      <td>ENSG00000258992</td>\n",
       "      <td>ENST00000451548</td>\n",
       "      <td>ENST00000451548.6</td>\n",
       "    </tr>\n",
       "  </tbody>\n",
       "</table>\n",
       "</div>"
      ],
      "text/plain": [
       "    Gene name   Gene stable ID    Transcript_ID         id_version\n",
       "229     TSPY1  ENSG00000258992  ENST00000451548  ENST00000451548.6"
      ]
     },
     "execution_count": 42,
     "metadata": {},
     "output_type": "execute_result"
    }
   ],
   "source": [
    "specific_transcript_id = 'ENST00000451548'\n",
    "rows_with_specific_id = clean_df[clean_df['Transcript_ID'] == specific_transcript_id]\n",
    "rows_with_specific_id"
   ]
  },
  {
   "cell_type": "markdown",
   "id": "639cd255",
   "metadata": {},
   "source": [
    "## NAN"
   ]
  },
  {
   "cell_type": "code",
   "execution_count": 43,
   "metadata": {},
   "outputs": [
    {
     "name": "stdout",
     "output_type": "stream",
     "text": [
      "Gene name         6406\n",
      "Gene stable ID       0\n",
      "Transcript_ID        0\n",
      "id_version           0\n",
      "dtype: int64\n"
     ]
    }
   ],
   "source": [
    "print(clean_df.isna().sum())"
   ]
  },
  {
   "cell_type": "markdown",
   "id": "d7b78198",
   "metadata": {},
   "source": [
    "# Add the sequences"
   ]
  },
  {
   "cell_type": "code",
   "execution_count": 55,
   "id": "73a68556",
   "metadata": {},
   "outputs": [],
   "source": [
    "def get_seq(id):\n",
    "    if str(id) in transcripts:\n",
    "                seq=transcripts[id][:].seq\n",
    "                return seq"
   ]
  },
  {
   "cell_type": "code",
   "execution_count": 57,
   "id": "de35cc42",
   "metadata": {},
   "outputs": [],
   "source": [
    "clean_dna=clean_df.copy()\n",
    "clean_dna[\"DNA_seq\"]=clean_dna['id_version'].apply(get_seq)"
   ]
  },
  {
   "cell_type": "code",
   "execution_count": 58,
   "id": "30c0dc79",
   "metadata": {},
   "outputs": [
    {
     "data": {
      "text/html": [
       "<div>\n",
       "<style scoped>\n",
       "    .dataframe tbody tr th:only-of-type {\n",
       "        vertical-align: middle;\n",
       "    }\n",
       "\n",
       "    .dataframe tbody tr th {\n",
       "        vertical-align: top;\n",
       "    }\n",
       "\n",
       "    .dataframe thead th {\n",
       "        text-align: right;\n",
       "    }\n",
       "</style>\n",
       "<table border=\"1\" class=\"dataframe\">\n",
       "  <thead>\n",
       "    <tr style=\"text-align: right;\">\n",
       "      <th></th>\n",
       "      <th>Gene name</th>\n",
       "      <th>Gene stable ID</th>\n",
       "      <th>Transcript_ID</th>\n",
       "      <th>id_version</th>\n",
       "      <th>DNA_seq</th>\n",
       "    </tr>\n",
       "  </thead>\n",
       "  <tbody>\n",
       "    <tr>\n",
       "      <th>0</th>\n",
       "      <td>MT-ND1</td>\n",
       "      <td>ENSG00000198888</td>\n",
       "      <td>ENST00000361390</td>\n",
       "      <td>ENST00000361390.2</td>\n",
       "      <td>ATACCCATGGCCAACCTCCTACTCCTCATTGTACCCATTCTAATCG...</td>\n",
       "    </tr>\n",
       "    <tr>\n",
       "      <th>1</th>\n",
       "      <td>MT-ND2</td>\n",
       "      <td>ENSG00000198763</td>\n",
       "      <td>ENST00000361453</td>\n",
       "      <td>ENST00000361453.3</td>\n",
       "      <td>ATTAATCCCCTGGCCCAACCCGTCATCTACTCTACCATCTTTGCAG...</td>\n",
       "    </tr>\n",
       "    <tr>\n",
       "      <th>2</th>\n",
       "      <td>MT-CO1</td>\n",
       "      <td>ENSG00000198804</td>\n",
       "      <td>ENST00000361624</td>\n",
       "      <td>ENST00000361624.2</td>\n",
       "      <td>ATGTTCGCCGACCGTTGACTATTCTCTACAAACCACAAAGACATTG...</td>\n",
       "    </tr>\n",
       "    <tr>\n",
       "      <th>3</th>\n",
       "      <td>MT-CO2</td>\n",
       "      <td>ENSG00000198712</td>\n",
       "      <td>ENST00000361739</td>\n",
       "      <td>ENST00000361739.1</td>\n",
       "      <td>ATGGCACATGCAGCGCAAGTAGGTCTACAAGACGCTACTTCCCCTA...</td>\n",
       "    </tr>\n",
       "    <tr>\n",
       "      <th>4</th>\n",
       "      <td>MT-ATP8</td>\n",
       "      <td>ENSG00000228253</td>\n",
       "      <td>ENST00000361851</td>\n",
       "      <td>ENST00000361851.1</td>\n",
       "      <td>ATGCCCCAACTAAATACTACCGTATGGCCCACCATAATTACCCCCA...</td>\n",
       "    </tr>\n",
       "    <tr>\n",
       "      <th>...</th>\n",
       "      <td>...</td>\n",
       "      <td>...</td>\n",
       "      <td>...</td>\n",
       "      <td>...</td>\n",
       "      <td>...</td>\n",
       "    </tr>\n",
       "    <tr>\n",
       "      <th>41079</th>\n",
       "      <td>CHCHD2P6</td>\n",
       "      <td>ENSG00000235084</td>\n",
       "      <td>ENST00000454346</td>\n",
       "      <td>ENST00000454346.1</td>\n",
       "      <td>GGAAGCCGAAGCCACACCTCCCGCATGGCCCCTCCGGCCAGCCGGG...</td>\n",
       "    </tr>\n",
       "    <tr>\n",
       "      <th>41080</th>\n",
       "      <td>CD24P1</td>\n",
       "      <td>ENSG00000236500</td>\n",
       "      <td>ENST00000422383</td>\n",
       "      <td>ENST00000422383.1</td>\n",
       "      <td>GCAATGGTGGACAGGCTCAGGCTGGGGCTGCTGCTTCTGGCACTGC...</td>\n",
       "    </tr>\n",
       "    <tr>\n",
       "      <th>41081</th>\n",
       "      <td>DDI2</td>\n",
       "      <td>ENSG00000197312</td>\n",
       "      <td>ENST00000480945</td>\n",
       "      <td>ENST00000480945.6</td>\n",
       "      <td>AGACGGACTCGCAGGCGTGTGGCGGCGGCCGTGCTTGCTAGTGAGG...</td>\n",
       "    </tr>\n",
       "    <tr>\n",
       "      <th>41082</th>\n",
       "      <td>RSC1A1</td>\n",
       "      <td>ENSG00000215695</td>\n",
       "      <td>ENST00000345034</td>\n",
       "      <td>ENST00000345034.2</td>\n",
       "      <td>AAGAGAAACCCGAGTTTGAGGACCTTATTTTATTCTACGCTGTTTA...</td>\n",
       "    </tr>\n",
       "    <tr>\n",
       "      <th>41083</th>\n",
       "      <td>PLEKHM2</td>\n",
       "      <td>ENSG00000116786</td>\n",
       "      <td>ENST00000375799</td>\n",
       "      <td>ENST00000375799.8</td>\n",
       "      <td>GCACAGCCCGCGGCCTCCTTCCCCGCCGGCCGCGCTCCGGAGCCTC...</td>\n",
       "    </tr>\n",
       "  </tbody>\n",
       "</table>\n",
       "<p>41084 rows × 5 columns</p>\n",
       "</div>"
      ],
      "text/plain": [
       "      Gene name   Gene stable ID    Transcript_ID         id_version  \\\n",
       "0        MT-ND1  ENSG00000198888  ENST00000361390  ENST00000361390.2   \n",
       "1        MT-ND2  ENSG00000198763  ENST00000361453  ENST00000361453.3   \n",
       "2        MT-CO1  ENSG00000198804  ENST00000361624  ENST00000361624.2   \n",
       "3        MT-CO2  ENSG00000198712  ENST00000361739  ENST00000361739.1   \n",
       "4       MT-ATP8  ENSG00000228253  ENST00000361851  ENST00000361851.1   \n",
       "...         ...              ...              ...                ...   \n",
       "41079  CHCHD2P6  ENSG00000235084  ENST00000454346  ENST00000454346.1   \n",
       "41080    CD24P1  ENSG00000236500  ENST00000422383  ENST00000422383.1   \n",
       "41081      DDI2  ENSG00000197312  ENST00000480945  ENST00000480945.6   \n",
       "41082    RSC1A1  ENSG00000215695  ENST00000345034  ENST00000345034.2   \n",
       "41083   PLEKHM2  ENSG00000116786  ENST00000375799  ENST00000375799.8   \n",
       "\n",
       "                                                 DNA_seq  \n",
       "0      ATACCCATGGCCAACCTCCTACTCCTCATTGTACCCATTCTAATCG...  \n",
       "1      ATTAATCCCCTGGCCCAACCCGTCATCTACTCTACCATCTTTGCAG...  \n",
       "2      ATGTTCGCCGACCGTTGACTATTCTCTACAAACCACAAAGACATTG...  \n",
       "3      ATGGCACATGCAGCGCAAGTAGGTCTACAAGACGCTACTTCCCCTA...  \n",
       "4      ATGCCCCAACTAAATACTACCGTATGGCCCACCATAATTACCCCCA...  \n",
       "...                                                  ...  \n",
       "41079  GGAAGCCGAAGCCACACCTCCCGCATGGCCCCTCCGGCCAGCCGGG...  \n",
       "41080  GCAATGGTGGACAGGCTCAGGCTGGGGCTGCTGCTTCTGGCACTGC...  \n",
       "41081  AGACGGACTCGCAGGCGTGTGGCGGCGGCCGTGCTTGCTAGTGAGG...  \n",
       "41082  AAGAGAAACCCGAGTTTGAGGACCTTATTTTATTCTACGCTGTTTA...  \n",
       "41083  GCACAGCCCGCGGCCTCCTTCCCCGCCGGCCGCGCTCCGGAGCCTC...  \n",
       "\n",
       "[41084 rows x 5 columns]"
      ]
     },
     "execution_count": 58,
     "metadata": {},
     "output_type": "execute_result"
    }
   ],
   "source": [
    "clean_dna"
   ]
  },
  {
   "cell_type": "code",
   "execution_count": 59,
   "id": "5817b16c",
   "metadata": {},
   "outputs": [],
   "source": [
    "clean_dna.to_csv(\"transcript_seq.csv\",index= False)"
   ]
  },
  {
   "cell_type": "code",
   "execution_count": null,
   "id": "89244ec2",
   "metadata": {},
   "outputs": [],
   "source": []
  }
 ],
 "metadata": {
  "kernelspec": {
   "display_name": "Python 3 (ipykernel)",
   "language": "python",
   "name": "python3"
  },
  "language_info": {
   "codemirror_mode": {
    "name": "ipython",
    "version": 3
   },
   "file_extension": ".py",
   "mimetype": "text/x-python",
   "name": "python",
   "nbconvert_exporter": "python",
   "pygments_lexer": "ipython3",
   "version": "3.8.18"
  }
 },
 "nbformat": 4,
 "nbformat_minor": 5
}
