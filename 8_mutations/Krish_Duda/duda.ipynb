{
 "cells": [
  {
   "cell_type": "code",
   "execution_count": 157,
   "metadata": {},
   "outputs": [],
   "source": [
    "import pandas as pd\n",
    "import numpy as np\n",
    "duda=pd.read_excel('Duda_MSSNG.xlsx',sheet_name=\"Table S4\", skiprows=1)\n",
    "novel=duda.dropna(subset=['OMIM_PHENOTYPE'])"
   ]
  },
  {
   "cell_type": "code",
   "execution_count": 158,
   "metadata": {},
   "outputs": [
    {
     "data": {
      "text/plain": [
       "214"
      ]
     },
     "execution_count": 158,
     "metadata": {},
     "output_type": "execute_result"
    }
   ],
   "source": [
    "novel = duda[duda['OMIM_ID'].isna()]\n",
    "novel_list = list(set(novel[\"GENE_SYMBOL\"].tolist()))\n",
    "\n",
    "mssng_sig=duda.dropna(subset=['OMIM_PHENOTYPE'])\n",
    "mssng_sig_list = list(set(mssng_sig[\"GENE_SYMBOL\"].tolist()))\n",
    "\n",
    "lof=list(set(duda[\"GENE_ID\"].tolist()))\n",
    "\n",
    "complete_list = duda[\"GENE_ID\"].tolist()\n",
    "\n",
    "len(lof)"
   ]
  },
  {
   "cell_type": "code",
   "execution_count": 159,
   "metadata": {},
   "outputs": [],
   "source": [
    "def gmt_creator(gene_lists, name):\n",
    "\n",
    "\n",
    "    from gprofiler import GProfiler\n",
    "    gmt_strigs = []\n",
    "    \n",
    "    for gene_list, name in zip(gene_lists, name):\n",
    "        gp = GProfiler(return_dataframe=True)\n",
    "        gp_convert_df =gp.convert(organism  = 'hsapiens',\n",
    "                                    query= gene_list,\n",
    "                                        target_namespace= 'ENSG',\n",
    "                                        numeric_namespace='ENTREZGENE_ACC',)\n",
    "        gp_convert_df = gp_convert_df[['incoming', 'converted']]\n",
    "        ensemble_list = gp_convert_df['converted'].tolist()\n",
    "        gene_string = '\\t'.join(ensemble_list)\n",
    "        gmt_line= f'{name}\\tMutation: {name}\\t' + gene_string\n",
    "        gmt_strigs.append(gmt_line)\n",
    "        print(gmt_line)\n",
    "\n",
    "    with open('mssng.gmt', 'w') as f:\n",
    "        for gmt_line in gmt_strigs:\n",
    "            f.write(gmt_line + \"\\n\")     \n"
   ]
  },
  {
   "cell_type": "code",
   "execution_count": 160,
   "metadata": {},
   "outputs": [
    {
     "name": "stdout",
     "output_type": "stream",
     "text": [
      "MSSNG_NOVEL\tMutation: MSSNG_NOVEL\tNone\tENSG00000137073\tENSG00000169718\tENSG00000166164\tENSG00000144504\tENSG00000119285\tENSG00000163625\tENSG00000149532\tENSG00000119321\tENSG00000142235\tENSG00000181458\tENSG00000084710\tENSG00000164151\tENSG00000131969\tENSG00000101331\tENSG00000196865\tENSG00000176273\tENSG00000174946\tENSG00000186364\tENSG00000166348\tENSG00000138757\tNone\tENSG00000198885\tENSG00000183530\tENSG00000182898\tENSG00000163214\tENSG00000239388\tENSG00000197863\tENSG00000176994\tENSG00000109118\tENSG00000221909\tENSG00000261787\tENSG00000160058\tENSG00000173064\tENSG00000172199\tNone\tENSG00000127080\tENSG00000197748\tENSG00000198870\n",
      "MSSNG_SIG\tMutation: MSSNG_SIG\tENSG00000075043\tENSG00000095002\tENSG00000126524\tENSG00000140199\tENSG00000171316\tENSG00000100288\tENSG00000023287\tENSG00000132326\tENSG00000101126\tENSG00000011201\tENSG00000171862\tENSG00000115657\tNone\tENSG00000144285\tENSG00000087470\tENSG00000169057\tENSG00000148795\tENSG00000148606\tENSG00000112039\tENSG00000106804\tENSG00000115919\tENSG00000053747\tENSG00000020922\tENSG00000138160\tENSG00000080603\tENSG00000197299\tENSG00000165671\tENSG00000185024\tENSG00000188419\tENSG00000174231\tENSG00000164342\tENSG00000049089\tENSG00000134569\tENSG00000105722\tENSG00000118058\tENSG00000189241\tENSG00000112640\tENSG00000162105\tENSG00000119121\tENSG00000041982\tENSG00000141431\tENSG00000136854\tENSG00000164597\tENSG00000251322\tENSG00000140650\tENSG00000168944\tENSG00000049618\tENSG00000086288\tENSG00000179981\tENSG00000122550\tENSG00000117620\tENSG00000283761\tENSG00000147050\tENSG00000142405\tENSG00000100888\tENSG00000081014\tENSG00000136531\tENSG00000100815\tENSG00000139132\tENSG00000157103\n",
      "MSSNG_LOF\tMutation: MSSNG_LOF\tENSG00000119121\tENSG00000134532\tENSG00000183323\tENSG00000117139\tENSG00000142405\tENSG00000136158\tENSG00000137073\tENSG00000105722\tENSG00000183762\tENSG00000150938\tENSG00000131969\tENSG00000166148\tENSG00000029363\tENSG00000242265\tENSG00000148795\tENSG00000160862\tENSG00000100567\tENSG00000107731\tENSG00000116539\tENSG00000175216\tENSG00000089327\tENSG00000174032\tENSG00000198830\tENSG00000247596\tENSG00000085644\tENSG00000196865\tENSG00000160741\tENSG00000144504\tENSG00000102781\tENSG00000221909\tENSG00000189241\tENSG00000023287\tENSG00000164309\tENSG00000080603\tENSG00000100288\tENSG00000188419\tENSG00000142235\tENSG00000157741\tENSG00000164796\tENSG00000171862\tENSG00000196367\tENSG00000100815\tENSG00000169057\tENSG00000082781\tNone\tENSG00000079432\tENSG00000137204\tENSG00000086288\tENSG00000130940\tENSG00000215301\tENSG00000169718\tENSG00000157510\tENSG00000095787\tENSG00000170860\tENSG00000124214\tENSG00000149930\tENSG00000197299\tENSG00000112039\tENSG00000166436\tENSG00000176273\tENSG00000162825\tENSG00000137857\tENSG00000011201\tENSG00000049618\tENSG00000171943\tENSG00000168944\tENSG00000196408\tENSG00000136854\tENSG00000077232\tENSG00000132326\tENSG00000122550\tENSG00000139132\tENSG00000182898\tENSG00000122965\tENSG00000144285\tENSG00000138757\tENSG00000136531\tENSG00000134256\tENSG00000174238\tENSG00000027001\tENSG00000159069\tENSG00000114127\tENSG00000148773\tENSG00000075043\tENSG00000118058\tENSG00000213983\tENSG00000276293\tENSG00000129990\tENSG00000160310\tENSG00000133657\tENSG00000174946\tENSG00000155754\tENSG00000183530\tENSG00000128191\tENSG00000106804\tENSG00000262664\tENSG00000185800\tENSG00000164597\tENSG00000204060\tENSG00000147050\tENSG00000115919\tENSG00000163382\tENSG00000088038\tENSG00000108510\tENSG00000198885\tENSG00000138160\tENSG00000143373\tENSG00000140650\tENSG00000139211\tENSG00000149308\tENSG00000127080\tENSG00000140199\tENSG00000088812\tENSG00000092820\tENSG00000020922\tENSG00000119321\tENSG00000087303\tENSG00000119335\tENSG00000049089\tENSG00000172199\tENSG00000164134\tENSG00000100207\tENSG00000164830\tENSG00000181458\tENSG00000040633\tENSG00000188266\tENSG00000041982\tENSG00000145087\tENSG00000128595\tENSG00000109118\tENSG00000205726\tENSG00000173064\tENSG00000165671\tENSG00000053747\tENSG00000160058\tENSG00000115657\tENSG00000087470\tENSG00000184860\tENSG00000163214\tENSG00000107281\tENSG00000100888\tENSG00000171189\tENSG00000164151\tENSG00000171316\tENSG00000095002\tENSG00000266028\tENSG00000119285\tENSG00000164330\tENSG00000197748\tENSG00000239388\tENSG00000111863\tENSG00000101126\tENSG00000186364\tENSG00000174231\tENSG00000106049\tENSG00000011347\tENSG00000198752\tENSG00000251322\tENSG00000089169\tENSG00000180638\tENSG00000261787\tENSG00000148606\tENSG00000166845\tENSG00000157103\tENSG00000050344\tENSG00000115685\tENSG00000081014\tENSG00000082258\tENSG00000117620\tENSG00000005469\tENSG00000133794\tENSG00000112640\tENSG00000185024\tENSG00000162105\tENSG00000101331\tENSG00000048740\tENSG00000145907\tENSG00000162891\tENSG00000148120\tENSG00000118482\tENSG00000126524\tENSG00000141431\tENSG00000149532\tENSG00000198677\tENSG00000054392\tENSG00000197863\tENSG00000164342\tENSG00000197586\tENSG00000166164\tENSG00000130589\tENSG00000171798\tENSG00000084710\tENSG00000101751\tENSG00000060339\tENSG00000134569\tENSG00000139613\tENSG00000067900\tENSG00000175029\tENSG00000075568\tENSG00000179981\tENSG00000182698\tENSG00000163625\tENSG00000166348\tENSG00000198870\tENSG00000132849\tENSG00000050748\tENSG00000165487\tENSG00000065526\tENSG00000176994\tENSG00000188687\tENSG00000135387\tENSG00000121764\tENSG00000272886\tENSG00000205208\n",
      "COMPLETE\tMutation: COMPLETE\tENSG00000075568\tENSG00000095787\tENSG00000129990\tENSG00000122550\tENSG00000100288\tENSG00000205208\tENSG00000011347\tENSG00000139613\tENSG00000084710\tENSG00000242265\tENSG00000115685\tENSG00000198870\tENSG00000100888\tENSG00000165671\tENSG00000139132\tENSG00000128595\tENSG00000171189\tENSG00000171316\tENSG00000247596\tENSG00000181458\tENSG00000041982\tENSG00000080603\tENSG00000197299\tENSG00000172199\tENSG00000157510\tENSG00000100815\tENSG00000101126\tENSG00000169057\tENSG00000188419\tENSG00000086288\tENSG00000088038\tENSG00000162105\tENSG00000102781\tENSG00000050344\tENSG00000183762\tENSG00000119335\tENSG00000119335\tENSG00000176273\tENSG00000197863\tENSG00000261787\tENSG00000215301\tENSG00000100888\tENSG00000149930\tENSG00000174032\tENSG00000148606\tENSG00000147050\tENSG00000142235\tENSG00000174238\tENSG00000164830\tENSG00000184860\tENSG00000127080\tENSG00000101331\tENSG00000185800\tENSG00000163214\tENSG00000166164\tENSG00000150938\tENSG00000115919\tENSG00000100207\tENSG00000136854\tENSG00000149308\tENSG00000101126\tENSG00000136531\tENSG00000157741\tENSG00000049618\tENSG00000138160\tENSG00000085644\tENSG00000205726\tENSG00000155754\tENSG00000196865\tENSG00000075043\tENSG00000137073\tENSG00000163382\tENSG00000118058\tENSG00000188266\tENSG00000122965\tENSG00000186364\tENSG00000119121\tENSG00000132326\tENSG00000163625\tENSG00000065526\tENSG00000213983\tENSG00000160862\tENSG00000100888\tENSG00000048740\tENSG00000221909\tENSG00000171798\tENSG00000027001\tENSG00000145087\tENSG00000053747\tENSG00000138757\tENSG00000182698\tENSG00000173064\tENSG00000105722\tENSG00000144285\tENSG00000011201\tENSG00000135387\tENSG00000166164\tENSG00000160058\tENSG00000088812\tENSG00000106049\tENSG00000117139\tENSG00000166348\tENSG00000126524\tENSG00000079432\tENSG00000239388\tENSG00000162891\tENSG00000119285\tENSG00000060339\tENSG00000183530\tENSG00000251322\tENSG00000114127\tENSG00000148773\tENSG00000162825\tENSG00000148795\tENSG00000148120\tENSG00000124214\tENSG00000142405\tENSG00000170860\tENSG00000141431\tENSG00000205726\tENSG00000023287\tENSG00000145907\tENSG00000116539\tENSG00000134256\tENSG00000166164\tENSG00000182898\tENSG00000136158\tENSG00000164796\tENSG00000089327\tENSG00000149532\tENSG00000196367\tENSG00000185024\tENSG00000276293\tENSG00000176994\tENSG00000087470\tENSG00000143373\tENSG00000130589\tENSG00000251322\tENSG00000134532\tENSG00000166845\tENSG00000040633\tENSG00000100567\tENSG00000005469\tENSG00000251322\tENSG00000128191\tENSG00000131969\tENSG00000137204\tNone\tENSG00000164134\tENSG00000157103\tENSG00000157103\tENSG00000111863\tENSG00000183323\tENSG00000272886\tENSG00000174946\tENSG00000095002\tENSG00000164330\tENSG00000089169\tENSG00000175029\tENSG00000198752\tENSG00000050748\tENSG00000204060\tENSG00000160741\tENSG00000166148\tENSG00000117620\tENSG00000179981\tENSG00000119321\tENSG00000130940\tENSG00000130940\tENSG00000107731\tENSG00000107731\tENSG00000166436\tENSG00000174231\tENSG00000087303\tENSG00000112039\tENSG00000118482\tENSG00000107281\tENSG00000132849\tENSG00000067900\tENSG00000198885\tENSG00000106804\tENSG00000164342\tENSG00000188687\tENSG00000049089\tENSG00000108510\tENSG00000165487\tENSG00000197586\tENSG00000164309\tENSG00000140199\tENSG00000160310\tENSG00000139211\tENSG00000169718\tENSG00000168944\tENSG00000121764\tENSG00000164597\tENSG00000159069\tENSG00000164151\tENSG00000082258\tENSG00000029363\tENSG00000144504\tENSG00000266028\tENSG00000171943\tENSG00000197748\tENSG00000140650\tENSG00000189241\tENSG00000262664\tENSG00000092820\tENSG00000171862\tENSG00000054392\tENSG00000137857\tENSG00000133657\tENSG00000077232\tENSG00000198830\tENSG00000082781\tENSG00000115657\tENSG00000180638\tENSG00000198677\tENSG00000081014\tENSG00000175216\tENSG00000133794\tENSG00000196408\tENSG00000020922\tENSG00000101751\tENSG00000134569\tENSG00000109118\tENSG00000112640\n"
     ]
    }
   ],
   "source": [
    "gmt_creator([novel_list, mssng_sig_list, lof,complete_list], ['MSSNG_NOVEL', 'MSSNG_SIG','MSSNG_LOF',\"COMPLETE\"])"
   ]
  },
  {
   "cell_type": "markdown",
   "metadata": {},
   "source": [
    "# Test Gprofiler\n",
    " \n",
    "\n",
    "\n",
    "\n",
    "        \n",
    "          \n",
    "   \n",
    "    \n",
    "     \n",
    "      \n",
    "       \n",
    "        \n",
    "         \n",
    "          "
   ]
  },
  {
   "cell_type": "code",
   "execution_count": null,
   "metadata": {},
   "outputs": [],
   "source": [
    "results=pd.read_csv('svc_clean.csv')\n",
    "gene_list=results['Ensembl_ID'].tolist()\n",
    "len(gene_list)\n",
    "\n",
    "\n",
    "data = pd.read_csv('svc_clean.csv')# chage data as need be\n",
    "\n",
    "data[\"Decile_rank\"] = pd.qcut(data[\"Probability_Class_1\"], 10, labels=False)\n",
    "data[\"Decile_rank\"] = data[\"Decile_rank\"].astype('category')\n",
    "data[\"Decile_rank\"] = data[\"Decile_rank\"].cat.rename_categories([f'D{i}' for i in range(10,0,-1)])\n",
    "\n",
    "deciles = {}\n",
    "for i in range(1, 11):\n",
    "        deciles[f'd_{i}'] = data[data[\"Decile_rank\"] == f'D{i}'].copy()\n",
    "\n",
    "\n",
    "\n",
    "d_1=deciles['d_1']['Ensembl_ID'].tolist()\n",
    "len(d_1)"
   ]
  },
  {
   "cell_type": "code",
   "execution_count": 84,
   "metadata": {},
   "outputs": [],
   "source": [
    "import requests\n",
    "import pandas as pd\n",
    "import numpy as np\n",
    "from gprofiler import GProfiler\n",
    "\n",
    "def get_token_form_response(response):\n",
    "    if response.status_code == 200:\n",
    "        token = response.json()['organism']\n",
    "    else:\n",
    "        try:\n",
    "            error_message = 'Error: {}'.format(response.json()['message'])\n",
    "        except:\n",
    "            error_message = 'Error, status code {}'.format(response.status_code)\n",
    "        raise AssertionError(error_message)\n",
    "    #print(\"Token:\", token)\n",
    "    return token\n",
    "\n",
    "def main_custom(deciles, gmt_file,mutation_name):\n",
    "\n",
    "\n",
    "    dataframes= []\n",
    "    for i,key in enumerate(deciles):\n",
    "        decile_list = deciles[key][\"Ensembl_ID\"].to_list()\n",
    "        print(f'Processing {key,mutation_name}...')\n",
    "\n",
    "        gp = GProfiler(\n",
    "            user_agent='gprofiler_custom_gmt', #optional user agent\n",
    "            return_dataframe=True, #return pandas dataframe or plain python structures    \n",
    "        )\n",
    "\n",
    "        with open(gmt_file) as f:\n",
    "            response = requests.post('https://biit.cs.ut.ee/gprofiler/api/gost/custom/',\n",
    "                            json={'gmt':f.read(),\n",
    "                                'name': gmt_file})\n",
    "        token = get_token_form_response(response)\n",
    "\n",
    "        decile_results = gp.profile(query=decile_list, organism=token,user_threshold=1,domain_scope=\"custom\",background=d_1)\n",
    "        decile_results.insert(0, \"Decile\", i+1)\n",
    "        decile_results=decile_results[decile_results['native']==mutation_name]\n",
    "        dataframes.append(decile_results)\n",
    "\n",
    "\n",
    "    data = pd.concat(dataframes)\n",
    "    data= data.sort_values(by='Decile', ascending=False).reset_index(drop=True)\n",
    "    data['Intersection_to_Term_Ratio'] = data['intersection_size'] / data['term_size']\n",
    "    data=data.sort_values(by='Decile', ascending=True).reset_index(drop=True)\n",
    "\n",
    "    return data\n"
   ]
  },
  {
   "cell_type": "code",
   "execution_count": null,
   "metadata": {},
   "outputs": [],
   "source": []
  },
  {
   "cell_type": "code",
   "execution_count": 85,
   "metadata": {},
   "outputs": [
    {
     "name": "stdout",
     "output_type": "stream",
     "text": [
      "Processing ('d_1', 'prb_rec_LGD')...\n",
      "Processing ('d_2', 'prb_rec_LGD')...\n",
      "Processing ('d_3', 'prb_rec_LGD')...\n",
      "Processing ('d_4', 'prb_rec_LGD')...\n",
      "Processing ('d_5', 'prb_rec_LGD')...\n",
      "Processing ('d_6', 'prb_rec_LGD')...\n",
      "Processing ('d_7', 'prb_rec_LGD')...\n",
      "Processing ('d_8', 'prb_rec_LGD')...\n",
      "Processing ('d_9', 'prb_rec_LGD')...\n",
      "Processing ('d_10', 'prb_rec_LGD')...\n"
     ]
    },
    {
     "name": "stderr",
     "output_type": "stream",
     "text": [
      "C:\\Users\\joaop\\AppData\\Local\\Temp\\ipykernel_13580\\1555620758.py:43: FutureWarning: The behavior of DataFrame concatenation with empty or all-NA entries is deprecated. In a future version, this will no longer exclude empty or all-NA columns when determining the result dtypes. To retain the old behavior, exclude the relevant entries before the concat operation.\n",
      "  data = pd.concat(dataframes)\n"
     ]
    },
    {
     "data": {
      "text/html": [
       "<div>\n",
       "<style scoped>\n",
       "    .dataframe tbody tr th:only-of-type {\n",
       "        vertical-align: middle;\n",
       "    }\n",
       "\n",
       "    .dataframe tbody tr th {\n",
       "        vertical-align: top;\n",
       "    }\n",
       "\n",
       "    .dataframe thead th {\n",
       "        text-align: right;\n",
       "    }\n",
       "</style>\n",
       "<table border=\"1\" class=\"dataframe\">\n",
       "  <thead>\n",
       "    <tr style=\"text-align: right;\">\n",
       "      <th></th>\n",
       "      <th>Decile</th>\n",
       "      <th>source</th>\n",
       "      <th>native</th>\n",
       "      <th>name</th>\n",
       "      <th>p_value</th>\n",
       "      <th>significant</th>\n",
       "      <th>description</th>\n",
       "      <th>term_size</th>\n",
       "      <th>query_size</th>\n",
       "      <th>intersection_size</th>\n",
       "      <th>effective_domain_size</th>\n",
       "      <th>precision</th>\n",
       "      <th>recall</th>\n",
       "      <th>query</th>\n",
       "      <th>parents</th>\n",
       "      <th>Intersection_to_Term_Ratio</th>\n",
       "    </tr>\n",
       "  </thead>\n",
       "  <tbody>\n",
       "    <tr>\n",
       "      <th>0</th>\n",
       "      <td>1</td>\n",
       "      <td>krish_duda</td>\n",
       "      <td>prb_rec_LGD</td>\n",
       "      <td>Mutation: prb_rec_LGD</td>\n",
       "      <td>1.0</td>\n",
       "      <td>False</td>\n",
       "      <td>Mutation: prb_rec_LGD</td>\n",
       "      <td>20</td>\n",
       "      <td>291</td>\n",
       "      <td>20</td>\n",
       "      <td>291</td>\n",
       "      <td>0.068729</td>\n",
       "      <td>1.0</td>\n",
       "      <td>query_1</td>\n",
       "      <td>[]</td>\n",
       "      <td>1.0</td>\n",
       "    </tr>\n",
       "  </tbody>\n",
       "</table>\n",
       "</div>"
      ],
      "text/plain": [
       "   Decile      source       native                   name  p_value  \\\n",
       "0       1  krish_duda  prb_rec_LGD  Mutation: prb_rec_LGD      1.0   \n",
       "\n",
       "  significant            description term_size query_size intersection_size  \\\n",
       "0       False  Mutation: prb_rec_LGD        20        291                20   \n",
       "\n",
       "  effective_domain_size  precision  recall    query parents  \\\n",
       "0                   291   0.068729     1.0  query_1      []   \n",
       "\n",
       "  Intersection_to_Term_Ratio  \n",
       "0                        1.0  "
      ]
     },
     "execution_count": 85,
     "metadata": {},
     "output_type": "execute_result"
    }
   ],
   "source": [
    "MSSNG_lof = main_custom(deciles, 'krish_duda.gmt','prb_rec_LGD'),\"MSSNG_lof\" # native is the first \n",
    "MSSNG_lof[0]"
   ]
  },
  {
   "cell_type": "code",
   "execution_count": null,
   "metadata": {},
   "outputs": [],
   "source": []
  },
  {
   "cell_type": "code",
   "execution_count": null,
   "metadata": {},
   "outputs": [],
   "source": []
  }
 ],
 "metadata": {
  "kernelspec": {
   "display_name": "Python 3",
   "language": "python",
   "name": "python3"
  },
  "language_info": {
   "codemirror_mode": {
    "name": "ipython",
    "version": 3
   },
   "file_extension": ".py",
   "mimetype": "text/x-python",
   "name": "python",
   "nbconvert_exporter": "python",
   "pygments_lexer": "ipython3",
   "version": "3.12.2"
  }
 },
 "nbformat": 4,
 "nbformat_minor": 2
}
