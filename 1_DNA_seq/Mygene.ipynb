{
 "cells": [
  {
   "cell_type": "code",
   "execution_count": null,
   "metadata": {},
   "outputs": [],
   "source": []
  },
  {
   "cell_type": "markdown",
   "metadata": {},
   "source": [
    "# Get the Canonical dataset"
   ]
  },
  {
   "cell_type": "code",
   "execution_count": 1,
   "metadata": {},
   "outputs": [
    {
     "data": {
      "text/html": [
       "<div>\n",
       "<style scoped>\n",
       "    .dataframe tbody tr th:only-of-type {\n",
       "        vertical-align: middle;\n",
       "    }\n",
       "\n",
       "    .dataframe tbody tr th {\n",
       "        vertical-align: top;\n",
       "    }\n",
       "\n",
       "    .dataframe thead th {\n",
       "        text-align: right;\n",
       "    }\n",
       "</style>\n",
       "<table border=\"1\" class=\"dataframe\">\n",
       "  <thead>\n",
       "    <tr style=\"text-align: right;\">\n",
       "      <th></th>\n",
       "      <th>Gene stable ID</th>\n",
       "      <th>Gene name</th>\n",
       "      <th>Transcript stable ID</th>\n",
       "      <th>Ensembl Canonical</th>\n",
       "    </tr>\n",
       "  </thead>\n",
       "  <tbody>\n",
       "    <tr>\n",
       "      <th>0</th>\n",
       "      <td>ENSG00000210049</td>\n",
       "      <td>MT-TF</td>\n",
       "      <td>ENST00000387314</td>\n",
       "      <td>1.0</td>\n",
       "    </tr>\n",
       "    <tr>\n",
       "      <th>1</th>\n",
       "      <td>ENSG00000211459</td>\n",
       "      <td>MT-RNR1</td>\n",
       "      <td>ENST00000389680</td>\n",
       "      <td>1.0</td>\n",
       "    </tr>\n",
       "    <tr>\n",
       "      <th>2</th>\n",
       "      <td>ENSG00000210077</td>\n",
       "      <td>MT-TV</td>\n",
       "      <td>ENST00000387342</td>\n",
       "      <td>1.0</td>\n",
       "    </tr>\n",
       "    <tr>\n",
       "      <th>3</th>\n",
       "      <td>ENSG00000210082</td>\n",
       "      <td>MT-RNR2</td>\n",
       "      <td>ENST00000387347</td>\n",
       "      <td>1.0</td>\n",
       "    </tr>\n",
       "    <tr>\n",
       "      <th>4</th>\n",
       "      <td>ENSG00000209082</td>\n",
       "      <td>MT-TL1</td>\n",
       "      <td>ENST00000386347</td>\n",
       "      <td>1.0</td>\n",
       "    </tr>\n",
       "    <tr>\n",
       "      <th>...</th>\n",
       "      <td>...</td>\n",
       "      <td>...</td>\n",
       "      <td>...</td>\n",
       "      <td>...</td>\n",
       "    </tr>\n",
       "    <tr>\n",
       "      <th>276889</th>\n",
       "      <td>ENSG00000236500</td>\n",
       "      <td>CD24P1</td>\n",
       "      <td>ENST00000422383</td>\n",
       "      <td>1.0</td>\n",
       "    </tr>\n",
       "    <tr>\n",
       "      <th>276892</th>\n",
       "      <td>ENSG00000197312</td>\n",
       "      <td>DDI2</td>\n",
       "      <td>ENST00000480945</td>\n",
       "      <td>1.0</td>\n",
       "    </tr>\n",
       "    <tr>\n",
       "      <th>276898</th>\n",
       "      <td>ENSG00000215695</td>\n",
       "      <td>RSC1A1</td>\n",
       "      <td>ENST00000345034</td>\n",
       "      <td>1.0</td>\n",
       "    </tr>\n",
       "    <tr>\n",
       "      <th>276899</th>\n",
       "      <td>ENSG00000271742</td>\n",
       "      <td>NaN</td>\n",
       "      <td>ENST00000606262</td>\n",
       "      <td>1.0</td>\n",
       "    </tr>\n",
       "    <tr>\n",
       "      <th>276900</th>\n",
       "      <td>ENSG00000116786</td>\n",
       "      <td>PLEKHM2</td>\n",
       "      <td>ENST00000375799</td>\n",
       "      <td>1.0</td>\n",
       "    </tr>\n",
       "  </tbody>\n",
       "</table>\n",
       "<p>70116 rows × 4 columns</p>\n",
       "</div>"
      ],
      "text/plain": [
       "         Gene stable ID Gene name Transcript stable ID  Ensembl Canonical\n",
       "0       ENSG00000210049     MT-TF      ENST00000387314                1.0\n",
       "1       ENSG00000211459   MT-RNR1      ENST00000389680                1.0\n",
       "2       ENSG00000210077     MT-TV      ENST00000387342                1.0\n",
       "3       ENSG00000210082   MT-RNR2      ENST00000387347                1.0\n",
       "4       ENSG00000209082    MT-TL1      ENST00000386347                1.0\n",
       "...                 ...       ...                  ...                ...\n",
       "276889  ENSG00000236500    CD24P1      ENST00000422383                1.0\n",
       "276892  ENSG00000197312      DDI2      ENST00000480945                1.0\n",
       "276898  ENSG00000215695    RSC1A1      ENST00000345034                1.0\n",
       "276899  ENSG00000271742       NaN      ENST00000606262                1.0\n",
       "276900  ENSG00000116786   PLEKHM2      ENST00000375799                1.0\n",
       "\n",
       "[70116 rows x 4 columns]"
      ]
     },
     "execution_count": 1,
     "metadata": {},
     "output_type": "execute_result"
    }
   ],
   "source": [
    "from pybiomart import Dataset\n",
    "\n",
    "dataset = Dataset(name='hsapiens_gene_ensembl', host='http://www.ensembl.org')\n",
    "\n",
    "\n",
    "df = dataset.query(attributes=['ensembl_gene_id', 'external_gene_name', 'ensembl_transcript_id', 'transcript_is_canonical'])\n",
    "\n",
    "transcrip_df=df[df[\"Ensembl Canonical\"]==1].copy() # filter to only show the canonical genes\n",
    "\n",
    "transcrip_df"
   ]
  },
  {
   "cell_type": "code",
   "execution_count": 20,
   "metadata": {},
   "outputs": [
    {
     "name": "stdout",
     "output_type": "stream",
     "text": [
      "{'_id': '84301', '_version': 1, 'refseq': {'genomic': ['NC_000001.11', 'NC_060925.1'], 'protein': 'NP_115717.3', 'rna': 'NM_032341.5', 'translation': {'protein': 'NP_115717.3', 'rna': 'NM_032341.5'}}}\n"
     ]
    }
   ],
   "source": [
    "import mygene\n",
    "mg = mygene.MyGeneInfo()\n",
    "\n",
    "\n",
    "print(mg.getgene('ENSG00000197312',scope= 'ensembl.transcript', fields='refseq'))"
   ]
  },
  {
   "cell_type": "code",
   "execution_count": 15,
   "metadata": {},
   "outputs": [
    {
     "name": "stdout",
     "output_type": "stream",
     "text": [
      "[{'query': 'ENST00000387314', '_id': '4558', '_score': 29.75611, 'entrezgene': '4558', 'name': 'tRNA-Phe', 'symbol': 'TRNF', 'taxid': 9606}, {'query': 'ENST00000389680', '_id': '4549', '_score': 29.756325, 'entrezgene': '4549', 'name': 's-rRNA', 'symbol': 'RNR1', 'taxid': 9606}]\n"
     ]
    }
   ],
   "source": [
    "print(mg.querymany(['ENST00000387314', 'ENST00000389680'], scopes='ensembl.transcript', species='human'))"
   ]
  },
  {
   "cell_type": "code",
   "execution_count": null,
   "metadata": {},
   "outputs": [],
   "source": []
  }
 ],
 "metadata": {
  "kernelspec": {
   "display_name": "dna",
   "language": "python",
   "name": "python3"
  },
  "language_info": {
   "codemirror_mode": {
    "name": "ipython",
    "version": 3
   },
   "file_extension": ".py",
   "mimetype": "text/x-python",
   "name": "python",
   "nbconvert_exporter": "python",
   "pygments_lexer": "ipython3",
   "version": "3.8.18"
  }
 },
 "nbformat": 4,
 "nbformat_minor": 2
}
