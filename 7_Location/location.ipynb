{
 "cells": [
  {
   "cell_type": "code",
   "execution_count": 9,
   "metadata": {},
   "outputs": [
    {
     "data": {
      "text/html": [
       "<div>\n",
       "<style scoped>\n",
       "    .dataframe tbody tr th:only-of-type {\n",
       "        vertical-align: middle;\n",
       "    }\n",
       "\n",
       "    .dataframe tbody tr th {\n",
       "        vertical-align: top;\n",
       "    }\n",
       "\n",
       "    .dataframe thead th {\n",
       "        text-align: right;\n",
       "    }\n",
       "</style>\n",
       "<table border=\"1\" class=\"dataframe\">\n",
       "  <thead>\n",
       "    <tr style=\"text-align: right;\">\n",
       "      <th></th>\n",
       "      <th>Gene</th>\n",
       "      <th>Gene name</th>\n",
       "      <th>Tissue</th>\n",
       "      <th>Cell type</th>\n",
       "      <th>Level</th>\n",
       "      <th>Reliability</th>\n",
       "    </tr>\n",
       "  </thead>\n",
       "  <tbody>\n",
       "    <tr>\n",
       "      <th>0</th>\n",
       "      <td>ENSG00000000003</td>\n",
       "      <td>TSPAN6</td>\n",
       "      <td>adipose tissue</td>\n",
       "      <td>adipocytes</td>\n",
       "      <td>Not detected</td>\n",
       "      <td>Approved</td>\n",
       "    </tr>\n",
       "    <tr>\n",
       "      <th>1</th>\n",
       "      <td>ENSG00000000003</td>\n",
       "      <td>TSPAN6</td>\n",
       "      <td>adrenal gland</td>\n",
       "      <td>glandular cells</td>\n",
       "      <td>Not detected</td>\n",
       "      <td>Approved</td>\n",
       "    </tr>\n",
       "    <tr>\n",
       "      <th>2</th>\n",
       "      <td>ENSG00000000003</td>\n",
       "      <td>TSPAN6</td>\n",
       "      <td>appendix</td>\n",
       "      <td>glandular cells</td>\n",
       "      <td>Medium</td>\n",
       "      <td>Approved</td>\n",
       "    </tr>\n",
       "    <tr>\n",
       "      <th>3</th>\n",
       "      <td>ENSG00000000003</td>\n",
       "      <td>TSPAN6</td>\n",
       "      <td>appendix</td>\n",
       "      <td>lymphoid tissue</td>\n",
       "      <td>Not detected</td>\n",
       "      <td>Approved</td>\n",
       "    </tr>\n",
       "    <tr>\n",
       "      <th>4</th>\n",
       "      <td>ENSG00000000003</td>\n",
       "      <td>TSPAN6</td>\n",
       "      <td>bone marrow</td>\n",
       "      <td>hematopoietic cells</td>\n",
       "      <td>Not detected</td>\n",
       "      <td>Approved</td>\n",
       "    </tr>\n",
       "  </tbody>\n",
       "</table>\n",
       "</div>"
      ],
      "text/plain": [
       "              Gene Gene name          Tissue            Cell type  \\\n",
       "0  ENSG00000000003    TSPAN6  adipose tissue           adipocytes   \n",
       "1  ENSG00000000003    TSPAN6   adrenal gland      glandular cells   \n",
       "2  ENSG00000000003    TSPAN6        appendix      glandular cells   \n",
       "3  ENSG00000000003    TSPAN6        appendix      lymphoid tissue   \n",
       "4  ENSG00000000003    TSPAN6     bone marrow  hematopoietic cells   \n",
       "\n",
       "          Level Reliability  \n",
       "0  Not detected    Approved  \n",
       "1  Not detected    Approved  \n",
       "2        Medium    Approved  \n",
       "3  Not detected    Approved  \n",
       "4  Not detected    Approved  "
      ]
     },
     "execution_count": 9,
     "metadata": {},
     "output_type": "execute_result"
    }
   ],
   "source": [
    "import pandas as pd\n",
    "\n",
    "clinvar=pd.read_csv(\"normal_tissue.tsv\", sep=\"\\t\")\n",
    "clinvar.head()\n"
   ]
  },
  {
   "cell_type": "code",
   "execution_count": 10,
   "metadata": {},
   "outputs": [
    {
     "data": {
      "text/plain": [
       "['cerebellum',\n",
       " 'colon',\n",
       " 'esophagus',\n",
       " 'breast',\n",
       " 'tonsil',\n",
       " 'ovary',\n",
       " 'skin 2',\n",
       " nan,\n",
       " 'endometrium',\n",
       " 'gallbladder',\n",
       " 'vagina',\n",
       " 'adipose tissue',\n",
       " 'cervix',\n",
       " 'nasopharynx',\n",
       " 'epididymis',\n",
       " 'heart muscle',\n",
       " 'lactating breast',\n",
       " 'small intestine',\n",
       " 'lymph node',\n",
       " 'stomach 1',\n",
       " 'urinary bladder',\n",
       " 'pituitary gland',\n",
       " 'lung',\n",
       " 'cartilage',\n",
       " 'cerebral cortex',\n",
       " 'duodenum',\n",
       " 'salivary gland',\n",
       " 'caudate',\n",
       " 'seminal vesicle',\n",
       " 'adrenal gland',\n",
       " 'skin',\n",
       " 'smooth muscle',\n",
       " 'retina',\n",
       " 'eye',\n",
       " 'bone marrow',\n",
       " 'thymus',\n",
       " 'placenta',\n",
       " 'rectum',\n",
       " 'liver',\n",
       " 'endometrium 1',\n",
       " 'kidney',\n",
       " 'pancreas',\n",
       " 'endometrium 2',\n",
       " 'choroid plexus',\n",
       " 'hair',\n",
       " 'dorsal raphe',\n",
       " 'stomach 2',\n",
       " 'parathyroid gland',\n",
       " 'skeletal muscle',\n",
       " 'thyroid gland',\n",
       " 'substantia nigra',\n",
       " 'fallopian tube',\n",
       " 'soft tissue 1',\n",
       " 'appendix',\n",
       " 'skin 1',\n",
       " 'hypothalamus',\n",
       " 'oral mucosa',\n",
       " 'bronchus',\n",
       " 'prostate',\n",
       " 'testis',\n",
       " 'hippocampus',\n",
       " 'soft tissue 2',\n",
       " 'spleen',\n",
       " 'sole of foot']"
      ]
     },
     "execution_count": 10,
     "metadata": {},
     "output_type": "execute_result"
    }
   ],
   "source": [
    "values=clinvar[\"Tissue\"].values.tolist()\n",
    "values=list(set(values))\n",
    "values"
   ]
  },
  {
   "cell_type": "markdown",
   "metadata": {},
   "source": [
    "# Filter brain tissues "
   ]
  },
  {
   "cell_type": "code",
   "execution_count": 11,
   "metadata": {},
   "outputs": [],
   "source": [
    "brain_synonyms = [\"pituitary gland\", \"choroid plexus\", \"caudate\", \"hypothalamus\", \"substantia nigra\",\n",
    "                  \"cerebral cortex\", \"cerebellum\", \"hippocampus\", \"dorsal raphe\"]\n",
    "\n",
    "def is_brain(tissue):\n",
    "    if tissue in brain_synonyms:\n",
    "        return 1\n",
    "    else:\n",
    "        return 0"
   ]
  },
  {
   "cell_type": "code",
   "execution_count": 12,
   "metadata": {},
   "outputs": [],
   "source": [
    "\n",
    "clinvar_ed = clinvar.copy()\n",
    "clinvar_ed[\"Brain\"] = clinvar_ed[\"Tissue\"].apply(is_brain)\n"
   ]
  },
  {
   "cell_type": "code",
   "execution_count": 17,
   "metadata": {},
   "outputs": [
    {
     "name": "stdout",
     "output_type": "stream",
     "text": [
      "13468\n"
     ]
    }
   ],
   "source": [
    "brain=clinvar_ed[clinvar_ed[\"Brain\"]==1]\n",
    "print(len((set(brain[\"Gene\"].tolist()))))"
   ]
  },
  {
   "cell_type": "code",
   "execution_count": 14,
   "metadata": {},
   "outputs": [],
   "source": [
    "brain_genes=\"\\t\".join(list(set(brain[\"Gene\"].tolist())))\n",
    "other =\"\\t\".join([\"Br\",\"Tissue: Brain\"])\n",
    "gmt=other + \"\\t\" + brain_genes\n",
    "gmt[:300]\n",
    "\n",
    "\n",
    "with open(\"brain_genes.gmt\", \"w\") as file:\n",
    "    file.write(gmt)\n",
    "\n"
   ]
  },
  {
   "cell_type": "code",
   "execution_count": 15,
   "metadata": {},
   "outputs": [],
   "source": [
    "# read text file\n",
    "gene_list=pd.read_csv(\"gene_list.txt\",header=None )\n",
    "gene_list= gene_list[0].to_list()"
   ]
  },
  {
   "cell_type": "code",
   "execution_count": 16,
   "metadata": {},
   "outputs": [
    {
     "name": "stdout",
     "output_type": "stream",
     "text": [
      "899\n"
     ]
    }
   ],
   "source": [
    "gene_list[0]\n",
    "brain_list=(brain[\"Gene\"].tolist())\n",
    "\n",
    "score=0\n",
    "for gene in gene_list:\n",
    "    if gene in brain_list:\n",
    "        score += 1\n",
    "\n",
    "print (score)"
   ]
  },
  {
   "cell_type": "code",
   "execution_count": null,
   "metadata": {},
   "outputs": [],
   "source": []
  }
 ],
 "metadata": {
  "kernelspec": {
   "display_name": "Python 3",
   "language": "python",
   "name": "python3"
  },
  "language_info": {
   "codemirror_mode": {
    "name": "ipython",
    "version": 3
   },
   "file_extension": ".py",
   "mimetype": "text/x-python",
   "name": "python",
   "nbconvert_exporter": "python",
   "pygments_lexer": "ipython3",
   "version": "3.12.2"
  }
 },
 "nbformat": 4,
 "nbformat_minor": 2
}
