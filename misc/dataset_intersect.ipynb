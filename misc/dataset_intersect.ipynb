{
 "cells": [
  {
   "cell_type": "code",
   "execution_count": 1,
   "metadata": {},
   "outputs": [],
   "source": [
    "import pandas as pd\n",
    "import numpy as np\n",
    "\n",
    "from sklearn.model_selection import RandomizedSearchCV\n",
    "from sklearn.model_selection import GridSearchCV\n",
    "\n",
    "from sklearn.ensemble import RandomForestClassifier\n",
    "from sklearn.linear_model import LogisticRegression\n",
    "from sklearn.ensemble import RandomForestClassifier\n",
    "from lightgbm import LGBMClassifier\n",
    "from xgboost import XGBClassifier\n",
    "from sklearn.svm import SVC\n",
    "from sklearn.neighbors import KNeighborsClassifier\n",
    "from sklearn.naive_bayes import GaussianNB\n",
    "from sklearn.neural_network import MLPClassifier\n",
    "\n",
    "from sklearn.model_selection import cross_validate\n",
    "from sklearn.metrics import make_scorer,matthews_corrcoef,recall_score\n",
    "from sklearn.model_selection import  KFold"
   ]
  },
  {
   "cell_type": "code",
   "execution_count": 11,
   "metadata": {},
   "outputs": [],
   "source": [
    "df=pd.read_csv('prot_negatives.csv')\n",
    "df = df.drop(columns=[df.columns[3]])\n",
    "df.to_csv(\"prot_negatives.csv\", index=False)"
   ]
  },
  {
   "cell_type": "code",
   "execution_count": 12,
   "metadata": {},
   "outputs": [],
   "source": [
    "dna_positive = pd.read_csv('dna_positives.csv')\n",
    "prot_positive = pd.read_csv('prot_positives.csv')\n",
    "\n",
    "dna_negative = pd.read_csv('dna_negatives.csv')\n",
    "prot_negative = pd.read_csv('prot_negatives.csv')"
   ]
  },
  {
   "cell_type": "markdown",
   "metadata": {},
   "source": [
    "# Positive"
   ]
  },
  {
   "cell_type": "code",
   "execution_count": 13,
   "metadata": {},
   "outputs": [],
   "source": [
    "dna_positive_l = list(dna_positive[\"1\"])\n",
    "prot_positive_l = list(prot_positive[\"1\"])\n",
    "\n",
    "set_dna_positive = set(dna_positive_l)\n",
    "set_prot_positive = set(prot_positive_l)\n",
    "\n"
   ]
  },
  {
   "cell_type": "code",
   "execution_count": 14,
   "metadata": {},
   "outputs": [
    {
     "name": "stdout",
     "output_type": "stream",
     "text": [
      "Total of dna set 232\n",
      "Total of prot set 231\n",
      "missing dna with prot : 1\n",
      "missing dna with prot : 0\n"
     ]
    }
   ],
   "source": [
    "print(f'Total of dna set {len(set_dna_positive)}')\n",
    "print(f'Total of prot set {len(set_prot_positive)}')\n",
    "print(f'missing dna with prot : {len(set_dna_positive - set_prot_positive)}')\n",
    "print(f'missing dna with prot : {len(set_prot_positive - set_dna_positive)}')"
   ]
  },
  {
   "cell_type": "code",
   "execution_count": 15,
   "metadata": {},
   "outputs": [
    {
     "data": {
      "text/plain": [
       "{'ENSG00000142599'}"
      ]
     },
     "execution_count": 15,
     "metadata": {},
     "output_type": "execute_result"
    }
   ],
   "source": [
    "missing_pos = set_dna_positive - set_prot_positive\n",
    "missing_pos "
   ]
  },
  {
   "cell_type": "code",
   "execution_count": 16,
   "metadata": {},
   "outputs": [
    {
     "data": {
      "text/html": [
       "<div>\n",
       "<style scoped>\n",
       "    .dataframe tbody tr th:only-of-type {\n",
       "        vertical-align: middle;\n",
       "    }\n",
       "\n",
       "    .dataframe tbody tr th {\n",
       "        vertical-align: top;\n",
       "    }\n",
       "\n",
       "    .dataframe thead th {\n",
       "        text-align: right;\n",
       "    }\n",
       "</style>\n",
       "<table border=\"1\" class=\"dataframe\">\n",
       "  <thead>\n",
       "    <tr style=\"text-align: right;\">\n",
       "      <th></th>\n",
       "      <th>0</th>\n",
       "      <th>1</th>\n",
       "      <th>2</th>\n",
       "      <th>4</th>\n",
       "    </tr>\n",
       "  </thead>\n",
       "  <tbody>\n",
       "    <tr>\n",
       "      <th>225</th>\n",
       "      <td>RERE</td>\n",
       "      <td>ENSG00000142599</td>\n",
       "      <td>ENST00000400908</td>\n",
       "      <td>1</td>\n",
       "    </tr>\n",
       "  </tbody>\n",
       "</table>\n",
       "</div>"
      ],
      "text/plain": [
       "        0                1                2  4\n",
       "225  RERE  ENSG00000142599  ENST00000400908  1"
      ]
     },
     "execution_count": 16,
     "metadata": {},
     "output_type": "execute_result"
    }
   ],
   "source": [
    "#check the value ENSG00000142599 on the dna_positive\n",
    "dna_positive[dna_positive[\"1\"] == \"ENSG00000142599\"]"
   ]
  },
  {
   "cell_type": "markdown",
   "metadata": {},
   "source": [
    "# Negative"
   ]
  },
  {
   "cell_type": "code",
   "execution_count": 17,
   "metadata": {},
   "outputs": [
    {
     "name": "stdout",
     "output_type": "stream",
     "text": [
      "788\n"
     ]
    }
   ],
   "source": [
    "dna_negative_l = list(dna_negative[\"1\"])\n",
    "prot_negative_l = list(prot_negative[\"1\"])\n",
    "\n",
    "set_dna_negative = set(dna_negative_l)\n",
    "set_prot_negative = set(prot_negative_l)\n",
    "print(len(prot_negative_l))"
   ]
  },
  {
   "cell_type": "code",
   "execution_count": 18,
   "metadata": {},
   "outputs": [
    {
     "name": "stdout",
     "output_type": "stream",
     "text": [
      "Total of dna set 790\n",
      "Total of prot set 788\n",
      "missing dna with prot : 2\n",
      "missing dna with prot : 0\n"
     ]
    }
   ],
   "source": [
    "print(f'Total of dna set {len(set_dna_negative)}')\n",
    "print(f'Total of prot set {len(set_prot_negative)}')\n",
    "print(f'missing dna with prot : {len(set_dna_negative - set_prot_negative)}')\n",
    "print(f'missing dna with prot : {len(set_prot_negative - set_dna_negative)}')"
   ]
  },
  {
   "cell_type": "code",
   "execution_count": 19,
   "metadata": {},
   "outputs": [
    {
     "data": {
      "text/plain": [
       "{'ENSG00000135636', 'ENSG00000285508'}"
      ]
     },
     "execution_count": 19,
     "metadata": {},
     "output_type": "execute_result"
    }
   ],
   "source": [
    "missing = set_dna_negative - set_prot_negative\n",
    "missing "
   ]
  },
  {
   "cell_type": "code",
   "execution_count": 20,
   "metadata": {},
   "outputs": [
    {
     "data": {
      "text/html": [
       "<div>\n",
       "<style scoped>\n",
       "    .dataframe tbody tr th:only-of-type {\n",
       "        vertical-align: middle;\n",
       "    }\n",
       "\n",
       "    .dataframe tbody tr th {\n",
       "        vertical-align: top;\n",
       "    }\n",
       "\n",
       "    .dataframe thead th {\n",
       "        text-align: right;\n",
       "    }\n",
       "</style>\n",
       "<table border=\"1\" class=\"dataframe\">\n",
       "  <thead>\n",
       "    <tr style=\"text-align: right;\">\n",
       "      <th></th>\n",
       "      <th>0</th>\n",
       "      <th>1</th>\n",
       "      <th>2</th>\n",
       "      <th>4</th>\n",
       "    </tr>\n",
       "  </thead>\n",
       "  <tbody>\n",
       "    <tr>\n",
       "      <th>25</th>\n",
       "      <td>MKKS</td>\n",
       "      <td>ENSG00000285508</td>\n",
       "      <td>ENST00000609375</td>\n",
       "      <td>0</td>\n",
       "    </tr>\n",
       "    <tr>\n",
       "      <th>768</th>\n",
       "      <td>DYSF</td>\n",
       "      <td>ENSG00000135636</td>\n",
       "      <td>ENST00000410020</td>\n",
       "      <td>0</td>\n",
       "    </tr>\n",
       "  </tbody>\n",
       "</table>\n",
       "</div>"
      ],
      "text/plain": [
       "        0                1                2  4\n",
       "25   MKKS  ENSG00000285508  ENST00000609375  0\n",
       "768  DYSF  ENSG00000135636  ENST00000410020  0"
      ]
     },
     "execution_count": 20,
     "metadata": {},
     "output_type": "execute_result"
    }
   ],
   "source": [
    "dna_negative.loc[(dna_negative[\"1\"] == \"ENSG00000135636\") | (dna_negative[\"1\"] == \"ENSG00000285508\")]\n"
   ]
  },
  {
   "cell_type": "markdown",
   "metadata": {},
   "source": [
    "## Best scenario\n",
    "\n",
    "all most all of the genes appear in both."
   ]
  }
 ],
 "metadata": {
  "kernelspec": {
   "display_name": "dna",
   "language": "python",
   "name": "python3"
  },
  "language_info": {
   "codemirror_mode": {
    "name": "ipython",
    "version": 3
   },
   "file_extension": ".py",
   "mimetype": "text/x-python",
   "name": "python",
   "nbconvert_exporter": "python",
   "pygments_lexer": "ipython3",
   "version": "3.8.18"
  }
 },
 "nbformat": 4,
 "nbformat_minor": 2
}
