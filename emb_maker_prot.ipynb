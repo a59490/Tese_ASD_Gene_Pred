{
 "cells": [
  {
   "cell_type": "markdown",
   "id": "1bdbe82e",
   "metadata": {},
   "source": [
    "# 2nd aproach: using the whole protein sequence"
   ]
  },
  {
   "cell_type": "code",
   "execution_count": 34,
   "id": "5048d01d",
   "metadata": {},
   "outputs": [],
   "source": [
    "from Bio import SeqIO\n",
    "from pyfaidx import Fasta\n",
    "import pandas as pd\n",
    "import matplotlib.pyplot as plt\n",
    "import seaborn as sns\n",
    "import numpy as np\n",
    "\n",
    "fasta_file = \"Homo_sapiens.GRCh38.pep.all.fa\"\n",
    "\n",
    "edited_sequences = {}\n",
    "\n",
    "# Function to extract the transcript ID from the header\n",
    "def get_transcript_id(header):\n",
    "    header_parts = header.split()\n",
    "    for part in header_parts:\n",
    "        if part.startswith(\"transcript:\"):\n",
    "            return part.split(\":\")[1]\n",
    "\n",
    "for record in SeqIO.parse(fasta_file, \"fasta\"):\n",
    "    transcript_id = get_transcript_id(record.description) # Extract the transcript ID from the header\n",
    "    edited_sequences[transcript_id] = str(record.seq)"
   ]
  },
  {
   "cell_type": "code",
   "execution_count": 38,
   "id": "339731ed",
   "metadata": {},
   "outputs": [],
   "source": []
  },
  {
   "cell_type": "code",
   "execution_count": 39,
   "id": "e0d84bdc",
   "metadata": {},
   "outputs": [],
   "source": [
    "prot_seq = pd.DataFrame(edited_sequences.items(), columns=[\"Version_stable_ID\", \"protein_seq\"])\n",
    "def remove_version(stable_id):\n",
    "    return stable_id.split(\".\")[0]\n",
    "prot_seq[\"id\"]=prot_seq[\"Version_stable_ID\"].apply(remove_version)\n"
   ]
  },
  {
   "cell_type": "markdown",
   "id": "2fa6085a",
   "metadata": {},
   "source": [
    "## Get the Canonical dataset"
   ]
  },
  {
   "cell_type": "code",
   "execution_count": 12,
   "id": "47a31153",
   "metadata": {},
   "outputs": [],
   "source": [
    "from pybiomart import Dataset\n",
    "\n",
    "dataset = Dataset(name='hsapiens_gene_ensembl', host='http://www.ensembl.org')\n",
    "\n",
    "\n",
    "df = dataset.query(attributes=['ensembl_gene_id', 'external_gene_name', 'ensembl_transcript_id', 'transcript_is_canonical'])\n",
    "transcrip_df=df[df[\"Ensembl Canonical\"]==1].copy() # filter to only show the canonical genes"
   ]
  },
  {
   "cell_type": "markdown",
   "id": "71a550c6",
   "metadata": {},
   "source": [
    "# Merge the two datasets"
   ]
  },
  {
   "cell_type": "code",
   "execution_count": 41,
   "id": "89b83dc0",
   "metadata": {},
   "outputs": [
    {
     "data": {
      "text/html": [
       "<div>\n",
       "<style scoped>\n",
       "    .dataframe tbody tr th:only-of-type {\n",
       "        vertical-align: middle;\n",
       "    }\n",
       "\n",
       "    .dataframe tbody tr th {\n",
       "        vertical-align: top;\n",
       "    }\n",
       "\n",
       "    .dataframe thead th {\n",
       "        text-align: right;\n",
       "    }\n",
       "</style>\n",
       "<table border=\"1\" class=\"dataframe\">\n",
       "  <thead>\n",
       "    <tr style=\"text-align: right;\">\n",
       "      <th></th>\n",
       "      <th>Gene name</th>\n",
       "      <th>Gene stable ID</th>\n",
       "      <th>Version_stable_ID</th>\n",
       "      <th>protein_seq</th>\n",
       "    </tr>\n",
       "  </thead>\n",
       "  <tbody>\n",
       "    <tr>\n",
       "      <th>0</th>\n",
       "      <td>MT-ND1</td>\n",
       "      <td>ENSG00000198888</td>\n",
       "      <td>ENST00000361390.2</td>\n",
       "      <td>MPMANLLLLIVPILIAMAFLMLTERKILGYMQLRKGPNVVGPYGLL...</td>\n",
       "    </tr>\n",
       "    <tr>\n",
       "      <th>1</th>\n",
       "      <td>MT-ND2</td>\n",
       "      <td>ENSG00000198763</td>\n",
       "      <td>ENST00000361453.3</td>\n",
       "      <td>MNPLAQPVIYSTIFAGTLITALSSHWFFTWVGLEMNMLAFIPVLTK...</td>\n",
       "    </tr>\n",
       "    <tr>\n",
       "      <th>2</th>\n",
       "      <td>MT-CO1</td>\n",
       "      <td>ENSG00000198804</td>\n",
       "      <td>ENST00000361624.2</td>\n",
       "      <td>MFADRWLFSTNHKDIGTLYLLFGAWAGVLGTALSLLIRAELGQPGN...</td>\n",
       "    </tr>\n",
       "    <tr>\n",
       "      <th>3</th>\n",
       "      <td>MT-CO2</td>\n",
       "      <td>ENSG00000198712</td>\n",
       "      <td>ENST00000361739.1</td>\n",
       "      <td>MAHAAQVGLQDATSPIMEELITFHDHALMIIFLICFLVLYALFLTL...</td>\n",
       "    </tr>\n",
       "    <tr>\n",
       "      <th>4</th>\n",
       "      <td>MT-ATP8</td>\n",
       "      <td>ENSG00000228253</td>\n",
       "      <td>ENST00000361851.1</td>\n",
       "      <td>MPQLNTTVWPTMITPMLLTLFLITQLKMLNTNYHLPPSPKPMKMKN...</td>\n",
       "    </tr>\n",
       "    <tr>\n",
       "      <th>...</th>\n",
       "      <td>...</td>\n",
       "      <td>...</td>\n",
       "      <td>...</td>\n",
       "      <td>...</td>\n",
       "    </tr>\n",
       "    <tr>\n",
       "      <th>23818</th>\n",
       "      <td>DNAJC16</td>\n",
       "      <td>ENSG00000116138</td>\n",
       "      <td>ENST00000375847.8</td>\n",
       "      <td>MEVRKLSISWQFLIVLVLILQILSALDFDPYRVLGVSRTASQADIK...</td>\n",
       "    </tr>\n",
       "    <tr>\n",
       "      <th>23819</th>\n",
       "      <td>AGMAT</td>\n",
       "      <td>ENSG00000116771</td>\n",
       "      <td>ENST00000375826.4</td>\n",
       "      <td>MLRLLASGCARGPGPGVGARPAAGLFHPGRRQSRQASDAPRNQPPS...</td>\n",
       "    </tr>\n",
       "    <tr>\n",
       "      <th>23820</th>\n",
       "      <td>DDI2</td>\n",
       "      <td>ENSG00000197312</td>\n",
       "      <td>ENST00000480945.6</td>\n",
       "      <td>MLLTVYCVRRDLSEVTFSLQVDADFELHNFRALCELESGIPAAESQ...</td>\n",
       "    </tr>\n",
       "    <tr>\n",
       "      <th>23821</th>\n",
       "      <td>RSC1A1</td>\n",
       "      <td>ENSG00000215695</td>\n",
       "      <td>ENST00000345034.2</td>\n",
       "      <td>MSSLPTSDGFNHPARSSGQSPDVGNPMSLARSVSASVCPIKPSDSD...</td>\n",
       "    </tr>\n",
       "    <tr>\n",
       "      <th>23822</th>\n",
       "      <td>PLEKHM2</td>\n",
       "      <td>ENSG00000116786</td>\n",
       "      <td>ENST00000375799.8</td>\n",
       "      <td>MEPGEVKDRILENISLSVKKLQSYFAACEDEIPAIRNHDKVLQRLC...</td>\n",
       "    </tr>\n",
       "  </tbody>\n",
       "</table>\n",
       "<p>23823 rows × 4 columns</p>\n",
       "</div>"
      ],
      "text/plain": [
       "      Gene name   Gene stable ID  Version_stable_ID  \\\n",
       "0        MT-ND1  ENSG00000198888  ENST00000361390.2   \n",
       "1        MT-ND2  ENSG00000198763  ENST00000361453.3   \n",
       "2        MT-CO1  ENSG00000198804  ENST00000361624.2   \n",
       "3        MT-CO2  ENSG00000198712  ENST00000361739.1   \n",
       "4       MT-ATP8  ENSG00000228253  ENST00000361851.1   \n",
       "...         ...              ...                ...   \n",
       "23818   DNAJC16  ENSG00000116138  ENST00000375847.8   \n",
       "23819     AGMAT  ENSG00000116771  ENST00000375826.4   \n",
       "23820      DDI2  ENSG00000197312  ENST00000480945.6   \n",
       "23821    RSC1A1  ENSG00000215695  ENST00000345034.2   \n",
       "23822   PLEKHM2  ENSG00000116786  ENST00000375799.8   \n",
       "\n",
       "                                             protein_seq  \n",
       "0      MPMANLLLLIVPILIAMAFLMLTERKILGYMQLRKGPNVVGPYGLL...  \n",
       "1      MNPLAQPVIYSTIFAGTLITALSSHWFFTWVGLEMNMLAFIPVLTK...  \n",
       "2      MFADRWLFSTNHKDIGTLYLLFGAWAGVLGTALSLLIRAELGQPGN...  \n",
       "3      MAHAAQVGLQDATSPIMEELITFHDHALMIIFLICFLVLYALFLTL...  \n",
       "4      MPQLNTTVWPTMITPMLLTLFLITQLKMLNTNYHLPPSPKPMKMKN...  \n",
       "...                                                  ...  \n",
       "23818  MEVRKLSISWQFLIVLVLILQILSALDFDPYRVLGVSRTASQADIK...  \n",
       "23819  MLRLLASGCARGPGPGVGARPAAGLFHPGRRQSRQASDAPRNQPPS...  \n",
       "23820  MLLTVYCVRRDLSEVTFSLQVDADFELHNFRALCELESGIPAAESQ...  \n",
       "23821  MSSLPTSDGFNHPARSSGQSPDVGNPMSLARSVSASVCPIKPSDSD...  \n",
       "23822  MEPGEVKDRILENISLSVKKLQSYFAACEDEIPAIRNHDKVLQRLC...  \n",
       "\n",
       "[23823 rows x 4 columns]"
      ]
     },
     "execution_count": 41,
     "metadata": {},
     "output_type": "execute_result"
    }
   ],
   "source": [
    "cano_df = pd.merge(transcrip_df,prot_seq , left_on='Transcript stable ID', right_on='id')\n",
    "clean_df = cano_df[[\"Gene name\",\"Gene stable ID\",\"Version_stable_ID\",\"protein_seq\"]].copy()\n",
    "clean_df.head()"
   ]
  },
  {
   "cell_type": "markdown",
   "id": "9138c0f0",
   "metadata": {},
   "source": [
    "### Export to csv"
   ]
  },
  {
   "cell_type": "code",
   "execution_count": 42,
   "id": "82b5d2c1",
   "metadata": {},
   "outputs": [],
   "source": [
    "clean_df.to_csv(\"canonical_protein_seq.csv\", index=False)"
   ]
  },
  {
   "cell_type": "code",
   "execution_count": 1,
   "id": "0a391598",
   "metadata": {},
   "outputs": [
    {
     "name": "stderr",
     "output_type": "stream",
     "text": [
      "c:\\Users\\joaop\\anaconda3\\envs\\dna\\lib\\site-packages\\tqdm\\auto.py:21: TqdmWarning: IProgress not found. Please update jupyter and ipywidgets. See https://ipywidgets.readthedocs.io/en/stable/user_install.html\n",
      "  from .autonotebook import tqdm as notebook_tqdm\n"
     ]
    },
    {
     "ename": "ImportError",
     "evalue": "cannot import name 'SeqVecEmbedder' from 'bio_embeddings.embed' (c:\\Users\\joaop\\anaconda3\\envs\\dna\\lib\\site-packages\\bio_embeddings\\embed\\__init__.py)",
     "output_type": "error",
     "traceback": [
      "\u001b[1;31m---------------------------------------------------------------------------\u001b[0m",
      "\u001b[1;31mImportError\u001b[0m                               Traceback (most recent call last)",
      "\u001b[1;32mc:\\Users\\joaop\\Desktop\\INSA\\Documentos\\emb_maker_prot.ipynb Cell 13\u001b[0m line \u001b[0;36m1\n\u001b[1;32m----> <a href='vscode-notebook-cell:/c%3A/Users/joaop/Desktop/INSA/Documentos/emb_maker_prot.ipynb#X15sZmlsZQ%3D%3D?line=0'>1</a>\u001b[0m \u001b[39mfrom\u001b[39;00m \u001b[39mbio_embeddings\u001b[39;00m\u001b[39m.\u001b[39;00m\u001b[39membed\u001b[39;00m \u001b[39mimport\u001b[39;00m SeqVecEmbedder\n\u001b[0;32m      <a href='vscode-notebook-cell:/c%3A/Users/joaop/Desktop/INSA/Documentos/emb_maker_prot.ipynb#X15sZmlsZQ%3D%3D?line=2'>3</a>\u001b[0m embedder \u001b[39m=\u001b[39m SeqVecEmbedder()\n",
      "\u001b[1;31mImportError\u001b[0m: cannot import name 'SeqVecEmbedder' from 'bio_embeddings.embed' (c:\\Users\\joaop\\anaconda3\\envs\\dna\\lib\\site-packages\\bio_embeddings\\embed\\__init__.py)"
     ]
    }
   ],
   "source": [
    "from bio_embeddings.embed import SeqVecEmbedder\n",
    "\n",
    "embedder = SeqVecEmbedder()"
   ]
  },
  {
   "cell_type": "code",
   "execution_count": null,
   "id": "d5065492",
   "metadata": {},
   "outputs": [],
   "source": []
  }
 ],
 "metadata": {
  "kernelspec": {
   "display_name": "dna",
   "language": "python",
   "name": "python3"
  },
  "language_info": {
   "codemirror_mode": {
    "name": "ipython",
    "version": 3
   },
   "file_extension": ".py",
   "mimetype": "text/x-python",
   "name": "python",
   "nbconvert_exporter": "python",
   "pygments_lexer": "ipython3",
   "version": "3.8.18"
  }
 },
 "nbformat": 4,
 "nbformat_minor": 5
}
