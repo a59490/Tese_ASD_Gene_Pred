{
 "cells": [
  {
   "cell_type": "code",
   "execution_count": 9,
   "metadata": {},
   "outputs": [],
   "source": [
    "import seaborn as sns\n",
    "import pandas as pd\n",
    "import numpy as np\n",
    "\n",
    "from sklearn.linear_model import LogisticRegression\n",
    "from sklearn.ensemble import RandomForestClassifier\n",
    "from lightgbm import LGBMClassifier\n",
    "from xgboost import XGBClassifier\n",
    "from sklearn.svm import SVC\n",
    "from sklearn.neighbors import KNeighborsClassifier\n",
    "from sklearn.model_selection import RandomizedSearchCV\n",
    "from scipy.stats import uniform,randint\n",
    "\n",
    "\n",
    "from sklearn.model_selection import cross_validate\n",
    "from sklearn.metrics import make_scorer,matthews_corrcoef,recall_score "
   ]
  },
  {
   "cell_type": "markdown",
   "metadata": {},
   "source": [
    "# Using parts of the Sfari dataset\n"
   ]
  },
  {
   "cell_type": "code",
   "execution_count": 12,
   "metadata": {},
   "outputs": [],
   "source": [
    "\n",
    "sfari=pd.read_csv('sfari_ed_01_16_2024.csv')\n",
    "sfari=sfari[sfari['gene-score'] <= 1] # df with only sfari E1 genes\n",
    "\n",
    "#sydromic = pd.read_csv('sfari_ed_01_16_2024.csv')\n",
    "#sydromic = sydromic[pd.isna(sydromic['gene-score'])].copy() # df with only syndromic genes with no gene score\n",
    "\n",
    "#sfari= pd.concat([sydromic,sfari],ignore_index=True) # df with both syndromic and sfari E1 genes\n"
   ]
  },
  {
   "cell_type": "code",
   "execution_count": 14,
   "metadata": {},
   "outputs": [],
   "source": [
    "E1=pd.read_csv('final_dataset.csv',header=None)\n",
    "\n",
    "#merge the two datasets by ensembl id\n",
    "\n",
    "E1_dataset=pd.merge(E1,sfari,left_on=1,right_on='ensembl-id')\n",
    "E1_dataset=E1_dataset[[0,1,2,3,4]]\n",
    "\n",
    "negative_dataset=pd.read_csv('final_dataset.csv',header=None)\n",
    "negative_dataset=negative_dataset[negative_dataset[4] ==0]\n",
    "\n",
    "#concatenate the two datasets\n",
    "test_dataset=pd.concat([negative_dataset,E1_dataset],ignore_index=True)\n",
    "\n",
    "#export the dataset\n",
    "test_dataset.to_csv('cat_1_2_3.csv.gz', index=False, compression='gzip')"
   ]
  },
  {
   "cell_type": "code",
   "execution_count": null,
   "metadata": {},
   "outputs": [],
   "source": []
  }
 ],
 "metadata": {
  "kernelspec": {
   "display_name": "dna",
   "language": "python",
   "name": "python3"
  },
  "language_info": {
   "codemirror_mode": {
    "name": "ipython",
    "version": 3
   },
   "file_extension": ".py",
   "mimetype": "text/x-python",
   "name": "python",
   "nbconvert_exporter": "python",
   "pygments_lexer": "ipython3",
   "version": "3.8.18"
  }
 },
 "nbformat": 4,
 "nbformat_minor": 2
}
