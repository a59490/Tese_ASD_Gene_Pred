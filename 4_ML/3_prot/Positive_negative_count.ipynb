{
 "cells": [
  {
   "cell_type": "code",
   "execution_count": 2,
   "metadata": {},
   "outputs": [],
   "source": [
    "import pandas as pd\n",
    "import numpy as np\n",
    "\n",
    "from sklearn.model_selection import RandomizedSearchCV\n",
    "from sklearn.model_selection import GridSearchCV\n",
    "\n",
    "from sklearn.ensemble import RandomForestClassifier\n",
    "from sklearn.linear_model import LogisticRegression\n",
    "from sklearn.ensemble import RandomForestClassifier\n",
    "from lightgbm import LGBMClassifier\n",
    "from xgboost import XGBClassifier\n",
    "from sklearn.svm import SVC\n",
    "from sklearn.neighbors import KNeighborsClassifier\n",
    "\n",
    "from sklearn.model_selection import cross_validate\n",
    "from sklearn.metrics import make_scorer,matthews_corrcoef,recall_score\n"
   ]
  },
  {
   "cell_type": "code",
   "execution_count": 5,
   "metadata": {},
   "outputs": [
    {
     "name": "stdout",
     "output_type": "stream",
     "text": [
      "Cat_1\n",
      "0    789\n",
      "1    232\n",
      "Name: 4, dtype: int64\n",
      "Cat_1_sd\n",
      "0    789\n",
      "1    326\n",
      "Name: 4, dtype: int64\n",
      "Cat_1_2\n",
      "1    930\n",
      "0    789\n",
      "Name: 4, dtype: int64\n",
      "Cat_1_2_sd\n",
      "1    1024\n",
      "0     789\n",
      "Name: 4, dtype: int64\n",
      "Cat_1_2_3\n",
      "1    1060\n",
      "0     789\n",
      "Name: 4, dtype: int64\n",
      "Complete\n",
      "1    1154\n",
      "0     789\n",
      "Name: 4, dtype: int64\n"
     ]
    }
   ],
   "source": [
    "\n",
    "cat_1=pd.read_csv('gene_lists/cat_1.csv.gz',compression = 'gzip')\n",
    "cat_1_sd=pd.read_csv('gene_lists/cat_1_sd.csv.gz',compression = 'gzip')\n",
    "cat_2=pd.read_csv('gene_lists/cat_1_2.csv.gz',compression = 'gzip')\n",
    "cat_2_sd=pd.read_csv('gene_lists/cat_1_2_sd.csv.gz',compression = 'gzip')\n",
    "cat_3=pd.read_csv('gene_lists/cat_1_2_3.csv.gz',compression = 'gzip')\n",
    "complete=pd.read_csv('gene_lists/complete.csv.gz',compression = 'gzip')\n",
    "\n",
    "datasets=[(cat_1,\"Cat_1\"),(cat_1_sd,\"Cat_1_sd\"),(cat_2,\"Cat_1_2\"),(cat_2_sd,\"Cat_1_2_sd\"),\n",
    "          (cat_3,\"Cat_1_2_3\"),(complete,\"Complete\")]\n",
    "\n",
    "\n",
    "cat_1['4'].value_counts()\n",
    "\n",
    "for dataset,name in datasets:\n",
    "    print(name)\n",
    "    print(dataset['4'].value_counts())"
   ]
  },
  {
   "cell_type": "code",
   "execution_count": null,
   "metadata": {},
   "outputs": [],
   "source": []
  }
 ],
 "metadata": {
  "kernelspec": {
   "display_name": "dna",
   "language": "python",
   "name": "python3"
  },
  "language_info": {
   "codemirror_mode": {
    "name": "ipython",
    "version": 3
   },
   "file_extension": ".py",
   "mimetype": "text/x-python",
   "name": "python",
   "nbconvert_exporter": "python",
   "pygments_lexer": "ipython3",
   "version": "3.8.18"
  }
 },
 "nbformat": 4,
 "nbformat_minor": 2
}
