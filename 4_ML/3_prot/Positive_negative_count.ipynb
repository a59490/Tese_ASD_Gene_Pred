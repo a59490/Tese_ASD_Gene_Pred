{
 "cells": [
  {
   "cell_type": "code",
   "execution_count": 4,
   "metadata": {},
   "outputs": [],
   "source": [
    "import pandas as pd\n",
    "import numpy as np\n",
    "\n",
    "from sklearn.model_selection import RandomizedSearchCV\n",
    "from sklearn.model_selection import GridSearchCV\n",
    "\n",
    "from sklearn.ensemble import RandomForestClassifier\n",
    "from sklearn.linear_model import LogisticRegression\n",
    "from sklearn.ensemble import RandomForestClassifier\n",
    "from lightgbm import LGBMClassifier\n",
    "from xgboost import XGBClassifier\n",
    "from sklearn.svm import SVC\n",
    "from sklearn.neighbors import KNeighborsClassifier\n",
    "\n",
    "from sklearn.model_selection import cross_validate\n",
    "from sklearn.metrics import make_scorer,matthews_corrcoef,recall_score\n"
   ]
  },
  {
   "cell_type": "code",
   "execution_count": 6,
   "metadata": {},
   "outputs": [
    {
     "name": "stdout",
     "output_type": "stream",
     "text": [
      "Cat_1\n",
      "4\n",
      "0    788\n",
      "1    231\n",
      "Name: count, dtype: int64\n",
      "Cat_1_sd\n",
      "4\n",
      "0    788\n",
      "1    325\n",
      "Name: count, dtype: int64\n",
      "Cat_1_2\n",
      "4\n",
      "1    928\n",
      "0    788\n",
      "Name: count, dtype: int64\n",
      "Cat_1_2_sd\n",
      "4\n",
      "1    1022\n",
      "0     788\n",
      "Name: count, dtype: int64\n",
      "Cat_1_2_3\n",
      "4\n",
      "1    1058\n",
      "0     788\n",
      "Name: count, dtype: int64\n",
      "Complete\n",
      "4\n",
      "1    1152\n",
      "0     788\n",
      "Name: count, dtype: int64\n"
     ]
    }
   ],
   "source": [
    "\n",
    "cat_1=pd.read_csv('gene_lists/cat_1.csv.gz',compression = 'gzip')\n",
    "cat_1_sd=pd.read_csv('gene_lists/cat_1_sd.csv.gz',compression = 'gzip')\n",
    "cat_2=pd.read_csv('gene_lists/cat_1_2.csv.gz',compression = 'gzip')\n",
    "cat_2_sd=pd.read_csv('gene_lists/cat_1_2_sd.csv.gz',compression = 'gzip')\n",
    "cat_3=pd.read_csv('gene_lists/cat_1_2_3.csv.gz',compression = 'gzip')\n",
    "complete=pd.read_csv('gene_lists/complete.csv.gz',compression = 'gzip')\n",
    "\n",
    "datasets=[(cat_1,\"Cat_1\"),(cat_1_sd,\"Cat_1_sd\"),(cat_2,\"Cat_1_2\"),(cat_2_sd,\"Cat_1_2_sd\"),\n",
    "          (cat_3,\"Cat_1_2_3\"),(complete,\"Complete\")]\n",
    "\n",
    "\n",
    "\n",
    "for dataset,name in datasets:\n",
    "    print(name)\n",
    "    print(dataset['4'].value_counts())"
   ]
  },
  {
   "cell_type": "code",
   "execution_count": null,
   "metadata": {},
   "outputs": [],
   "source": []
  }
 ],
 "metadata": {
  "kernelspec": {
   "display_name": "dna",
   "language": "python",
   "name": "python3"
  },
  "language_info": {
   "codemirror_mode": {
    "name": "ipython",
    "version": 3
   },
   "file_extension": ".py",
   "mimetype": "text/x-python",
   "name": "python",
   "nbconvert_exporter": "python",
   "pygments_lexer": "ipython3",
   "version": "3.12.2"
  }
 },
 "nbformat": 4,
 "nbformat_minor": 2
}
