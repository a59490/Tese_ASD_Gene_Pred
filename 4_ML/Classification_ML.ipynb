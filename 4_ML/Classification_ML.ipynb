{
 "cells": [
  {
   "cell_type": "markdown",
   "metadata": {},
   "source": [
    "# First classification ML models\n"
   ]
  },
  {
   "cell_type": "code",
   "execution_count": 2,
   "metadata": {},
   "outputs": [],
   "source": [
    "import seaborn as sns\n",
    "import pandas as pd\n",
    "import numpy as np\n",
    "\n",
    "from sklearn.linear_model import LogisticRegression\n",
    "from sklearn.model_selection import cross_validate"
   ]
  },
  {
   "cell_type": "code",
   "execution_count": null,
   "metadata": {},
   "outputs": [],
   "source": [
    "X=pd.read_csv('Classification_file.csv')\n",
    "# drop the last column\n",
    "X.drop(X.columns[len(X.columns)-1], axis=1, inplace=True)\n",
    "\n",
    "Y=pd.read_csv('Classification_file.csv')\n",
    "# keep only the last column\n",
    "Y = Y[Y.columns[-1]]"
   ]
  },
  {
   "cell_type": "code",
   "execution_count": null,
   "metadata": {},
   "outputs": [],
   "source": [
    "lr=LogisticRegression()"
   ]
  },
  {
   "cell_type": "code",
   "execution_count": null,
   "metadata": {},
   "outputs": [],
   "source": [
    "from sklearn.metrics import make_scorer\n",
    "from sklearn.metrics import recall_score\n",
    "\n",
    "sensitivity_scorer = make_scorer(recall_score)\n",
    "specificity_scorer = make_scorer(recall_score, pos_label=0)\n",
    "\n",
    "\n",
    "scoring = {'AUC': 'roc_auc', 'Accuracy': \"accuracy\", \"f1\": \"f1\",\n",
    "                     \"Recall\": \"recall\", \"Precision\": \"precision\", \"Average Precision\": \"average_precision\",\"MCC\":\"mcc\",\n",
    "                    \"Sensitivity\": sensitivity_scorer, \"Specificity\": specificity_scorer}"
   ]
  },
  {
   "cell_type": "code",
   "execution_count": null,
   "metadata": {},
   "outputs": [],
   "source": [
    "print(cross_validate(lr, X, Y, scoring=scoring))"
   ]
  },
  {
   "cell_type": "code",
   "execution_count": null,
   "metadata": {},
   "outputs": [],
   "source": []
  }
 ],
 "metadata": {
  "kernelspec": {
   "display_name": "dna",
   "language": "python",
   "name": "python3"
  },
  "language_info": {
   "codemirror_mode": {
    "name": "ipython",
    "version": 3
   },
   "file_extension": ".py",
   "mimetype": "text/x-python",
   "name": "python",
   "nbconvert_exporter": "python",
   "pygments_lexer": "ipython3",
   "version": "3.8.18"
  }
 },
 "nbformat": 4,
 "nbformat_minor": 2
}
