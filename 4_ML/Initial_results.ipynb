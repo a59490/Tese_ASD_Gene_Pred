{
 "cells": [
  {
   "cell_type": "code",
   "execution_count": 1,
   "metadata": {},
   "outputs": [],
   "source": [
    "import seaborn as sns\n",
    "import pandas as pd\n",
    "import numpy as np\n",
    "\n",
    "from sklearn.linear_model import LogisticRegression\n",
    "from sklearn.ensemble import RandomForestClassifier\n",
    "from lightgbm import LGBMClassifier\n",
    "from xgboost import XGBClassifier\n",
    "from sklearn.svm import SVC\n",
    "from sklearn.neighbors import KNeighborsClassifier\n",
    "\n",
    "\n",
    "from sklearn.model_selection import cross_validate\n",
    "from sklearn.metrics import make_scorer\n",
    "from sklearn.metrics import recall_score\n",
    "from sklearn.metrics import matthews_corrcoef\n",
    "\n",
    "\n",
    "\n",
    "from sklearn.model_selection import train_test_split\n",
    "from sklearn import metrics\n",
    "from seaborn import heatmap\n",
    "from sklearn.metrics import confusion_matrix\n",
    "from matplotlib import pyplot as plt"
   ]
  },
  {
   "cell_type": "code",
   "execution_count": 19,
   "metadata": {},
   "outputs": [],
   "source": [
    "X=pd.read_csv('final_dataset.csv',header=None)\n",
    "\n",
    "X=X[5]\n",
    "X = X.str.split(expand=True)\n",
    "\n",
    "Y=pd.read_csv('final_dataset.csv',header=None)\n",
    "Y = Y[6]\n"
   ]
  },
  {
   "cell_type": "code",
   "execution_count": 17,
   "metadata": {},
   "outputs": [
    {
     "data": {
      "text/plain": [
       "0       TGAATAATTGAACTTTGTTTATTTCTCCATATTTTTGCAGTGGTAA...\n",
       "1       TGAATAATTGAACTTTGTTTATTTCTCCATATTTTTGCAGTGGTAA...\n",
       "2       AGAAGTGAGTTTTGGATAGTAAAATAAGTTTCGAACTCTGGCACCT...\n",
       "3       ACAGTCGGAGGCGGCAGAGACGGTGGCGGGTGAGCTAGGGGCTGTG...\n",
       "4       AGTCCCAAGCTCCGCCCCAGAGCGGACTCACAGCCCCCGCGCTCCC...\n",
       "                              ...                        \n",
       "2257    AGTCCCCGCTGAGACTGAGCAGACGCCTCCAGGATCTGTCGGCAGC...\n",
       "2258    ACTTCCGTCCAGACCGGAACCCAAGATGGCTGCGCTGTTGCTGAGA...\n",
       "2259    GTCAGGAGCCAAGATGGCGGCGGTGGTCGCCCTCTCCTTGAGGCGC...\n",
       "2260    ACTTGCTCGGAGGAGCCGGGGCCGAGCGGACCGCCGGCTGCAGGCA...\n",
       "2261    CTTTCTCTCCTGCTCTCGCGGCGGGAACGCGGGGCCTCCGTGTTCT...\n",
       "Name: 4, Length: 2262, dtype: object"
      ]
     },
     "execution_count": 17,
     "metadata": {},
     "output_type": "execute_result"
    }
   ],
   "source": [
    "X2=pd.read_csv('final_dataset.csv',header=None)\n",
    "X2=X2[4]\n",
    "X2"
   ]
  },
  {
   "cell_type": "code",
   "execution_count": 3,
   "metadata": {},
   "outputs": [
    {
     "name": "stdout",
     "output_type": "stream",
     "text": [
      "1    1160\n",
      "0    1102\n",
      "Name: 6, dtype: int64\n"
     ]
    }
   ],
   "source": [
    "print(Y.value_counts())\n"
   ]
  },
  {
   "cell_type": "code",
   "execution_count": 4,
   "metadata": {},
   "outputs": [
    {
     "data": {
      "text/plain": [
       "0      float64\n",
       "1      float64\n",
       "2      float64\n",
       "3      float64\n",
       "4      float64\n",
       "        ...   \n",
       "763    float64\n",
       "764    float64\n",
       "765    float64\n",
       "766    float64\n",
       "767    float64\n",
       "Length: 768, dtype: object"
      ]
     },
     "execution_count": 4,
     "metadata": {},
     "output_type": "execute_result"
    }
   ],
   "source": [
    "\n",
    "X = X.astype(float)\n",
    "X.dtypes"
   ]
  },
  {
   "cell_type": "markdown",
   "metadata": {},
   "source": [
    "less values that expected"
   ]
  },
  {
   "cell_type": "code",
   "execution_count": 5,
   "metadata": {},
   "outputs": [],
   "source": [
    "def cross_val(model, X, Y):\n",
    "    sensitivity_scorer = make_scorer(recall_score)\n",
    "    specificity_scorer = make_scorer(recall_score, pos_label=0)\n",
    "\n",
    "\n",
    "    scoring = {'AUC': 'roc_auc', 'Accuracy': \"accuracy\", \"f1\": \"f1\",\n",
    "                        \"Recall\": \"recall\", \"Precision\": \"precision\", \"Average Precision\": \"average_precision\",\n",
    "                        \"Sensitivity\": sensitivity_scorer, \"Specificity\": specificity_scorer}\n",
    "\n",
    "    scores=cross_validate(model, X, Y, scoring=scoring)\n",
    "\n",
    "    mean_scores = {metric: values.mean() for metric, values in scores.items()}\n",
    "\n",
    "    mean_scores_df = pd.DataFrame(list(mean_scores.items()), columns=['Metric', 'Mean Score'])\n",
    "\n",
    "    return mean_scores_df"
   ]
  },
  {
   "cell_type": "markdown",
   "metadata": {},
   "source": [
    "## Logistic regression"
   ]
  },
  {
   "cell_type": "code",
   "execution_count": 6,
   "metadata": {},
   "outputs": [
    {
     "data": {
      "text/html": [
       "<div>\n",
       "<style scoped>\n",
       "    .dataframe tbody tr th:only-of-type {\n",
       "        vertical-align: middle;\n",
       "    }\n",
       "\n",
       "    .dataframe tbody tr th {\n",
       "        vertical-align: top;\n",
       "    }\n",
       "\n",
       "    .dataframe thead th {\n",
       "        text-align: right;\n",
       "    }\n",
       "</style>\n",
       "<table border=\"1\" class=\"dataframe\">\n",
       "  <thead>\n",
       "    <tr style=\"text-align: right;\">\n",
       "      <th></th>\n",
       "      <th>Metric</th>\n",
       "      <th>Mean Score</th>\n",
       "    </tr>\n",
       "  </thead>\n",
       "  <tbody>\n",
       "    <tr>\n",
       "      <th>0</th>\n",
       "      <td>fit_time</td>\n",
       "      <td>0.089803</td>\n",
       "    </tr>\n",
       "    <tr>\n",
       "      <th>1</th>\n",
       "      <td>score_time</td>\n",
       "      <td>0.025921</td>\n",
       "    </tr>\n",
       "    <tr>\n",
       "      <th>2</th>\n",
       "      <td>test_AUC</td>\n",
       "      <td>0.602774</td>\n",
       "    </tr>\n",
       "    <tr>\n",
       "      <th>3</th>\n",
       "      <td>test_Accuracy</td>\n",
       "      <td>0.588415</td>\n",
       "    </tr>\n",
       "    <tr>\n",
       "      <th>4</th>\n",
       "      <td>test_f1</td>\n",
       "      <td>0.544361</td>\n",
       "    </tr>\n",
       "    <tr>\n",
       "      <th>5</th>\n",
       "      <td>test_Recall</td>\n",
       "      <td>0.481897</td>\n",
       "    </tr>\n",
       "    <tr>\n",
       "      <th>6</th>\n",
       "      <td>test_Precision</td>\n",
       "      <td>0.628668</td>\n",
       "    </tr>\n",
       "    <tr>\n",
       "      <th>7</th>\n",
       "      <td>test_Average Precision</td>\n",
       "      <td>0.583737</td>\n",
       "    </tr>\n",
       "    <tr>\n",
       "      <th>8</th>\n",
       "      <td>test_Sensitivity</td>\n",
       "      <td>0.481897</td>\n",
       "    </tr>\n",
       "    <tr>\n",
       "      <th>9</th>\n",
       "      <td>test_Specificity</td>\n",
       "      <td>0.700584</td>\n",
       "    </tr>\n",
       "  </tbody>\n",
       "</table>\n",
       "</div>"
      ],
      "text/plain": [
       "                   Metric  Mean Score\n",
       "0                fit_time    0.089803\n",
       "1              score_time    0.025921\n",
       "2                test_AUC    0.602774\n",
       "3           test_Accuracy    0.588415\n",
       "4                 test_f1    0.544361\n",
       "5             test_Recall    0.481897\n",
       "6          test_Precision    0.628668\n",
       "7  test_Average Precision    0.583737\n",
       "8        test_Sensitivity    0.481897\n",
       "9        test_Specificity    0.700584"
      ]
     },
     "execution_count": 6,
     "metadata": {},
     "output_type": "execute_result"
    }
   ],
   "source": [
    "lr=LogisticRegression()\n",
    "lr_scores=cross_val(lr,X,Y)\n",
    "lr_scores"
   ]
  },
  {
   "cell_type": "markdown",
   "metadata": {},
   "source": [
    "## LightGBM"
   ]
  },
  {
   "cell_type": "code",
   "execution_count": 7,
   "metadata": {},
   "outputs": [
    {
     "data": {
      "text/html": [
       "<div>\n",
       "<style scoped>\n",
       "    .dataframe tbody tr th:only-of-type {\n",
       "        vertical-align: middle;\n",
       "    }\n",
       "\n",
       "    .dataframe tbody tr th {\n",
       "        vertical-align: top;\n",
       "    }\n",
       "\n",
       "    .dataframe thead th {\n",
       "        text-align: right;\n",
       "    }\n",
       "</style>\n",
       "<table border=\"1\" class=\"dataframe\">\n",
       "  <thead>\n",
       "    <tr style=\"text-align: right;\">\n",
       "      <th></th>\n",
       "      <th>Metric</th>\n",
       "      <th>Mean Score</th>\n",
       "    </tr>\n",
       "  </thead>\n",
       "  <tbody>\n",
       "    <tr>\n",
       "      <th>0</th>\n",
       "      <td>fit_time</td>\n",
       "      <td>0.378957</td>\n",
       "    </tr>\n",
       "    <tr>\n",
       "      <th>1</th>\n",
       "      <td>score_time</td>\n",
       "      <td>0.030319</td>\n",
       "    </tr>\n",
       "    <tr>\n",
       "      <th>2</th>\n",
       "      <td>test_AUC</td>\n",
       "      <td>0.601479</td>\n",
       "    </tr>\n",
       "    <tr>\n",
       "      <th>3</th>\n",
       "      <td>test_Accuracy</td>\n",
       "      <td>0.588415</td>\n",
       "    </tr>\n",
       "    <tr>\n",
       "      <th>4</th>\n",
       "      <td>test_f1</td>\n",
       "      <td>0.544361</td>\n",
       "    </tr>\n",
       "    <tr>\n",
       "      <th>5</th>\n",
       "      <td>test_Recall</td>\n",
       "      <td>0.481897</td>\n",
       "    </tr>\n",
       "    <tr>\n",
       "      <th>6</th>\n",
       "      <td>test_Precision</td>\n",
       "      <td>0.628668</td>\n",
       "    </tr>\n",
       "    <tr>\n",
       "      <th>7</th>\n",
       "      <td>test_Average Precision</td>\n",
       "      <td>0.583372</td>\n",
       "    </tr>\n",
       "    <tr>\n",
       "      <th>8</th>\n",
       "      <td>test_Sensitivity</td>\n",
       "      <td>0.481897</td>\n",
       "    </tr>\n",
       "    <tr>\n",
       "      <th>9</th>\n",
       "      <td>test_Specificity</td>\n",
       "      <td>0.700584</td>\n",
       "    </tr>\n",
       "  </tbody>\n",
       "</table>\n",
       "</div>"
      ],
      "text/plain": [
       "                   Metric  Mean Score\n",
       "0                fit_time    0.378957\n",
       "1              score_time    0.030319\n",
       "2                test_AUC    0.601479\n",
       "3           test_Accuracy    0.588415\n",
       "4                 test_f1    0.544361\n",
       "5             test_Recall    0.481897\n",
       "6          test_Precision    0.628668\n",
       "7  test_Average Precision    0.583372\n",
       "8        test_Sensitivity    0.481897\n",
       "9        test_Specificity    0.700584"
      ]
     },
     "execution_count": 7,
     "metadata": {},
     "output_type": "execute_result"
    }
   ],
   "source": [
    "lg = LGBMClassifier(verbose=-1,number_estimators=1000,learning_rate=0.1)\n",
    "\n",
    "lg_scores=cross_val(lg,X,Y)\n",
    "lg_scores"
   ]
  },
  {
   "cell_type": "markdown",
   "metadata": {},
   "source": [
    "## Random forest"
   ]
  },
  {
   "cell_type": "code",
   "execution_count": 8,
   "metadata": {},
   "outputs": [
    {
     "data": {
      "text/html": [
       "<div>\n",
       "<style scoped>\n",
       "    .dataframe tbody tr th:only-of-type {\n",
       "        vertical-align: middle;\n",
       "    }\n",
       "\n",
       "    .dataframe tbody tr th {\n",
       "        vertical-align: top;\n",
       "    }\n",
       "\n",
       "    .dataframe thead th {\n",
       "        text-align: right;\n",
       "    }\n",
       "</style>\n",
       "<table border=\"1\" class=\"dataframe\">\n",
       "  <thead>\n",
       "    <tr style=\"text-align: right;\">\n",
       "      <th></th>\n",
       "      <th>Metric</th>\n",
       "      <th>Mean Score</th>\n",
       "    </tr>\n",
       "  </thead>\n",
       "  <tbody>\n",
       "    <tr>\n",
       "      <th>0</th>\n",
       "      <td>fit_time</td>\n",
       "      <td>0.593670</td>\n",
       "    </tr>\n",
       "    <tr>\n",
       "      <th>1</th>\n",
       "      <td>score_time</td>\n",
       "      <td>0.043678</td>\n",
       "    </tr>\n",
       "    <tr>\n",
       "      <th>2</th>\n",
       "      <td>test_AUC</td>\n",
       "      <td>0.601522</td>\n",
       "    </tr>\n",
       "    <tr>\n",
       "      <th>3</th>\n",
       "      <td>test_Accuracy</td>\n",
       "      <td>0.588415</td>\n",
       "    </tr>\n",
       "    <tr>\n",
       "      <th>4</th>\n",
       "      <td>test_f1</td>\n",
       "      <td>0.544361</td>\n",
       "    </tr>\n",
       "    <tr>\n",
       "      <th>5</th>\n",
       "      <td>test_Recall</td>\n",
       "      <td>0.481897</td>\n",
       "    </tr>\n",
       "    <tr>\n",
       "      <th>6</th>\n",
       "      <td>test_Precision</td>\n",
       "      <td>0.628668</td>\n",
       "    </tr>\n",
       "    <tr>\n",
       "      <th>7</th>\n",
       "      <td>test_Average Precision</td>\n",
       "      <td>0.583391</td>\n",
       "    </tr>\n",
       "    <tr>\n",
       "      <th>8</th>\n",
       "      <td>test_Sensitivity</td>\n",
       "      <td>0.481897</td>\n",
       "    </tr>\n",
       "    <tr>\n",
       "      <th>9</th>\n",
       "      <td>test_Specificity</td>\n",
       "      <td>0.700584</td>\n",
       "    </tr>\n",
       "  </tbody>\n",
       "</table>\n",
       "</div>"
      ],
      "text/plain": [
       "                   Metric  Mean Score\n",
       "0                fit_time    0.593670\n",
       "1              score_time    0.043678\n",
       "2                test_AUC    0.601522\n",
       "3           test_Accuracy    0.588415\n",
       "4                 test_f1    0.544361\n",
       "5             test_Recall    0.481897\n",
       "6          test_Precision    0.628668\n",
       "7  test_Average Precision    0.583391\n",
       "8        test_Sensitivity    0.481897\n",
       "9        test_Specificity    0.700584"
      ]
     },
     "execution_count": 8,
     "metadata": {},
     "output_type": "execute_result"
    }
   ],
   "source": [
    "rf = RandomForestClassifier()\n",
    "\n",
    "rf_scores=cross_val(rf,X,Y)\n",
    "rf_scores"
   ]
  },
  {
   "cell_type": "markdown",
   "metadata": {},
   "source": [
    "## SVC"
   ]
  },
  {
   "cell_type": "code",
   "execution_count": 9,
   "metadata": {},
   "outputs": [
    {
     "data": {
      "text/html": [
       "<div>\n",
       "<style scoped>\n",
       "    .dataframe tbody tr th:only-of-type {\n",
       "        vertical-align: middle;\n",
       "    }\n",
       "\n",
       "    .dataframe tbody tr th {\n",
       "        vertical-align: top;\n",
       "    }\n",
       "\n",
       "    .dataframe thead th {\n",
       "        text-align: right;\n",
       "    }\n",
       "</style>\n",
       "<table border=\"1\" class=\"dataframe\">\n",
       "  <thead>\n",
       "    <tr style=\"text-align: right;\">\n",
       "      <th></th>\n",
       "      <th>Metric</th>\n",
       "      <th>Mean Score</th>\n",
       "    </tr>\n",
       "  </thead>\n",
       "  <tbody>\n",
       "    <tr>\n",
       "      <th>0</th>\n",
       "      <td>fit_time</td>\n",
       "      <td>1.019719</td>\n",
       "    </tr>\n",
       "    <tr>\n",
       "      <th>1</th>\n",
       "      <td>score_time</td>\n",
       "      <td>0.822828</td>\n",
       "    </tr>\n",
       "    <tr>\n",
       "      <th>2</th>\n",
       "      <td>test_AUC</td>\n",
       "      <td>0.591345</td>\n",
       "    </tr>\n",
       "    <tr>\n",
       "      <th>3</th>\n",
       "      <td>test_Accuracy</td>\n",
       "      <td>0.588415</td>\n",
       "    </tr>\n",
       "    <tr>\n",
       "      <th>4</th>\n",
       "      <td>test_f1</td>\n",
       "      <td>0.544361</td>\n",
       "    </tr>\n",
       "    <tr>\n",
       "      <th>5</th>\n",
       "      <td>test_Recall</td>\n",
       "      <td>0.481897</td>\n",
       "    </tr>\n",
       "    <tr>\n",
       "      <th>6</th>\n",
       "      <td>test_Precision</td>\n",
       "      <td>0.628668</td>\n",
       "    </tr>\n",
       "    <tr>\n",
       "      <th>7</th>\n",
       "      <td>test_Average Precision</td>\n",
       "      <td>0.579249</td>\n",
       "    </tr>\n",
       "    <tr>\n",
       "      <th>8</th>\n",
       "      <td>test_Sensitivity</td>\n",
       "      <td>0.481897</td>\n",
       "    </tr>\n",
       "    <tr>\n",
       "      <th>9</th>\n",
       "      <td>test_Specificity</td>\n",
       "      <td>0.700584</td>\n",
       "    </tr>\n",
       "  </tbody>\n",
       "</table>\n",
       "</div>"
      ],
      "text/plain": [
       "                   Metric  Mean Score\n",
       "0                fit_time    1.019719\n",
       "1              score_time    0.822828\n",
       "2                test_AUC    0.591345\n",
       "3           test_Accuracy    0.588415\n",
       "4                 test_f1    0.544361\n",
       "5             test_Recall    0.481897\n",
       "6          test_Precision    0.628668\n",
       "7  test_Average Precision    0.579249\n",
       "8        test_Sensitivity    0.481897\n",
       "9        test_Specificity    0.700584"
      ]
     },
     "execution_count": 9,
     "metadata": {},
     "output_type": "execute_result"
    }
   ],
   "source": [
    "svc = SVC()\n",
    "svc_scores=cross_val(svc,X,Y)\n",
    "svc_scores"
   ]
  },
  {
   "cell_type": "code",
   "execution_count": null,
   "metadata": {},
   "outputs": [],
   "source": []
  }
 ],
 "metadata": {
  "kernelspec": {
   "display_name": "dna",
   "language": "python",
   "name": "python3"
  },
  "language_info": {
   "codemirror_mode": {
    "name": "ipython",
    "version": 3
   },
   "file_extension": ".py",
   "mimetype": "text/x-python",
   "name": "python",
   "nbconvert_exporter": "python",
   "pygments_lexer": "ipython3",
   "version": "3.8.18"
  }
 },
 "nbformat": 4,
 "nbformat_minor": 2
}
