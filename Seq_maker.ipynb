{
 "cells": [
  {
   "cell_type": "code",
   "execution_count": 1,
   "id": "33ccc9c2",
   "metadata": {},
   "outputs": [],
   "source": [
    "from pyfaidx import Fasta\n",
    "import pandas as pd\n",
    "import matplotlib.pyplot as plt\n",
    "import seaborn as sns\n",
    "\n",
    "sfari= pd.read_csv(\"sfari_ed.csv\")\n",
    "\n",
    "genes = Fasta('Homo_sapiens.GRCh38.cdna.all.fa')\n"
   ]
  },
  {
   "cell_type": "markdown",
   "id": "2df37b47",
   "metadata": {},
   "source": [
    "## Full list of the transcripts"
   ]
  },
  {
   "cell_type": "code",
   "execution_count": 2,
   "id": "7634fe4b",
   "metadata": {},
   "outputs": [],
   "source": [
    "names = pd.DataFrame(genes.keys(), columns=[\"id_version\"])\n",
    "names[\"id\"]= names[\"id_version\"].str.split(\".\").str.get(0)"
   ]
  },
  {
   "cell_type": "code",
   "execution_count": 3,
   "id": "d71d8066",
   "metadata": {},
   "outputs": [
    {
     "data": {
      "text/html": [
       "<div>\n",
       "<style scoped>\n",
       "    .dataframe tbody tr th:only-of-type {\n",
       "        vertical-align: middle;\n",
       "    }\n",
       "\n",
       "    .dataframe tbody tr th {\n",
       "        vertical-align: top;\n",
       "    }\n",
       "\n",
       "    .dataframe thead th {\n",
       "        text-align: right;\n",
       "    }\n",
       "</style>\n",
       "<table border=\"1\" class=\"dataframe\">\n",
       "  <thead>\n",
       "    <tr style=\"text-align: right;\">\n",
       "      <th></th>\n",
       "      <th>id_version</th>\n",
       "      <th>id</th>\n",
       "    </tr>\n",
       "  </thead>\n",
       "  <tbody>\n",
       "    <tr>\n",
       "      <th>0</th>\n",
       "      <td>ENST00000415118.1</td>\n",
       "      <td>ENST00000415118</td>\n",
       "    </tr>\n",
       "    <tr>\n",
       "      <th>1</th>\n",
       "      <td>ENST00000448914.1</td>\n",
       "      <td>ENST00000448914</td>\n",
       "    </tr>\n",
       "    <tr>\n",
       "      <th>2</th>\n",
       "      <td>ENST00000434970.2</td>\n",
       "      <td>ENST00000434970</td>\n",
       "    </tr>\n",
       "    <tr>\n",
       "      <th>3</th>\n",
       "      <td>ENST00000631435.1</td>\n",
       "      <td>ENST00000631435</td>\n",
       "    </tr>\n",
       "    <tr>\n",
       "      <th>4</th>\n",
       "      <td>ENST00000632684.1</td>\n",
       "      <td>ENST00000632684</td>\n",
       "    </tr>\n",
       "    <tr>\n",
       "      <th>...</th>\n",
       "      <td>...</td>\n",
       "      <td>...</td>\n",
       "    </tr>\n",
       "    <tr>\n",
       "      <th>207244</th>\n",
       "      <td>ENST00000568156.1</td>\n",
       "      <td>ENST00000568156</td>\n",
       "    </tr>\n",
       "    <tr>\n",
       "      <th>207245</th>\n",
       "      <td>ENST00000567218.1</td>\n",
       "      <td>ENST00000567218</td>\n",
       "    </tr>\n",
       "    <tr>\n",
       "      <th>207246</th>\n",
       "      <td>ENST00000569984.1</td>\n",
       "      <td>ENST00000569984</td>\n",
       "    </tr>\n",
       "    <tr>\n",
       "      <th>207247</th>\n",
       "      <td>ENST00000624828.1</td>\n",
       "      <td>ENST00000624828</td>\n",
       "    </tr>\n",
       "    <tr>\n",
       "      <th>207248</th>\n",
       "      <td>ENST00000436045.1</td>\n",
       "      <td>ENST00000436045</td>\n",
       "    </tr>\n",
       "  </tbody>\n",
       "</table>\n",
       "<p>207249 rows × 2 columns</p>\n",
       "</div>"
      ],
      "text/plain": [
       "               id_version               id\n",
       "0       ENST00000415118.1  ENST00000415118\n",
       "1       ENST00000448914.1  ENST00000448914\n",
       "2       ENST00000434970.2  ENST00000434970\n",
       "3       ENST00000631435.1  ENST00000631435\n",
       "4       ENST00000632684.1  ENST00000632684\n",
       "...                   ...              ...\n",
       "207244  ENST00000568156.1  ENST00000568156\n",
       "207245  ENST00000567218.1  ENST00000567218\n",
       "207246  ENST00000569984.1  ENST00000569984\n",
       "207247  ENST00000624828.1  ENST00000624828\n",
       "207248  ENST00000436045.1  ENST00000436045\n",
       "\n",
       "[207249 rows x 2 columns]"
      ]
     },
     "execution_count": 3,
     "metadata": {},
     "output_type": "execute_result"
    }
   ],
   "source": [
    "names"
   ]
  },
  {
   "cell_type": "markdown",
   "id": "e58c5b2f",
   "metadata": {},
   "source": [
    "# Get the Canonical dataset"
   ]
  },
  {
   "cell_type": "code",
   "execution_count": 4,
   "id": "238e5aa5",
   "metadata": {},
   "outputs": [],
   "source": [
    "from pybiomart import Dataset\n",
    "\n",
    "dataset = Dataset(name='hsapiens_gene_ensembl', host='http://www.ensembl.org')\n",
    "\n",
    "\n",
    "df = dataset.query(attributes=['ensembl_gene_id', 'external_gene_name', 'ensembl_transcript_id', 'transcript_is_canonical'])"
   ]
  },
  {
   "cell_type": "code",
   "execution_count": 5,
   "id": "e658d84f",
   "metadata": {},
   "outputs": [],
   "source": [
    "transcrip_df=df[df[\"Ensembl Canonical\"]==1].copy() # filter to only show the canonical genes"
   ]
  },
  {
   "cell_type": "code",
   "execution_count": 6,
   "id": "f6f3f8be",
   "metadata": {},
   "outputs": [
    {
     "data": {
      "text/html": [
       "<div>\n",
       "<style scoped>\n",
       "    .dataframe tbody tr th:only-of-type {\n",
       "        vertical-align: middle;\n",
       "    }\n",
       "\n",
       "    .dataframe tbody tr th {\n",
       "        vertical-align: top;\n",
       "    }\n",
       "\n",
       "    .dataframe thead th {\n",
       "        text-align: right;\n",
       "    }\n",
       "</style>\n",
       "<table border=\"1\" class=\"dataframe\">\n",
       "  <thead>\n",
       "    <tr style=\"text-align: right;\">\n",
       "      <th></th>\n",
       "      <th>Gene stable ID</th>\n",
       "      <th>Gene name</th>\n",
       "      <th>Transcript stable ID</th>\n",
       "      <th>Ensembl Canonical</th>\n",
       "    </tr>\n",
       "  </thead>\n",
       "  <tbody>\n",
       "    <tr>\n",
       "      <th>0</th>\n",
       "      <td>ENSG00000210049</td>\n",
       "      <td>MT-TF</td>\n",
       "      <td>ENST00000387314</td>\n",
       "      <td>1.0</td>\n",
       "    </tr>\n",
       "    <tr>\n",
       "      <th>1</th>\n",
       "      <td>ENSG00000211459</td>\n",
       "      <td>MT-RNR1</td>\n",
       "      <td>ENST00000389680</td>\n",
       "      <td>1.0</td>\n",
       "    </tr>\n",
       "    <tr>\n",
       "      <th>2</th>\n",
       "      <td>ENSG00000210077</td>\n",
       "      <td>MT-TV</td>\n",
       "      <td>ENST00000387342</td>\n",
       "      <td>1.0</td>\n",
       "    </tr>\n",
       "    <tr>\n",
       "      <th>3</th>\n",
       "      <td>ENSG00000210082</td>\n",
       "      <td>MT-RNR2</td>\n",
       "      <td>ENST00000387347</td>\n",
       "      <td>1.0</td>\n",
       "    </tr>\n",
       "    <tr>\n",
       "      <th>4</th>\n",
       "      <td>ENSG00000209082</td>\n",
       "      <td>MT-TL1</td>\n",
       "      <td>ENST00000386347</td>\n",
       "      <td>1.0</td>\n",
       "    </tr>\n",
       "    <tr>\n",
       "      <th>...</th>\n",
       "      <td>...</td>\n",
       "      <td>...</td>\n",
       "      <td>...</td>\n",
       "      <td>...</td>\n",
       "    </tr>\n",
       "    <tr>\n",
       "      <th>276889</th>\n",
       "      <td>ENSG00000236500</td>\n",
       "      <td>CD24P1</td>\n",
       "      <td>ENST00000422383</td>\n",
       "      <td>1.0</td>\n",
       "    </tr>\n",
       "    <tr>\n",
       "      <th>276892</th>\n",
       "      <td>ENSG00000197312</td>\n",
       "      <td>DDI2</td>\n",
       "      <td>ENST00000480945</td>\n",
       "      <td>1.0</td>\n",
       "    </tr>\n",
       "    <tr>\n",
       "      <th>276898</th>\n",
       "      <td>ENSG00000215695</td>\n",
       "      <td>RSC1A1</td>\n",
       "      <td>ENST00000345034</td>\n",
       "      <td>1.0</td>\n",
       "    </tr>\n",
       "    <tr>\n",
       "      <th>276899</th>\n",
       "      <td>ENSG00000271742</td>\n",
       "      <td>NaN</td>\n",
       "      <td>ENST00000606262</td>\n",
       "      <td>1.0</td>\n",
       "    </tr>\n",
       "    <tr>\n",
       "      <th>276900</th>\n",
       "      <td>ENSG00000116786</td>\n",
       "      <td>PLEKHM2</td>\n",
       "      <td>ENST00000375799</td>\n",
       "      <td>1.0</td>\n",
       "    </tr>\n",
       "  </tbody>\n",
       "</table>\n",
       "<p>70116 rows × 4 columns</p>\n",
       "</div>"
      ],
      "text/plain": [
       "         Gene stable ID Gene name Transcript stable ID  Ensembl Canonical\n",
       "0       ENSG00000210049     MT-TF      ENST00000387314                1.0\n",
       "1       ENSG00000211459   MT-RNR1      ENST00000389680                1.0\n",
       "2       ENSG00000210077     MT-TV      ENST00000387342                1.0\n",
       "3       ENSG00000210082   MT-RNR2      ENST00000387347                1.0\n",
       "4       ENSG00000209082    MT-TL1      ENST00000386347                1.0\n",
       "...                 ...       ...                  ...                ...\n",
       "276889  ENSG00000236500    CD24P1      ENST00000422383                1.0\n",
       "276892  ENSG00000197312      DDI2      ENST00000480945                1.0\n",
       "276898  ENSG00000215695    RSC1A1      ENST00000345034                1.0\n",
       "276899  ENSG00000271742       NaN      ENST00000606262                1.0\n",
       "276900  ENSG00000116786   PLEKHM2      ENST00000375799                1.0\n",
       "\n",
       "[70116 rows x 4 columns]"
      ]
     },
     "execution_count": 6,
     "metadata": {},
     "output_type": "execute_result"
    }
   ],
   "source": [
    "transcrip_df"
   ]
  },
  {
   "cell_type": "markdown",
   "id": "4eb17c01",
   "metadata": {},
   "source": [
    "### Merge the full transcipts with the cannonical transcripts"
   ]
  },
  {
   "cell_type": "markdown",
   "id": "3109e548",
   "metadata": {},
   "source": [
    "The purpose of this is to extract the Transcript version"
   ]
  },
  {
   "cell_type": "code",
   "execution_count": 7,
   "id": "58f9d316",
   "metadata": {},
   "outputs": [],
   "source": [
    "cano_df = pd.merge(transcrip_df,names , left_on='Transcript stable ID', right_on='id')"
   ]
  },
  {
   "cell_type": "code",
   "execution_count": 8,
   "id": "a1242c22",
   "metadata": {},
   "outputs": [],
   "source": [
    "clean_df = cano_df[[\"Gene name\",\"Gene stable ID\",\"id_version\"]].copy()"
   ]
  },
  {
   "cell_type": "code",
   "execution_count": 9,
   "id": "85f24456",
   "metadata": {},
   "outputs": [
    {
     "data": {
      "text/html": [
       "<div>\n",
       "<style scoped>\n",
       "    .dataframe tbody tr th:only-of-type {\n",
       "        vertical-align: middle;\n",
       "    }\n",
       "\n",
       "    .dataframe tbody tr th {\n",
       "        vertical-align: top;\n",
       "    }\n",
       "\n",
       "    .dataframe thead th {\n",
       "        text-align: right;\n",
       "    }\n",
       "</style>\n",
       "<table border=\"1\" class=\"dataframe\">\n",
       "  <thead>\n",
       "    <tr style=\"text-align: right;\">\n",
       "      <th></th>\n",
       "      <th>Gene name</th>\n",
       "      <th>Gene stable ID</th>\n",
       "      <th>id_version</th>\n",
       "    </tr>\n",
       "  </thead>\n",
       "  <tbody>\n",
       "    <tr>\n",
       "      <th>0</th>\n",
       "      <td>MT-ND1</td>\n",
       "      <td>ENSG00000198888</td>\n",
       "      <td>ENST00000361390.2</td>\n",
       "    </tr>\n",
       "    <tr>\n",
       "      <th>1</th>\n",
       "      <td>MT-ND2</td>\n",
       "      <td>ENSG00000198763</td>\n",
       "      <td>ENST00000361453.3</td>\n",
       "    </tr>\n",
       "    <tr>\n",
       "      <th>2</th>\n",
       "      <td>MT-CO1</td>\n",
       "      <td>ENSG00000198804</td>\n",
       "      <td>ENST00000361624.2</td>\n",
       "    </tr>\n",
       "    <tr>\n",
       "      <th>3</th>\n",
       "      <td>MT-CO2</td>\n",
       "      <td>ENSG00000198712</td>\n",
       "      <td>ENST00000361739.1</td>\n",
       "    </tr>\n",
       "    <tr>\n",
       "      <th>4</th>\n",
       "      <td>MT-ATP8</td>\n",
       "      <td>ENSG00000228253</td>\n",
       "      <td>ENST00000361851.1</td>\n",
       "    </tr>\n",
       "    <tr>\n",
       "      <th>...</th>\n",
       "      <td>...</td>\n",
       "      <td>...</td>\n",
       "      <td>...</td>\n",
       "    </tr>\n",
       "    <tr>\n",
       "      <th>41079</th>\n",
       "      <td>CHCHD2P6</td>\n",
       "      <td>ENSG00000235084</td>\n",
       "      <td>ENST00000454346.1</td>\n",
       "    </tr>\n",
       "    <tr>\n",
       "      <th>41080</th>\n",
       "      <td>CD24P1</td>\n",
       "      <td>ENSG00000236500</td>\n",
       "      <td>ENST00000422383.1</td>\n",
       "    </tr>\n",
       "    <tr>\n",
       "      <th>41081</th>\n",
       "      <td>DDI2</td>\n",
       "      <td>ENSG00000197312</td>\n",
       "      <td>ENST00000480945.6</td>\n",
       "    </tr>\n",
       "    <tr>\n",
       "      <th>41082</th>\n",
       "      <td>RSC1A1</td>\n",
       "      <td>ENSG00000215695</td>\n",
       "      <td>ENST00000345034.2</td>\n",
       "    </tr>\n",
       "    <tr>\n",
       "      <th>41083</th>\n",
       "      <td>PLEKHM2</td>\n",
       "      <td>ENSG00000116786</td>\n",
       "      <td>ENST00000375799.8</td>\n",
       "    </tr>\n",
       "  </tbody>\n",
       "</table>\n",
       "<p>41084 rows × 3 columns</p>\n",
       "</div>"
      ],
      "text/plain": [
       "      Gene name   Gene stable ID         id_version\n",
       "0        MT-ND1  ENSG00000198888  ENST00000361390.2\n",
       "1        MT-ND2  ENSG00000198763  ENST00000361453.3\n",
       "2        MT-CO1  ENSG00000198804  ENST00000361624.2\n",
       "3        MT-CO2  ENSG00000198712  ENST00000361739.1\n",
       "4       MT-ATP8  ENSG00000228253  ENST00000361851.1\n",
       "...         ...              ...                ...\n",
       "41079  CHCHD2P6  ENSG00000235084  ENST00000454346.1\n",
       "41080    CD24P1  ENSG00000236500  ENST00000422383.1\n",
       "41081      DDI2  ENSG00000197312  ENST00000480945.6\n",
       "41082    RSC1A1  ENSG00000215695  ENST00000345034.2\n",
       "41083   PLEKHM2  ENSG00000116786  ENST00000375799.8\n",
       "\n",
       "[41084 rows x 3 columns]"
      ]
     },
     "execution_count": 9,
     "metadata": {},
     "output_type": "execute_result"
    }
   ],
   "source": [
    "clean_df"
   ]
  },
  {
   "cell_type": "markdown",
   "id": "d7b78198",
   "metadata": {},
   "source": [
    "# Add the sequences"
   ]
  },
  {
   "cell_type": "code",
   "execution_count": 10,
   "id": "73a68556",
   "metadata": {},
   "outputs": [],
   "source": [
    "def get_seq(id):\n",
    "    if id in genes:\n",
    "                seq=genes[id][:].seq\n",
    "                return seq"
   ]
  },
  {
   "cell_type": "code",
   "execution_count": 11,
   "id": "de35cc42",
   "metadata": {},
   "outputs": [],
   "source": [
    "clean_dna=clean_df.copy()\n",
    "clean_dna[\"seq\"]=clean_dna['id_version'].apply(get_seq)"
   ]
  },
  {
   "cell_type": "code",
   "execution_count": 12,
   "id": "30c0dc79",
   "metadata": {},
   "outputs": [
    {
     "data": {
      "text/html": [
       "<div>\n",
       "<style scoped>\n",
       "    .dataframe tbody tr th:only-of-type {\n",
       "        vertical-align: middle;\n",
       "    }\n",
       "\n",
       "    .dataframe tbody tr th {\n",
       "        vertical-align: top;\n",
       "    }\n",
       "\n",
       "    .dataframe thead th {\n",
       "        text-align: right;\n",
       "    }\n",
       "</style>\n",
       "<table border=\"1\" class=\"dataframe\">\n",
       "  <thead>\n",
       "    <tr style=\"text-align: right;\">\n",
       "      <th></th>\n",
       "      <th>Gene name</th>\n",
       "      <th>Gene stable ID</th>\n",
       "      <th>id_version</th>\n",
       "      <th>seq</th>\n",
       "    </tr>\n",
       "  </thead>\n",
       "  <tbody>\n",
       "    <tr>\n",
       "      <th>0</th>\n",
       "      <td>MT-ND1</td>\n",
       "      <td>ENSG00000198888</td>\n",
       "      <td>ENST00000361390.2</td>\n",
       "      <td>ATACCCATGGCCAACCTCCTACTCCTCATTGTACCCATTCTAATCG...</td>\n",
       "    </tr>\n",
       "    <tr>\n",
       "      <th>1</th>\n",
       "      <td>MT-ND2</td>\n",
       "      <td>ENSG00000198763</td>\n",
       "      <td>ENST00000361453.3</td>\n",
       "      <td>ATTAATCCCCTGGCCCAACCCGTCATCTACTCTACCATCTTTGCAG...</td>\n",
       "    </tr>\n",
       "    <tr>\n",
       "      <th>2</th>\n",
       "      <td>MT-CO1</td>\n",
       "      <td>ENSG00000198804</td>\n",
       "      <td>ENST00000361624.2</td>\n",
       "      <td>ATGTTCGCCGACCGTTGACTATTCTCTACAAACCACAAAGACATTG...</td>\n",
       "    </tr>\n",
       "    <tr>\n",
       "      <th>3</th>\n",
       "      <td>MT-CO2</td>\n",
       "      <td>ENSG00000198712</td>\n",
       "      <td>ENST00000361739.1</td>\n",
       "      <td>ATGGCACATGCAGCGCAAGTAGGTCTACAAGACGCTACTTCCCCTA...</td>\n",
       "    </tr>\n",
       "    <tr>\n",
       "      <th>4</th>\n",
       "      <td>MT-ATP8</td>\n",
       "      <td>ENSG00000228253</td>\n",
       "      <td>ENST00000361851.1</td>\n",
       "      <td>ATGCCCCAACTAAATACTACCGTATGGCCCACCATAATTACCCCCA...</td>\n",
       "    </tr>\n",
       "    <tr>\n",
       "      <th>...</th>\n",
       "      <td>...</td>\n",
       "      <td>...</td>\n",
       "      <td>...</td>\n",
       "      <td>...</td>\n",
       "    </tr>\n",
       "    <tr>\n",
       "      <th>41079</th>\n",
       "      <td>CHCHD2P6</td>\n",
       "      <td>ENSG00000235084</td>\n",
       "      <td>ENST00000454346.1</td>\n",
       "      <td>GGAAGCCGAAGCCACACCTCCCGCATGGCCCCTCCGGCCAGCCGGG...</td>\n",
       "    </tr>\n",
       "    <tr>\n",
       "      <th>41080</th>\n",
       "      <td>CD24P1</td>\n",
       "      <td>ENSG00000236500</td>\n",
       "      <td>ENST00000422383.1</td>\n",
       "      <td>GCAATGGTGGACAGGCTCAGGCTGGGGCTGCTGCTTCTGGCACTGC...</td>\n",
       "    </tr>\n",
       "    <tr>\n",
       "      <th>41081</th>\n",
       "      <td>DDI2</td>\n",
       "      <td>ENSG00000197312</td>\n",
       "      <td>ENST00000480945.6</td>\n",
       "      <td>AGACGGACTCGCAGGCGTGTGGCGGCGGCCGTGCTTGCTAGTGAGG...</td>\n",
       "    </tr>\n",
       "    <tr>\n",
       "      <th>41082</th>\n",
       "      <td>RSC1A1</td>\n",
       "      <td>ENSG00000215695</td>\n",
       "      <td>ENST00000345034.2</td>\n",
       "      <td>AAGAGAAACCCGAGTTTGAGGACCTTATTTTATTCTACGCTGTTTA...</td>\n",
       "    </tr>\n",
       "    <tr>\n",
       "      <th>41083</th>\n",
       "      <td>PLEKHM2</td>\n",
       "      <td>ENSG00000116786</td>\n",
       "      <td>ENST00000375799.8</td>\n",
       "      <td>GCACAGCCCGCGGCCTCCTTCCCCGCCGGCCGCGCTCCGGAGCCTC...</td>\n",
       "    </tr>\n",
       "  </tbody>\n",
       "</table>\n",
       "<p>41084 rows × 4 columns</p>\n",
       "</div>"
      ],
      "text/plain": [
       "      Gene name   Gene stable ID         id_version  \\\n",
       "0        MT-ND1  ENSG00000198888  ENST00000361390.2   \n",
       "1        MT-ND2  ENSG00000198763  ENST00000361453.3   \n",
       "2        MT-CO1  ENSG00000198804  ENST00000361624.2   \n",
       "3        MT-CO2  ENSG00000198712  ENST00000361739.1   \n",
       "4       MT-ATP8  ENSG00000228253  ENST00000361851.1   \n",
       "...         ...              ...                ...   \n",
       "41079  CHCHD2P6  ENSG00000235084  ENST00000454346.1   \n",
       "41080    CD24P1  ENSG00000236500  ENST00000422383.1   \n",
       "41081      DDI2  ENSG00000197312  ENST00000480945.6   \n",
       "41082    RSC1A1  ENSG00000215695  ENST00000345034.2   \n",
       "41083   PLEKHM2  ENSG00000116786  ENST00000375799.8   \n",
       "\n",
       "                                                     seq  \n",
       "0      ATACCCATGGCCAACCTCCTACTCCTCATTGTACCCATTCTAATCG...  \n",
       "1      ATTAATCCCCTGGCCCAACCCGTCATCTACTCTACCATCTTTGCAG...  \n",
       "2      ATGTTCGCCGACCGTTGACTATTCTCTACAAACCACAAAGACATTG...  \n",
       "3      ATGGCACATGCAGCGCAAGTAGGTCTACAAGACGCTACTTCCCCTA...  \n",
       "4      ATGCCCCAACTAAATACTACCGTATGGCCCACCATAATTACCCCCA...  \n",
       "...                                                  ...  \n",
       "41079  GGAAGCCGAAGCCACACCTCCCGCATGGCCCCTCCGGCCAGCCGGG...  \n",
       "41080  GCAATGGTGGACAGGCTCAGGCTGGGGCTGCTGCTTCTGGCACTGC...  \n",
       "41081  AGACGGACTCGCAGGCGTGTGGCGGCGGCCGTGCTTGCTAGTGAGG...  \n",
       "41082  AAGAGAAACCCGAGTTTGAGGACCTTATTTTATTCTACGCTGTTTA...  \n",
       "41083  GCACAGCCCGCGGCCTCCTTCCCCGCCGGCCGCGCTCCGGAGCCTC...  \n",
       "\n",
       "[41084 rows x 4 columns]"
      ]
     },
     "execution_count": 12,
     "metadata": {},
     "output_type": "execute_result"
    }
   ],
   "source": [
    "clean_dna"
   ]
  },
  {
   "cell_type": "code",
   "execution_count": 13,
   "id": "5817b16c",
   "metadata": {},
   "outputs": [],
   "source": [
    "clean_dna.to_csv(\"transcript_seq.csv\",index= False)"
   ]
  },
  {
   "cell_type": "markdown",
   "id": "a6ad8a7d",
   "metadata": {},
   "source": [
    "## Now to iterate the file"
   ]
  },
  {
   "cell_type": "code",
   "execution_count": 18,
   "id": "ec853b60",
   "metadata": {},
   "outputs": [
    {
     "name": "stdout",
     "output_type": "stream",
     "text": [
      "Gene name,Gene stable ID,id_version,seq\n",
      "\n",
      "ATACCCATGGCCAACCTCCTACTCCTCATTGTACCCATTCTAATCGCAATGGCATTCCTAATGCTTACCGAACGAAAAATTCTAGGCTATATACAACTACGCAAAGGCCCCAACGTTGTAGGCCCCTACGGGCTACTACAACCCTTCGCTGACGCCATAAAACTCTTCACCAAAGAGCCCCTAAAACCCGCCACATCTACCATCACCCTCTACATCACCGCCCCGACCTTAGCTCTCACCATCGCTCTTCTACTATGAACCCCCCTCCCCATACCCAACCCCCTGGTCAACCTCAACCTAGGCCTCCTATTTATTCTAGCCACCTCTAGCCTAGCCGTTTACTCAATCCTCTGATCAGGGTGAGCATCAAACTCAAACTACGCCCTGATCGGCGCACTGCGAGCAGTAGCCCAAACAATCTCATATGAAGTCACCCTAGCCATCATTCTACTATCAACATTACTAATAAGTGGCTCCTTTAACCTCTCCACCCTTATCACAACACAAGAACACCTCTGATTACTCCTGCCATCATGACCCTTGGCCATAATATGATTTATCTCCACACTAGCAGAGACCAACCGAACCCCCTTCGACCTTGCCGAAGGGGAGTCCGAACTAGTCTCAGGCTTCAACATCGAATACGCCGCAGGCCCCTTCGCCCTATTCTTCATAGCCGAATACACAAACATTATTATAATAAACACCCTCACCACTACAATCTTCCTAGGAACAACATATGACGCACTCTCCCCTGAACTCTACACAACATATTTTGTCACCAAGACCCTACTTCTAACCTCCCTGTTCTTATGAATTCGAACAGCATACCCCCGATTCCGCTACGACCAACTCATACACCTCCTATGAAAAAACTTCCTACCACTCACCCTAGCATTACTTATATGATATGTCTCCATACCCATTACAATCTCCAGCATTCCCCCTCAAACCTA\n",
      "\n"
     ]
    }
   ],
   "source": [
    "f= open(\"transcript_seq.csv\",\"r\")\n",
    "print(f.readline())\n",
    "print(f.readline().split(\",\")[3])\n",
    "f.close()"
   ]
  },
  {
   "cell_type": "code",
   "execution_count": 15,
   "id": "68a6c271",
   "metadata": {},
   "outputs": [
    {
     "name": "stdout",
     "output_type": "stream",
     "text": [
      "Gene name         6406\n",
      "Gene stable ID       0\n",
      "id_version           0\n",
      "seq                  0\n",
      "dtype: int64\n"
     ]
    }
   ],
   "source": [
    "print(clean_dna.isnull().sum())"
   ]
  },
  {
   "cell_type": "code",
   "execution_count": 1,
   "id": "5126dfa8",
   "metadata": {},
   "outputs": [
    {
     "name": "stderr",
     "output_type": "stream",
     "text": [
      "c:\\Users\\joaop\\anaconda3\\envs\\dna\\lib\\site-packages\\tqdm\\auto.py:21: TqdmWarning: IProgress not found. Please update jupyter and ipywidgets. See https://ipywidgets.readthedocs.io/en/stable/user_install.html\n",
      "  from .autonotebook import tqdm as notebook_tqdm\n",
      "C:\\Users\\joaop/.cache\\huggingface\\modules\\transformers_modules\\zhihan1996\\DNABERT-2-117M\\81ac6a98387cf94bc283553260f3fa6b88cef2fa\\bert_layers.py:125: UserWarning: Unable to import Triton; defaulting MosaicBERT attention implementation to pytorch (this will reduce throughput when using this model).\n",
      "  warnings.warn(\n",
      "Some weights of the model checkpoint at zhihan1996/DNABERT-2-117M were not used when initializing BertModel: ['cls.predictions.transform.dense.bias', 'cls.predictions.transform.LayerNorm.weight', 'cls.predictions.transform.LayerNorm.bias', 'cls.predictions.decoder.weight', 'cls.predictions.transform.dense.weight', 'cls.predictions.decoder.bias']\n",
      "- This IS expected if you are initializing BertModel from the checkpoint of a model trained on another task or with another architecture (e.g. initializing a BertForSequenceClassification model from a BertForPreTraining model).\n",
      "- This IS NOT expected if you are initializing BertModel from the checkpoint of a model that you expect to be exactly identical (initializing a BertForSequenceClassification model from a BertForSequenceClassification model).\n",
      "Some weights of BertModel were not initialized from the model checkpoint at zhihan1996/DNABERT-2-117M and are newly initialized: ['bert.pooler.dense.bias', 'bert.pooler.dense.weight']\n",
      "You should probably TRAIN this model on a down-stream task to be able to use it for predictions and inference.\n",
      "C:\\Users\\joaop/.cache\\huggingface\\modules\\transformers_modules\\zhihan1996\\DNABERT-2-117M\\81ac6a98387cf94bc283553260f3fa6b88cef2fa\\bert_layers.py:432: UserWarning: Increasing alibi size from 512 to 613\n",
      "  warnings.warn(\n",
      "C:\\Users\\joaop/.cache\\huggingface\\modules\\transformers_modules\\zhihan1996\\DNABERT-2-117M\\81ac6a98387cf94bc283553260f3fa6b88cef2fa\\bert_layers.py:432: UserWarning: Increasing alibi size from 613 to 730\n",
      "  warnings.warn(\n"
     ]
    }
   ],
   "source": [
    "import csv\n",
    "import torch\n",
    "from transformers import AutoTokenizer, AutoModel\n",
    "\n",
    "tokenizer = AutoTokenizer.from_pretrained(\"zhihan1996/DNABERT-2-117M\", trust_remote_code=True)\n",
    "model = AutoModel.from_pretrained(\"zhihan1996/DNABERT-2-117M\", trust_remote_code=True)\n",
    "\n",
    "Errors = []\n",
    "\n",
    "with open(\"transcript_seq.csv\", \"r\") as f:\n",
    "    csv_reader = csv.reader(f)\n",
    "    next(csv_reader)  # Skip the header row\n",
    "\n",
    "    for row in csv_reader:\n",
    "        if row[3] != \"None\":\n",
    "            try:\n",
    "                dna_seq = row[3]\n",
    "\n",
    "                inputs = tokenizer(dna_seq, return_tensors='pt')[\"input_ids\"]\n",
    "                hidden_states = model(inputs)[0]\n",
    "                # Embedding with mean pooling\n",
    "                embedding_mean = torch.mean(hidden_states[0], dim=0)\n",
    "                embedding = embedding_mean.detach().numpy()\n",
    "\n",
    "                embedding_str = \" \".join(map(str, embedding))\n",
    "                row.append(embedding_str)\n",
    "\n",
    "                # Open the output file for writing, write the modified row, and close the file\n",
    "                with open(\"emb_file.csv\", mode='a', newline='') as file:\n",
    "                    csv_writer = csv.writer(file)\n",
    "                    csv_writer.writerow(row)\n",
    "            except:\n",
    "                Errors.append(row[0])\n",
    "                continue\n",
    "f.close()\n",
    "# cut of 10 000"
   ]
  },
  {
   "cell_type": "code",
   "execution_count": null,
   "id": "3338f061",
   "metadata": {},
   "outputs": [],
   "source": [
    "print(\"Errors: \", Errors)"
   ]
  },
  {
   "cell_type": "code",
   "execution_count": 8,
   "id": "3a430601",
   "metadata": {},
   "outputs": [
    {
     "name": "stdout",
     "output_type": "stream",
     "text": [
      "Row 1715 in 'emb_file.csv' corresponds to:\n",
      "['SMAD2', 'ENSG00000175387', 'ENST00000262160.11', 'GCGCGCGTCCTCACCCCCTCCTTCCCCGCGGGCGGCGGCCAGGCTCCCTCCCCTCCCCTTCCCTCTCCTCCCCTCCCCTCCCCTCTCTTCCCCTACCCTCCCGCGCGCCCGGGCCGCCGGCCGGGCCCGGGCCTGGGGGCGGGGCGGGAAGACGGCGGCCGGGAGTGTTTTCAGTTCCGCCTCCAATCGCCCATTCCCCTCTTCCCCTCCCAGCCCCCTCCATCCCATCGGAAGAGGAAGGAACAAAAGGTCCCGGACCCCCCGGATCTGACGGGGCGGGACCTGGCGCCACCTTGCAGGTTCGATACAAGAGGCTGTTTTCCTAGCGTGGCTTGCTGCCTTTGGTAAGAACATGTCGTCCATCTTGCCATTCACGCCGCCAGTTGTGAAGAGACTGCTGGGATGGAAGAAGTCAGCTGGTGGGTCTGGAGGAGCAGGCGGAGGAGAGCAGAATGGGCAGGAAGAAAAGTGGTGTGAGAAAGCAGTGAAAAGTCTGGTGAAGAAGCTAAAGAAAACAGGACGATTAGATGAGCTTGAGAAAGCCATCACCACTCAAAACTGTAATACTAAATGTGTTACCATACCAAGCACTTGCTCTGAAATTTGGGGACTGAGTACACCAAATACGATAGATCAGTGGGATACAACAGGCCTTTACAGCTTCTCTGAACAAACCAGGTCTCTTGATGGTCGTCTCCAGGTATCCCATCGAAAAGGATTGCCACATGTTATATATTGCCGATTATGGCGCTGGCCTGATCTTCACAGTCATCATGAACTCAAGGCAATTGAAAACTGCGAATATGCTTTTAATCTTAAAAAGGATGAAGTATGTGTAAACCCTTACCACTATCAGAGAGTTGAGACACCAGTTTTGCCTCCAGTATTAGTGCCCCGACACACCGAGATCCTAACAGAACTTCCGCCTCTGGATGACTATACTCACTCCATTCCAGAAAACACTAACTTCCCAGCAGGAATTGAGCCACAGAGTAATTATATTCCAGAAACGCCACCTCCTGGATATATCAGTGAAGATGGAGAAACAAGTGACCAACAGTTGAATCAAAGTATGGACACAGGCTCTCCAGCAGAACTATCTCCTACTACTCTTTCCCCTGTTAATCATAGCTTGGATTTACAGCCAGTTACTTACTCAGAACCTGCATTTTGGTGTTCGATAGCATATTATGAATTAAATCAGAGGGTTGGAGAAACCTTCCATGCATCACAGCCCTCACTCACTGTAGATGGCTTTACAGACCCATCAAATTCAGAGAGGTTCTGCTTAGGTTTACTCTCCAATGTTAACCGAAATGCCACGGTAGAAATGACAAGAAGGCATATAGGAAGAGGAGTGCGCTTATACTACATAGGTGGGGAAGTTTTTGCTGAGTGCCTAAGTGATAGTGCAATCTTTGTGCAGAGCCCCAATTGTAATCAGAGATATGGCTGGCACCCTGCAACAGTGTGTAAAATTCCACCAGGCTGTAATCTGAAGATCTTCAACAACCAGGAATTTGCTGCTCTTCTGGCTCAGTCTGTTAATCAGGGTTTTGAAGCCGTCTATCAGCTAACTAGAATGTGCACCATAAGAATGAGTTTTGTGAAAGGGTGGGGAGCAGAATACCGAAGGCAGACGGTAACAAGTACTCCTTGCTGGATTGAACTTCATCTGAATGGACCTCTACAGTGGTTGGACAAAGTATTAACTCAGATGGGATCCCCTTCAGTGCGTTGCTCAAGCATGTCATAAAGCTTCACCAATCAAGTCCCATGAAAAGACTTAATGTAACAACTCTTCTGTCATAGCATTGTGTGTGGTCCCTATGGACTGTTTACTATCCAAAAGTTCAAGAGAGAAAACAGCACTTGAGGTCTCATCAATTAAAGCACCTTGTGGAATCTGTTTCCTATATTTGAATATTAGATGGGAAAATTAGTGTCTAGAAATACTCTCCCATTAAAGAGGAAGAGAAGATTTTAAAGACTTAATGATGTCTTATTGGGCATAAAACTGAGTGTCCCAAAGGTTTATTAATAACAGTAGTAGTTATGTGTACAGGTAATGTATCATGATCCAGTATCACAGTATTGTGCTGTTTATATACATTTTTAGTTTGCATAGATGAGGTGTGTGTGTGCGCTGCTTCTTGATCTAGGCAAACCTTTATAAAGTTGCAGTACCTAATCTGTTATTCCCACTTCTCTGTTATTTTTGTGTGTCTTTTTTAATATATAATATATATCAAGATTTTCAAATTATTTAGAAGCAGATTTTCCTGTAGAAAAACTAATTTTTCTGCCTTTTACCAAAAATAAACTCTTGGGGGAAGAAAAGTGGATTAACTTTTGAAATCCTTGACCTTAATGTGTTCAGTGGGGCTTAAACAGTCATTCTTTTTGTGGTTTTTTGTTTTTTTTTGTTTTTTTTTTTAACTGCTAAATCTTATTATAAGGAAACCATACTGAAAACCTTTCCAAGCCTCTTTTTTCCATTCCCATTTTTGTCCTCATAATCAAAACAGCATAACATGACATCATCACCAGTAATAGTTGCATTGATACTGCTGGCACCAGTTAATTCTGGGATACAGTAAGAATTCATATGGAGAAAGTCCCTTTGTCTTATGCCCAAATTTCAACAGGAATAATTGGCTTGTATAATCTAGCAGTCTGTTGATTTATCCTTCCACCTCATAAAAAATGCATAGGTGGCAGTATAATTATTTTCAGGGATATGCTAGAATTACTTCCACATATTTATCCCTTTTTAAAAAAGCTAATCTATAAATACCGTTTTTCCAAAGGTATTTTACAATATTTCAACAGCAGACCTTCTGCTCTTCGAGTAGTTTGATTTGGTTTAGTAACCAGATTGCATTATGAAATGGGCCTTTTGTAAATGTAATTGTTTCTGCAAAATACCTAGAAAAGTGATGCTGAGGTAGGATCAGCAGATATGGGCCATCTGTTTTTAAAGTATGTTGTATTCAGTTTATAAATTGATTGTTATTCTACACATAATTATGAATTCAGAATTTTAAAAATTGGGGGAAAAGCCATTTATTTAGCAAGTTTTTTAGCTTATAAGTTACCTGCAGTCTGAGCTGTTCTTAACTGATCCTGGTTTTGTGATTGACAATATTTCATGCTCTGTAGTGAGAGGAGATTTCCGAAACTCTGTTGCTAGTTCATTCTGCAGCAAATAATTATTATGTCTGATGTTGACTCATTGCAGTTTAAACATTTCTTCTTGTTTGCATCTTAGTAGAAATGGAAAATAACCACTCCTGGTCGTCTTTTCATAAATTTTCATATTTTTGAAGCTGTCTTTGGTACTTGTTCTTTGAAATCATATCCACCTGTCTCTATAGGTATCATTTTCAATACTTTCAACATTTGGTGGTTTTCTATTGGGTACTCCCCATTTTCCTATATTTGTGTGTATATGTATGTGTTCATGTAAATTTGGTATAGTAATTTTTTATTCATTCAACAAATATTTATTGTTCACCTGTTTGTACCAGGAACTTTTCTTAGTCTTTGGGTAAAGGTGAACAAGACAACTACAGTTCCTGCCTTTGCTGAGACAGCAGTTACACTAACCCTTAATTATCTTACTTGTCTATGAAGGAGATAAACAGGGTACTGTACTGGAGAATAACAGATGGGATGCTTCAGGTAGGACATCAAGGAAAGCCTCTAAGGAAAGGATGCATGAGCTAACACCTGACATTAAAGAAGCAAGCCAAGTGAGGAGCCAGGGGAGATAAGCATTCCTGGCAAAGAGAATAGCATCAAATGCAAAAAGGTTCACACTAAAGGAAACTCCTGATTAGGTATTAATGCTTTATACAGAAACCTCTATACAAATCCAAACTTGAAGATCAGAATGGTTCTACAGTTCATAACATTTTGAAGGTGGCCTTATTTTGTGATAGTCTGCTTCATGTGATTCTCACTAACATATCTCCTTCCTCAACCTTTGCTGTAAAAATTTCATTTGCACCACATCAGTACTACTTAATTTAACAAGCTTTTGTTGTGTAAGCTCTCACTGTTTTAGTGCCCTGCTGCTTGCTTCCAGACTTTGTGCTGTCCAGTAATTATGTCTTCCACTACCCATCTTGTGAGCAGAGTAAATGTCCTAGGTAATACCACTATCAGGCCTGTAGGAGATACTCAGTGGAGCCTCTGCCCTTCTTTTTCTTACTTGAGAACTTGTAATGGTGTTAGGGAACAGTTGTAGGGGCAGAAAACAACTCTGAAAGTGGTAGAAGGTCCTGATCTTGGTGGTTACTCTTGCATTACTGTGTTAGGTCAAGCAGTGCCTACTATGCTGTTTCAGTAGTGGAGCGCATCTCTACAGTTCTGATGCGATTTTTCTGTACAGTATGAAATTGGGACTCAACTCTTTGAAAACACCTATTGAGCAGTTATACCTGTTGAGCAGTTTACTTCCTGGTTGTAATTACATTTGTGTGAATGTGTTTGATGCTTTTTAACGAGATGATGTTTTTTGTATTTTATCTACTGTGGCCTGATTTTTTTTTTGTTTTCTGCCCCTCCCCCCATTTATAGGTGTGGTTTTCATTTTTCTAAGTGATAGAATCCCCTCTTTGTTGAATTTTTGTCTTTATTTAAATTAGCAACATTACTTAGGATTTATTCTTCACAATACTGTTAATTTTCTAGGAATGATGACCTGAGAACCGAATGGCCATGCTTTCTATCACATTTCTAAGATGAGTAATATTTTTTCCAGTAGGTTCCACAGAGACACCTTGGGGGCTGGCTTAGGGGAGGCTGTTGGAGTTCTCACTGACTTAGTGGCATATTTATTCTGTACTGAAGAACTGCATGGGGTTTCTTTTGGAAAGAGTTTCATTGCTTTAAAAAGAAGCTCAGAAAGTCTTTATAACCACTGGTCAACGATTAGAAAAATATAACTGGATTTAGGCCTACCTTCTGGAATACCGCTGATTGTGCTCTTTTTATCCTACTTTAAAGAAGCTTTCATGATTAGATTTGAGCTATATCAGTTATACCGATTATACCTTATAATACACATTCAGTTAGTAAACATTTATTGATGCCTGTTGTTTGCCCAGCCACTGTGATGGATATTGAATAATAAAAAGATGACTAGGACGGGGCCCTGACCCTTGAGCTGTGCTTGGTCTTGTAGAGGTTGTGTTTTTTTTCCTCAGGACCTGTCACTTTGGCAGAAGGAAATCTGCCTAATTTTTCTTGAAAGCTAAATTTTCTTTGTAAGTTTTTACAAATTGTTTAATACCTAGTTGTATTTTTTACCTTAAGCCACATTGAGTTTTGCTTGATTTGTCTGTCTTTTAAACACTGTCAAATGCTTTCCCTTTTGTTAAAATTATTTTAATTTCACTTTTTTTGTGCCCTTGTCAATTTAAGACTAAGACTTTGAAGGTAAAACAAACAAACAAACATCAGTCTTAGTCTCTTGCTAGTTGAAATCAAATAAAAGAAAATATATACCCAGTTGGTTTCTCTACCTCTTAAAAGCTTCCCATATATACCTTTAAGATCCTTCTCTTTTTTCTTTAACTACTAAATAGGTTCAGCATTTATTCAGTGTTAGATACCCTCTTCGTCTGAGGGTGGCGTAGGTTTATGTTGGGATATAAAGTAACACAAGACAATCTTCACTGTACATAAAATATGTCTTCATGTACAGTCTTTACTTTAAAAGCTGAACATTCCAATTTGCGCCTTCCCTCCCAAGCCCCTGCCCACCAAGTATCTCTTTAGATATCTAGTCTGTGGACATGAACAATGAATACTTTTTTCTTACTCTGATCGAAGGCATTGATACTTAGACATATCAAACATTTCTTCCTTTCATATGCTTTACTTTGCTAAATCTATTATATTCATTGCCTGAATTTTATTCTTCCTTTCTACCTGACAACACACATCCAGGTGGTACTTGCTGGTTATCCTCTTTCTTGTTAGCCTTGTTTTTTGTTTTTTTTTTTTTTTTTTGAGAGGGAGTCTCGCTCTGTTGCCCAACCTGGAGTGCAGTGGTGCGATCTTGGTTCACTGCAAGCTCCGCCTCCCGGGTTCACGCCATGCTTCTGCCTCAGCCTCCCAAGTAGCTGGGACTACAGGCGCCCACCACCACACTCGGCTAATTTTTTGTATTTTTAGTAGAGACGGGGTTTCACCGTGTTGGCCAGGATGGTCTCGATCTCCTGACCTCGTGATCTGTCCACCTCGGCTTCCCAAAGTGCTGGGATTACAGGCATGAGCCACCGCGCCCAGCCTAGCCATATTTTTATCTGCATATATCAGAATGTTTCTCTCCTTTGAACTTATTAACAAAAAAGGAACATGCTTTTCATACCTAGAGTCCTAATTTCTTCATCATGAAGGTTGCTATTCAAATTGATCAATCATTTTAATTTTACAAATGGCTCAAAAATTCTGTTCAGTAAATGTCTTTGTGACTGGCAAATGGCATAAATTATGTTTAAGATTATGAACTTTTCTGACAGTTGCAGCCAATGTTTTCCCTACGATACCAGATTTCCATCTTGGGGCATATTGGATTGTTGTATTTAAGACAGTCAGAATAATGATAGTGTGTGGTCTCCAGAGGTAGTCAGAATCCTGCTATTGAGTTCTTTTTATATCTTCCTTTTCAATTTTTTATTACCATTTTGTTTGTTTAGACTACACTTTGTAGGGATTGAGGGGCAAATTATCTCTTGGAGTGGAATTCCTGTGTTTTGAGCCTTACAACCAGGAAATATGAGCTATACTAGATAGCCTCATGATAGCATTTACGATAAGAACTTATCTCGTGTGTTCATGTAATTTTTTGAGTAGGAACTGTTTTATCTTGAATATTGTAGCTAACTATATATAGCAGAACTGCCTCAGTCTTTTTAAGAAGGAAATAAATAATATATGTGTATGAATTTATATATACATATACACTCATAGACAAACTTAACAGTTGGGGTCATTCTAACAGTTAAAACAATTGTTCCATTGTTTAAATCTCAGATCCTGGTAAAATGTTCTTAATTTGTCTGTGTACATTTTCCTTTCATGGACAGACCATTGGAGTACATTAATTTTCTTAATCTGCCATTTGGCAGTTCATTTAATATACCATTTTTTGGCAACTTGGTAACTAAGAATCACAGCCAAAATTTGTTAACATCAAAGAAAGCTCTGCCATATACCCCGTTACTAAATTATTATACATCCAGCAGATTCTGGGATGTACTAACTTAGGGTTAACTTTGTTGTTGTTGATAATACTAGATTGCTCCCTCTTTAATTCTTCTTCTGGTGCAAGGTTGCTGCTTAAGTTACCCTGGGAAATACTACTACAAGGTCAAATTTTCTAGTATCTTACAGCCTGATTGAAGGTGATTCAGATCTTTGCTCAATATAAATGGATTTTCCAAGATTCTCTGGGCCATCCTTGACCCACAGGTGATCTCGCTGGAGTATATTAACTTAACTTCAGTGCCAGTTGGTTTGGTGCCATGAGATCCATAATGAATCCAGAACTTCACCATTGCTTAGATATAAGAGTCCCTTGGAAGAATAATGCCACTGATGATGGGGGTCAGAAGGTGTATTAACTCAACATAGAGGGCTTTTAGATTTTTCTTCAAAAAAATTTCGAGAAAAGTATTCTTTTACCCTCCAAACAGTTAACAGCTCTTAGTTTCTCCAAATATGCTCTTTGATTTACTTATTTTTAATTAAAGATGGTAATTTATTGAACAATGAAATCCGTAATATATTGATTTAAGGACAAAAGTGAAGTTTTAGAATTATAAAAGTACTTAAATATTATATATTTTCCATTTCATAATTGTTTTCCTTTCTCTGTGGCTTTAAAGTTTTTGACTATTTTACAATGTTAATCACTAGGTAACTTGCCATATTTCTGGTTCTATATTAAGTTCTATCCTTTATAATGCTGTTATTATAAAGCTGGTTTTTAGCATTTGTCTGTAGCAATAGAAATTTTACTAAGTCTCTGTTCTCCCAGTAAGTTTTTTCTTTTCTCAGTAAGTCCCTAAGAAAACATTTGTTTGCCACTCTTACTATTCCCAATCTTGGATTGTTCGAGCTGAAAAAAAATTTGATGAGAAACAGGAGGATCCTTTTCTGGTGAATATAGGTTCCTGCTTTAAGAATGTGGAAATCCATTGCTTTATATAACTAATATACACACAGATTAATTAAAATTGTGAGAAATAATTCACACATGACAAGTAGGTAACATGCATGAGTTTTGAATTTTTTTAAAAACCCAACTGTTTGACAAAATATAGAACCCAAATTGGTACTTTCTTAGACCAGTGTAACCTCACACCTCAGTTTTGCTTTTCCAACCCTGACTTGAAAGGCATATTTGTATCTTTTTATTAGTGATAGTGAAGCTGTGACACTAACCTTTTATACAAAAGAGTAAAGAAAGAAAAACTACAGCGATTAAGATGAGAACAGTTCTGCAGTTGTTGAACTAGATCACAGCATTGTAGGCAGAATAAAAAATGTTCATATCTGAGAATATTCCTTTCGCCATCTTTTCCCAAGGCCAGACCTCCTGGTGGAGCACAGTTAAAAGTAACATTCTGGGCCTTTGTAATCGGAGGGCTGTGTCTCCAGCTGGCAGCCTTTGTTTTAATATATAATGCAGGACTGTGGAAAACAGTTGGCATAGAATATTTTCACCTAAAAAAGAAAGAAAAGACATACAAAACTGGATTAATTGCAAAAAGAGAATACAGTAAAATACCATATAACTGGACAAAGCTAGAAGAACCTTTAGAAGATTTGTCTGAAAACAGATTTCAAGAGTGAGCTTTTATACACTGCTCACTAATTTGCTTGATTACTACCAACTCTTCTTAAAGTTAACACGTTTAAGGTATTTCTGGACTTCCTAGCCTTTTAGCAAGCTTAGAGGAACTAGCCATTAGCTAGTGATGTAAAAATATTTTGGGGACTGATGCCCTTAAAGGTTATGCCCTTGAAAGTTCTTACCTTTTCTCTAGTGATATTAAGGAACGAGTGGGTAGTGTTCTCAGGGTGACCAGCTGCCCTAAAGTGCCTGGGATTGAGGGTTTCCCTGGATGCGGGACTTTCCCTGGATACAAAACTTTTAGCAGAGTTTTGTATATATGTGGATTTTTCTGATAAGTAGCACATCAGAGGCCTTAACCACTGCCCAAAAGCGATTCTCCATTGAGAGTACATATCTTGAACTTAAGAAATTCATTTGCTCTGATTTTTAATCTTGTAAAGTTTTTGCTAAACTCAAAACAAGTCCCAGGCACACCAGAAGGAGCTGACCACCTTAGGTGTTCTTGTGATTTATCCTTACTTCCCTATGTTGTCATAGTTGCTTCTAAACTCAGCTGCACTATGGCTGTCAACATTTCTGATACTTATTGGGATATGTGCCATCCAGTCATTTAGTACTTTGAATGGAACATGAGATTTATAACACAGGTAATAGCTGAAGGTACCAGTATGGTGGTGAGACTCACACTTAGTGATCCAGCTAAGGTAACTGATGTTATAATGGAACAGAGAAGAGGCCAACTAGATAGCTAAGTTCTTCTGAACCTATGTGTATATGTAAGTACAAATCATGCGTCCTTATGGGGTTAAACTTAATCTGAAATTTACATTTTTCATAGTAAAAGGAAACCAATTGTTGCAGATTTCTTTTCTTGTGAGGAAATACATGGCCTTTGATGCTCTGGCGTCTACTGCATTTCCCAGTCTGTTCTGCTCGAGAAGCCAGAATGTGTTGTTAACATTTTTCCGTGAATGTTGTGTTAAAATGATTAAATGCATCAGCCAATGGCAAGTGAAGGAATTGGGTGTCCTGATGCAGACTGAGCAGTTTCTCTCAATTGTAGCCTCATACTCATAAGGTGCTTACCAGCTAGAACATTGAGCACGTGAGGTGAGATTTTTTTTCTCTGATGGCATTAACTTTGTAATGCAATATGATGGATGCAGACCCTGTTCTTGTTTCCCTCTGGAAGTCCTTAGTGGCTGCATCCTTGGTGCACTGTGATGGAGATATTAAATGTGTTCTTTGTGAGCTTTCGTTCTATGATTGTCAAAAGTACGATGTGGTTCCTTTTTTATTTTTATTAAACAATGAGCTGAGGCTTTATTACAGCTGGTTTTCAAGTTAAAATTGTTGAATACTGATGTCTTTCTCCCACCTACACCAAATATTTTAGTCTATTTAAAGTACAAAAAAAGTTCTGCTTAAGAAAACATTGCTTACATGTCCTGTGATTTCTGGTCAATTTTTATATATATTTGTGTGCATCATCTGTATGTGCTTTCACTTTTTACCTTGTTTGCTCTTACCTGTGTTAACAGCCCTGTCACCGTTGAAAGGTGGACAGTTTTCCTAGCATTAAAAGAAAGCCATTTGAGTTGTTTACCATGTTACTATGGGACTAATTTTTAATTGTTTTAATTTTTATTTAAACTGATCTTTTTTTATATGGGATTACATTTTGGTGTTCACTCCCTAAATTATATGGAAACCAAAAAAAGTGATTGTATTTCACATATGGACATATGATTTTAAGAGTACATGTTTTTGTTTTTTTAATTTGGTGTTACATAAAAGATTATCCTATCCCCCCGGGAGATAAATTTATACTACTTAATATAACCCCACAACAGGCGCACACCACACACTGCACAGTGCTATTTATACATTTTTATTTATTTCAGAGTTTGCCTATGCTACATTAGCGCTCTAATACATAAGATCTATGCTGTAAACAAAAACATCTTCAAAGTTGAAATTTGCTGAAATATACTTTTAACAAAATAACATTTTTAAGGCTCCATTGAAAAATACTAGATAAGATATAATCTCATATAATCAGTATGAATAATTTTAAAAATGAGAAATATTTAGGTCAGCCACACTTCCTTTGTGCCTTGCAAGAATTCAGTTCTGTGGATGAATCAGTACTGGTTAGCAGACTGTTTTCTGCAAACCATTTTAAACATGCTTTAGTATGCAACAAAAAGGGACCTCAAATGCTAAAATACACTATTTTACGTGGCATTGAATAGCCTTGGGACTGGTGTAGTTTTATCAACACTTTTTTATTAGGAAGAAACCCAAGAAAATTTACTGTAATTGCTACCACCTGCCACTGTATAAATAATCTAAAAGGGACTTCCCAACATTGAACAACAACATTGAGGGCTGACTCGAGATCCTTCTACATTGTCACCTCAGCCTGGCTTTGCCTGTCACTGCTTAGCTTGAAGTAGTGACACTGTTCTGTATCAGGAGATTTTTATAATGGCCCTAGCATCCATAATTCCACATGTTCATCAAATGGCTGAAGAGTATGAGAGAAGTATTAAGGTCTATGTTTGGGCTGTCTCCCCACTTGGCATATTCTGTTTTTCCCTCTTCAAAATAGATTGAAAGCCTCTTAGTGCAGGAAGCAGGCATCAGTATCAAACTGATGTCATCCAATGTAATTATTTTAAGCTCCAGGTTTGTCTAAGTTTGGGTGAAGAATGTTCAGGAACATGTTTGCAACATACAGTTATCCAGCTTACCCTTTGACAGATTCACCCTTCTCATCAAAATAGTAAGCCCAACCTAAAAATTATAAGTTTACAAATAAAGGAATAGAAAAACCCAAAAAGCTAATTTACACATAAAAATTATCTTTTGCTGCAATAAATAGGTATGGAAATATTTGTAGAATTGGTTTAACTGATTTTGTAAAACAAATGTCATGCTATTTTGCCATAGTGAGACATGCAGTAATTCTTAAAATCACATTAATAGAAGGCAAGAACATTGAATCAGACTTAGCAGATAACAGATTCAGTGATAAATGAACAATAGACTAAGCATACTTAGGAAGCTACATGAGAACAGAATGTATTACTGTGCTCCCGTCCAAACTGCATGACTTTATTGGTTATAGAATAAATGGAATTTGAGATGGGGATTTGCCAGTTTTTACAGTCTGTCTTCAATAGTTTTGTTGGCTGCCTCTGCACCTTTCTAAATGTTATGTGAAAATAAAATTATTTAAGTTCTAAAGTAGTTTAGGAAAGAGATGTGATGACAGGAAAAAGAAGTTAACTTCTGAACAGTTTGGTCCAGGAAGAAGATGGGCAGAATACAGTAAGCCCAGGGTTGAAGAATACATTCAATTTGGAGAGATGGAGAAGACCTTTGAAGAAGGTCAAAATGAGATCTTGGAACAGAACTCTCACCTGTGTGTCTGGATATACATGAAAACTGGACGGTGTTATTGAGCTACTGCTTATATGGTGAGCAGAAAATTGATAACCACAAGCCTGGTAGGTTCTGCTATGAAGCCCACATATAATCACAAGGCCTAGATAGCTTGGAGTTAAAAGCCAAGGATAGCTGTATAGTTTGGGTTCCATAGTTTGCAGTGAGATTGTGCTTCTGAGCAGTCATTTGGGGGCAGTGGTTCTGAGATTACAAGCCATAACCCAGCCAAGAACGGGCTACCTGTGGAATGAGGATGAGGAAGTTGCTACATATAAACCCTAGTGTGTGTGTGTGTATTAAGTGAAACTTAGTTAACTTTTTTGCTCACAGCCAAAGATGATTCATCTAGAGAAGCCATTGGAATTTTAGCAGAGTTTTGTATATATGTGGATTTTTCTAATAAGTAGCAAATCAGAGGCCTTAACCACTGCCCAACAGCGATTCTCCATTGAGAGTACGTATCTTGAACTTAAGAAATTCATTTGCTCTGATTTTAAATCTTGTAAAGTTTTTCTTCATGAGAGGTCTTGCCTCTAAACTATATTGTGGCAGTATTTGATCAAACTACATAAGTACCATGTAAATAAGATTTTAATACAAATGATGACTCACTTCTAAATGGTTTGCCATTTAGAAATGTGCTGCTGTGAGAAAAACGAATTTTTTTTTTTTTTTTTTGGAGACAGAGTCTTGCTCTGTTGCCCAGGCTGGGGTGCAGTGGGGCGATCTCGGCTCACTGCAGCCTCGCCTCCTGGGTTCAAGTGATTCTCCTGCCTTAGCCTCCTGAGTAGCTGGGATTACAGGCACACACCACCACGCCCAACTACTTTTTGTATTTTTAGTGGAGACAGGGTTTCACCATGTTTGCCAGGCTGGTCTTGAACTCCTGACCTCAGATGATTTGCCTGCCTCGGCCTCCCAAAGTGCTGGAATTACAGGCGTGAGCCATCATGCCTGGCTGAAAAGTGAAAATTTAAGCCAGCTTACCACCTGGAATAAAAATGTTTTATAGGAATGTCTAGGTTGCTCTTTTATATTGAAAAAAAACTTATTAGTGTCTGTTTTACCCAAGAACCACAAGCTACTTCATTTCAACTTTTAAATCATGAATAATAACGTGTTATCACCACATTTAAAAATGTACATCGTCAATCACAAACACATATTCTAAGGAATTGAATTTTATAGAGATAATTGAATGCTTTCATCTGTAAAAGAATTAGTGGCCTGCAAACCACTGTGGATTCTTGCTATGCTTTGAAGTTGTCAGTGGGGGAATTTGCTGCTGCAAGTTACTTAGACTTGTAGGCAAAGGGAAATTCAAATTTTTAATTCTAAAATGAAAACCACTGACAAAATTTTATACTCTGAAAGTTTGGTTGTTAGCTTAGTCATTATTTTCCTGTTCTTTATCATTTCGGAATTCAGATGCTTAAATTTAACATACAAATTATTTGTTGGTAAAACATAAAACATAAAAAGCTACATTTGGTAAACTAAATTTTAGGATTCAAAGTCTCTAACAATTTCTATGTGACATGTCATACGGTGCAGTTTTTATTTGCCAAAGTGTCTACTTCATACTGCCTATGCACTGCTTCCCGTTTTTAATCTCTCTACCCCAACCCCCCTATAATTAAATAAACCCCTAGAAAACTGCCTTCTTTTAGAATACCTAATTGATTACTTTAAATATTTTTTCAGAATCAAAATTACAAAAGGGAGAGATACCTAAGAATCTGGCTTGTTTATATTCTTTAAAAGATCGCATTTGATTGAAGGTGGGTGCATATTTTTTATATCCACTCTTTCCCCATTTGTATGTGACCATTGTAAAAGTGGATGTGCTTTTTTTTTTTTGCTGAGGTCTAGAGACAATGTTTTAGAGATACAGAATGAAACATTTATGGGTAAAATACAATGGGTAAGACTTGCTTCAAAATAGTATGTGACAGAGGAAGTAGATGGAGGTATGAATGAATAGGACATTGATGGTTGTTTGTTGGGATTGGGTAAGGGAGCTTTGTTGTATTCTATTTCCTTTTAGATAAGTTTGAAATTCCTTGTAGTGAAGAAATTAAACGTCTCCATCAGGTGCATTGCCACGTCTTCTCTAGGAAGCCTCCTTAACATCCTCTGGTGGCTCCTGAACTTTTTCTGTTCTCATTCACAGGGAAGCTCATGGGGCTGCCTGGAGACTTGAGGTTACATCTTGCCTAGTATTACCAAAATTGTGATACTTTTCTCCACCCCATAATAGCACAGTCTTTGGTCTCAACTTGAACTAAAGTCTTTTTTTTTTTTTTTTTTTTTTTTTTTAGTATTTATTGATCATTCTTGGGTGTTTCTCGGAGAGGGGGATGTGGCAGGGTCATAGGACAATAGTGGAGGGAAGGTCAGCAGATAAACATGTGAACAAGGGTCTCTGGTTTTCCTAGGCAGAGGACCCTGCGGCCTTCTGCAGTGTTTGTGTCCCTGGGTACTTGAGATTAAGGAGTGGTGATGACTCTTAACGAGCATGCTGCCTTCAAGCATCTGTTTAACAAAGCACATCTTGCACCGCCCTTAATCCATTTAACCCTGAGTGGACACAGCACATGTTTCAGAGAGCACGGGGTTGGGGGTAAGGTTATAGATTAACAGCATCCCAAGGCAGAAGAATTTTTCCTAGTACAGAACAAAATGGAGTCTCCTATGTCTACTTCTTTCTACACAGACACAGCAACAATCTGATCTCTCTTTCCTTTCCCCACATTTCCCCCTTTTCTATTCGACAAAACCGCCATCGTCATCATGGCCCGCTCTCAATGAGCTGTTGGGTACACCTCCCAGACAGGGTGGCGGCCGGGCAGAGGGGCTCCTCACTTCCCAGACGGGGCGGCTGGGCAGAGGCGCCCCCCCACCTCCCGGACGGGGTGGATGCTGGCCGGGGGCTGCCCCCCACCTCCCGAACGGGGCAGCTGGCCGGGCGGGGGTTGCCCCCCACCTCCCGGACGGGGCGGCTGGCCGAGCAGGGGCTGCCCCCCACCTCCCTCCCAGACGGGGCGGCTGCTGGGCGGAGACGCTCCTTACTTCCCGGACGGGGTGGTTGCTGGGCGGAGGGGCTCCTCACTTCTCAGACGGGGCGGCCGGGCAGAGACGCTCCTCACCTCCCAGACGGGGTGGCGGTCGGGCAGAGACACTCCTCACATCCCAGACGGGGCGGCGGGGCAGAGGCGCTCCCCACATCTCAGACGATGGGCGGCCGGGAAGAGGCGCTCCTCACTTCCCAGACTGGGCGGCCGGGCTGAGGGGCTCCTCACATCCCAGACGATGGGCAGCCAGGCAGAGATGCTCCTCACTTCCCAGACGGGGTGGCGGCCGGGCAGAGGCTGCAATCTCCGCACTTTGGGAGGCCAAGGCAGGCGGCTGGGAGGTGGAGGTTGTAGCGAGCCGAGATCGTGCCACTGCACTCCAGCCTGGGCAACATTGAGCACTGAGTGAGCGAGACTCCATCTGCAATCCCAGCACCTCGGGAGGCCCAGGCGGGCAGATCATGCGCGGTCAGGAGCTGGAGACCAGCCTGGCCAACACGGCGAAACCCCGTCTCCACCAAAAAATACAAAAACCAGTCAGGCGTGGCGGCGCGCGTCTGCAATCCCAGGCACTCGGCAGGCTGAGGCAGGAGAATCAGGCAGGGAGGTTGCAGTGAGCCGAGATGGCGGCAGTACAGTCCAGCCTTGGCTCGGCATCAGAGGGAGACGGTGGAAAGTGGGAGACCGTAGAAAGTGGGAGACGGGGGGAGACGGGAGAGGGAGAGGGATGTGCTTTTTTTCTAACCGTTATTGCCACCAAGTAATAATGTCTTAATTCACAATTTACATAGTGATTGGCTGGAGAGAGGTATTGAGCATAAATTTTTTTTTAAGATTCAACTGGGAAATGGATGATTTACATGATTTTAGTCTCTTTAGTTGTCTGGGTATTTCTTGACTGGGAATAGCAATATCTTAAAGGCCATTTTTAACAAGAATGCTAAGGATGGAACACTTGAAGGAAGCAGTCCTGTACAGTCAAATACTTCAGTTACCTTGGATAATAGAATGAAAACTCAATTGCCTACTTTGAACAAATTTTTTTTTTGGATTTTAATGGCTGGACAGAATAACATTCTGCTAATTTTAATCCTTGGTCATTTCCGATGTAATGGAAAATGCAGTTTGACTCAGAATCGGAGGCCTGGGGTTTGGACCCTGATTGTGCCAATTTATGTGACTTTAGATAAATCTTTTCATCAGTCTACCTTAAAGTTCTTCATTTCCTCCAGTTCCCTAAAATGAGGAAGTTAGTTTTTAGGGTGGTTATGAGAACTAAATGAGAGCACTTGAGAGATCATTCAGCCTGAAGTGGGTACTCAGTATTAGATGGCTAAATCTGCACAGTCTAGAATACCAGGCAAAGGTTACTCTGAAGGTCTTTGCTAATAACAAATCTTTCTCTAAGAAAGTTTGTAAATGTGATGTTAAACTCAGAAATGTCACATAGAACATATTGGAGCAATTATTGCCGCAAAAGTAACTCGTAGCAACCACAAAAACCCAGTGGTGTGCAGCAATAAACAGTTTATGAATTAGATAAGTGATTTCGGCTAGATGTCTCTGGAGCAGTTGTAGTCTTTCCTCGTTCATGAGGGAGTTGGCCTCACCTGGAAGGACTTGGCATTTTTCCACATGCCTCCTATCCTCCATTAAACAAGCATGTTTTTGTGGAGGTTGTAGAAGGCAACAACAGCCAAGCCCAATCCCATAACTCCCTTTCATGTCTGCATGCTTCATGCTAACTAGCATTCACCAGAAACAAGCCACATGGCTAAACCCAGTGTGGAAAGGCACTACAGAGTTATTAGACCAAGGGAGAGAACATAGGAGGGGTGAAGAATTGGAGCCTTAAATGCAGTCAATCTACCACACCCTTGCTTTGTATTTAACAGGTTACTGTACTGGTTTGCCAGCAAACAATGGAAAATGTGGAGAAGCTGAAGAATGCTCAAGCTGGGACTTAATAGAGTGGCCTATTTGGTTTGAAATGTTTTAACTTACAGAGCATTGAGTAGAAGCCTAATCTAATATACATAAGGAAGACAAAAGCAAAGGATTGTGTTTTCTATCTAAAGGTTAATCATTGTGGTTGCTCCTGGCCATTATCACATGACTGGAAGTTAACACTCTCCAAACGCTGAGCCTATCCTGTACAGCACTAGAAAGTAGAAAGAATCACTCAATTCAGGGAAACCGTTTTCTCTTAATGTGAACATTTACATTAATGCCATTTCCAAAACCTTTCTGGGACTTCTTAAATGCAAAGATGCTATCTGCTTTACTTCATGCTGCCTGTTTTTAGGAGCTTGGAGTGCTTTAGGAAGCTTCCCAATACTGGTTTAGCAGTAATTTGGTTGACTGATCAAGGCATGTTTTAACTTTGACACTGAAATTTTAAAAAGACAACAGTTATCTTGCCCGGAGAGTCAAGTTTCTGCTTCCAAGGAGGTCAGGAATTGTTCTCTTTGGTGATGTGGCTGTGCTTGGTAGCCCTTGAAAGTGGAGTCGACAGCAGTCCTCAGCTTTTGTGTGCCTGTCTTAGTCTGTTTTGTGTTACTATAACAGGATAGCTGAGGCAGGGTCACTTATGAAGGATGCTCACAGTTCTACAGGCTGGGAAGTTCAAGGGCATGGCCCTGGCTTTTGGCAAGGGCTTTGCTGCTGCTTCATAGCTTGATGGAGAAGGTCAGAGGGGAAGCAGACGTGCAAACAACCCACTTGTTCACAACAACCAAACAAGTCTCTTTTTAACAACCCACTCCTGGGGACTAATCTAGTCTTGAGAGAGTGAGAACTCATTGCAAGAGCAGCACCAAGCCATTCATGAAGCATCTGCCTCAGTGAACCAAACATCTCCCACTAGGCCCCAGCTCTCAACACCACCACAATGAAGATAAAATCTCATCATACATTTGAGGGACAGTTTGGGAGACAGACCATAGCAGTGCTCAGTATTTCTACCCAAATGTTCAGGTAACTTAATATATTTTTCCTTGAATATATGTTTAAATGGGCTTCCCTTCCCCACGCTCATCTTGAATGGTCCCACAACAACTTTTGATTATCACGTTCCTGTAAATACACAAAAATATTTTGTGGTCTTTTACTGGCAGCCCAGTGGATGGGACTTTAAAAAATCACCCAGATTCCAACAACCAGAGAAAACGACTGGTGTATATTTTTTCCAGTCTTTATTTGTATGTCTGTGTATATTCAATGGAAAATGTTTGAAGCTTCACTCACAGCACATTCCATTAGAGAAAGCTACTAAAATCATAAGGAAAATCTAAAATGCAGTAAGCCAGTCAGCAAGCCATAATGGGCATATGAAAACAAAGTTTTTTGCCATGATTTGTGGACCACAGAAGATCTGTGTTATTAGTCTATTTAAGTTTGGTGTTTGAAATTAAAAATGTTCGACATACTTTTTATGTTTTTTTTAAATATACTGTCTATATTTAAAATTGAGTATACTGTACTTTAGTGTGTTTGGAAGCAGATATCCCCAAATAAAAGTATACAGTAGAACCAAAGAATTTTATTGATCAGCTAGAATTTAGTTTTCAGGTGTAATAACTGTCAACCTAAATAACAGAGGCTTTCTAAAAGAAAATGATGTTTATTTGGGAATAGGGCATTGTGAAGGCAATATGCATGCCATAGTAAACTGTGTGTATTCAGGAAGGTAAAGGAAGACAGGTTTTTAAAGGACAGATAAAGATTATATAATTGTCTTGAAATAATTATTCTTGGCTACAAGGATTAATAACAAGGATGCTGCCAGTTCGGGTTTGGACAATCGGCTTCTAGGCAGATGTCCCAAAAGTATTTTCTGTGTAAGGTTGCGAATAGTGTTTGTGCAAGCTGGCGTGGTTTCTTCTGGGTCTTTGAGGTAGTGCGTAAAATCCCTCTCTTCATGGACTTCCCTGGCTCCATTTGTCAGGGCTTTTGGAAACATGACTCTTGATTCTGACAGCTTTCACCTTTCCCTCTCTTGATGAAGATGTTTTTCCGAAAGTATCTATGATGAATCATCTTGTAGTTAGGCTTTGATTGTCCCTTGGTGACAGAATAGACCTTTCCCGGGTTATTGGTCTGGTCCTGCATCCTGCATTGGCAGGAGTGATTGGCAACTAAAAGTCAGTGTTAAAACCCTTTTAGCCACCTTTGAGGGCAGGGAGGCTTTAAGGGAGTGGCACTTAGGCTAAGTCCACCTGGAGTCTATTATTAAGTCCAATTTTTTTTCCTTAGTCCTTTGTTGTCCCCTCAAAGTGCTGGGCTAGCATTATTCTGTTAGGAATTGTACTTCTTTCTGCAGAAAATTTGGCAAATAACAGATACAAAGTTTAAAAAGGAAATACACAAAATTAATAGTAATGTGACAATCCCAGTTTGCATAATGGTTTTGAGCCCTGAACCTAGGCTTACAGGCAACCAATTGAATAAATCAAATTGTAATACAATTCTTGCTCTGATGTCTTAGGAAAAATGTCTACAGCCTGAAATCATCAACTTTTTGTCCTGGTTTGCAGTTTGAATGTCTCTAGCTATGGCATTGGTTGGTATGGTGAACTTTTGTGTGACCCATACATCAGCATGAGACTTGCTCCTTTAAAAATTAATCACATCTTAGCTTATAGGCCTCAGAGCATGGGAGTAGTTTTTTTTCTTAGAGAGTCATAGCCAAATATTGAAGGAAATTAGGAGGATTCAGGAGCAAATCCAGTCTGCAGGTGGATAACAGGAGTTTCAAAACGGTACAGAGCTGTGATCTAATAACAGGTACATATAGCTTTCTTCAGAAACTTAAAGTTACCCTGATTTTTACCAAAGATGTTCAGAATAAAACAGATTTGTAAACTTTATCAGATTTTGTCTGCAAGAATAGTAGTATGGTCACAGTAATCTCAGATTTAAAAACCTCCTTGAGGCTAAGAAGCTAAGTCAAGGTAGACTTTAGATTTTACCTATAGTTTTAAGGTTCCTGGGCCTGCCAGGAAATGATAATTTTTAATTCAGTGTAATGCTGAGAACCATTGAAGCCAGGCATTCTACACATTCTCAAATATGACATTTTAATCAAAGCCTTGGTAATACAACCAGTGTTTCCAATTGTATCCTGTTATAACGAGAGCCGATTTTTATTGAACTTAGGCAAATCATATTGCCTTAAGAGTACTCACAAATAGGCTGGGCACAGTGGCTCATGCCTGTAATCCCAGCTCTTTGGGAGGCCAAGACAGGTGGAACACCTGAGGTCAGGAGTTTGAAACCAGCCTGGCCAACATAGTGAAACCTCCCCCCGGCCACCGTCTCTACTAAAAAATACAAAAATTAGCTGGGTGTGGTGGTGCATGCCTGTAGTCCCAGCTACTTGGGAGGCTGAGACAGAATTGCTTGAACCCTGGAGGCAGAAGTTGCACTGAAACAAGATCGTGCCACTGCATTCCAGCTGGGGCAACAGAGCGAGACTCCGTCTCAAAAACAAAAACAAATGAATACTCAAAATAGTTTCCAAATTGGAGGGATCAAGAAGAAAGGAAAAGCAAATATTTCTACCTTTGTTCACAAAAGTATTCCAAATTGCTGTAAACTATAGATAGCATGAGAGAATTTCTTTAAATATGGAAAACAAAACATTTAAGTAAAAAAACAATAATGCTTCAAATAAAAGTCACAGACACATCTTCAGTTACTTAGTCTCATGTAACTTTTTTTGTTGTGGTTGATCTTAATTAGTAGTTACATGGACTCATCAGTTTCTTGAAGTTCTGAAAAAATATTTAGTCCATTGGTATTAAAGTGATTAGTAACCTGTATTTAAAAGTGTGTTAGCATCTTTTCCATGAATCTGATTGCAAATGCTTTTAGAGAAAAAGCAATAACTGGGAATTACAAAAACTTAGAATAACCATGATTAAAAATCTGATGAGAGTTTACCATAACCAGAAATAGACAAAGAGTTTTGGTTATTTTTGTGGCAAACAGCATAATCAGAATTATGACTGATGACATATTTCTAACGGCATCGTACAATTTTGGAACACTCATATCAATAACATACTCATAAATGTAACTGTGTCTAGTATTACATCATTAGACAATGCTTTTCATACAATTTAATACATCAAAGAAGCCTAATTAGCTAACATCTCTACCAGATGGCATACACATGCTCTGAGGCTTTCCAGAGGCCCAAGTGGAAAACTCAAAGGTAATTTTAAGTCAAAAACACTTAATTTAGAACTTGAGCCTAGAGAAGCCTGTCAAAGATGTCAAAAGTTCGAAACAGGATCACAGGTCACTATAAAATATTTAACAAGAATGATAATCAAAAGACTTAAGAAGCAATGCAGAAAGTTACATACATTTAAAAACCATCTTTTCAAAGCTTCATTTTTCCCAAGCAAAAAAAAAACTTAAACACAAGAATTTATCTTGATAGAACATAAAATTTTTCTTAGGCCAGTTGCCAAAATGGTAAAGAAAAATCTCTTGCAGTGTGACTGCCTTTACTTATGGGAAGCCTATTTGGATATACTGAAAGTTGAATCTGATGAAAAGGTACTTGAATTTAATCAGACACAGGAAGAGTATTTCCAAGGTTATGAGTGTACGCCTTATAGAGGAATGTAAATAAGAAAGCTAGTATGTTGAACAGAATACATGGCTCTTGGAAAAATTACGAGAAATTTCCTGCTTGCGTGGAACAATTCAAACATGAGAAGAGCCAAGAATTCAGAATCAAGTTATACTGGAGGAAAACATTGCTTTTCTAGGCCTTCTACAGAACATTTCAGTATCAAGTTATAACAGCAAGAGTTAGAACCAGAGGAAAAAAGTTACAGGAGCTAATGAAAAAGTTAAGAGTTATCACCCCTGCCAAACAAAAAGATGTACCTTCTTAAGGGGAGAAAGAGCTAAAGGCAATGATGTGTGACCTACAAATAAGGTGCAGCAAGATACAGCAAAGGTTGAACTTGTGAGATATAAATCAGGATCTTCAAGAAGAAAACTCTACCTCAAGAAATGAAATGACCATCTTAAATGAAAAAAGACAGCCTTTCTAACCTGAATCTAGGGGAAATTAAACGGATCTCAGAAGGAAATATGGCAGAAATTTAAACTGTGGTTTAGAAGATGGCTGATTTTAGAATTAAAAATTAAAACCTCTTTCAATTTTATTAAGACCAGATCCTTAAAAAGAACCTTGTTCTAACATTGGGGACCAAATTTTGTGTGTGTGTGTGTGTGTGTGTGTGTGTGTGTGTGTGTGTGTGTATAGTGCATGTATAGCATTTACACTATCGTGTATATACAAATATATAGCATATGTATAGAATATACTGTATTATTGTACATATACATATGTACAAGTATATATGTAAGCTCAATGTCTTATGATTTCATTCTGACCTATTGCCAACTTCATTACACACAACTCCTTTCATAAATGTATCCTTCATGAACATTTCATGATCTGCACAGACCTTCAGTGACATGCTTAAACTTTCTGCTTTGTTTTATACTTCCCCTTAAACAACTGGTCATCCTGCTTTAGGATAAAAAGTTACTATGCAAGACTCATACAGAATTATTCTGTTAATTTTGTAACCTTCCTTACCAAAGGTACATTCTCACACCCATTAACTTCCTTCATATTTCTCTCCTCCTCCTACTTAGTGGTTCCTTTCTGTCTTGTTTCCATATTTGAAACAACCTCTAATAAACTCTGAATTTAAACAACTTTTTTCCCAATAAAAAGCAATTTTTATGCCTTATAACTTTTCTCATCAAAACATCTTTTTTTGGGTACACTTTGTATATGGAATTGTGTATTTTCAAATTTTAACTTATTAACCTTAATTTTTAGTGAAAACCTAGGAAGCAAAATTTTGAAGTGTTATATCAGCATTTTATAAATGAGAACCATATTATAATTTTTAGAAACATGTTTCCTTATAACTTTGTATATTAATAGGCCCAAATATATTTAGTCTTTCTATAATTTAGGAAGCCAAGAACAAACTAATATTTTCAGCAGTTTATTGTTTTTTTTTGGAAATGATCCAGACATTTACTGAAGATTAATTTATAAGATTTCAAATTACATGAAAAGTTCATTAACATCCTATTTTTAAAAACATTCTTTTGGTTTATTTTTTAGAGACAATGTCTTGCTGTGTTACCCAGGCTGGAGTTCAGTGGCTGTTCACAGGCACAATTGTAGCACACTGCAGCCTCAAACTCCAACTCACACAATCCTCCTGCCTCCGTTTCCTGAGTAGCTGGAACTATAGATGCATACCTGCATACCACCATGTCTCACCCTTGCTTATCCCGTTTATAATCCATCCAATTCTTTTTTTTTTTTTTTTTTTTGAGACGGAGTCTCGCTCTGTCACCCAGGCTGGAGTGCAGTGGCGTGATCTCGGCTCACTGCAAGCTCCGCCTTCTGGGTTCATGCCATTCTCCTGCCTCAGCCTCCCGAGTAGCTGGGACTACAGGCGCCCGCCACCGCGCCCAGCCAATTTTTTGTATTTTTAGTAGAGACGAGGTTTCACCGTGATCTCGATCTCCTGACCTCGTGATCTGCCCGCCTTGGCCTCCCAAAGTGCTAGGATTACAGGCGTGAGCCACTGCACCTGGCCCCCAATTCATTTTTAACAATTATTCCTAGATTACTTATAAAAACTGAGATATTAGACATAGCTAGTCATTTCAAGTTATTTTCCTGTTAACCATTTTTATTACCTGTGAGTATCATGTGTTCAATTAAGAACCATAAAAATGAAATATGTAGGTATTTTGCCAGTAACTCAGAGGACACAGCTGAAGTCAATAATACAAAATTAGTTCAACTTACAGTTATACAAAGATCATTCTGTTTTTAAGTTGAGTTTATAGTTTTATGACCTTAAAAAGTCTAACAGAGACAAATATAAAACTGAGTAGTAAATTCAGGCAAAAATTTTAAAGACACTTATTTTTGATTTACCAATTATTTTAAAACCAGCTTATCAGATGTTTAAGTTATATTAACTAAAAGGCACTTGTGTTAATTACTATATATTTTGTATTAGCACTCATTTATTTGATGAATAGAATTCCTTAAGGGATTTGTGGCCAACTGCCAGATTTTACCACGTAGACACAACATACAACATATATATACATATGTGTAAACACACCTAAACATACACATACACAAACATAGCTTTCATTTTAGAATTTTAGTCATACGATAGTAATACAGGCTTGCTGGTTTATAAAAGACAGTTATTGGATTCAAATTATATTTCTGAGAAAGTGGGACCTGCTCAGCTGGGTAAACATGCAGAATAGGTAATCTTATGAAAGCTGTGAACCAAAAGTTTTGGTAAATAGCAGTTTGGATTTTTAAAAAACCTCTTACCCCACCTCCCCAACCCCTTTTTTCCCTTTTTTCAGTTTCAAATGAGTTTAATGTTAATATTTAAATGCTTACATTTTTAGCTAGGACTGGCTGAATTGTATAAGAAAAAACAATCTCCAGGTGGCCTTGAATTTTTAGTAACAAATCTTTTGTTTGCCATTCTGGTTTTTTTGACTAGTCAGTGCAGGCAGGGAAGCATTTTAGCAGTTGTGGATGAGGGGTTTTTGTTTTGTTCTTTTAGCCTTTGCATAGCAGGCAAGCAATTTTTATGCTATACCAGAGATACCTTATATTATTGCCCTGAGCTCAAGATTTTGACCTGTTTGAGAGCCTAATTTTTATACGTATTTATCTAGTTCTTTTAGGCTATTAATCCTTTAATTAACTGTTCCATCACCCTAAGCAGTTATTAGGCAAACCTAAATTTACATTAAAAGGGATACTTCTTAATTCTAGGTGTTGGTTGCCAGGGAACTATTATAATTTATAAAGCCATTAATTTAAGGCCCTTTAAGACCTTTTTTTTTCTTTTTGTTCTTGGCTGGAATGCCGTAAGGAGTGAGTTTCATCTCAACACTGGCAGAAACAGCAGATTTAAAGTAGGCAGAAAAAAAATTAGAGAGCTTAGAAGACTCTACATATCAACTCTATAGCTGCAGTCTCTTGGTACTAAGAATAAAAAAGCTTGGGGAGTTTAGACAAAGCATAGACAATCTCTATGATGGTCATTGATCCAAAAACATGCATGAGGAAAAGCCACATAGCTGACCTGAAGTCCCAGAAAAGCAGGCATGCCTTAATGTTTGAGAATTTCCATTTTGTTTCTTCTCAATCTCTTAAGAGCAAAGAAAATTCTGTAAATCCTGACAGATAAGTCAGGTGTTTGGACCAGTGTTTTAACTGGTGGCGATTGCCCTAGTGGCTTTAAAAGAGCCATCCTGTGCCCAAAATTTAGAATGTTTATTTTTGCTCTTGGGAGATGTTCAGAAACAGGGGAAAAGAGCCAAATCATTTACAGATGCATGTAACCATATCGAAACGAAACCAAAATCAGTGTTCCCAAAAGTGTTAACCCAGTCATGCAGATTAAAAAATAATATAAACACAGAAGAACCCAAAGTAAATTTACCAGAAAAGGCATGCCTCAGAATCCAGAGTACTCAGCCAGGCGCAGTGGCCCATGCCTGTAATCCCAGCACTTTGGGAGGCCAAGGCAGGAGGATCGCTTGAGCCCATGAGTTCAAGACCAGCCTCAGCAGTATAGTGAGACACTGTCTCTAAAAAAAAATTGTTTTTAAATCCAGAGTACTCAAACCAGAGGGACACTTGTCTTTATATCAAAAAGGACTTGCCAGGAAAGACAAAAAGTCTTTTGTCATCCCAGGAGGGATGTAAAGTCCTTTATTAAAGTGGTCTTAGAACCAAGACAAATCCAAAGTCAAGTCAAAAAGCCTCTGCCAAAAGTGGGAGGCTCTGCCTGAGAAAAGACTCACTGGGGCAGAACAGACAAGCTATGTAAGCGGAGAGCCCAAAGGGCTCCTGTGAGTACTGCATACTGATTCTGAGATCACCACTTCTCTCTGAAATGTGTCCTACTTCAGGTTCTACTGCTGAACACCATTTATGTCAACACAGAGAGAGGCTCTCTAAAAGAAAACTCTATTTGGGAATACAGCATTGCTGTAGAAATACGCATGTCATGGGCCGTGCGCGGTGGCTTATGCCTGTAATCCCAGCACTTTGGGAGGCTGAGGTGGGCCGATCACGAGGTCAGGAGTTTGAGACCAGCCTGGCCAACATAGTGAAACCCCCTCTCTACTAAAAATACAAAAAATTAGATGGGTGTATTGGTGGGTGCCTATGATCCCGCTACTTGGGAGGCTGAGGCAGAAGATTGGCTTGAACCTGAGAAGTGGAGGTTGCAGTGAGCCTAGATGTGCCACTGCACTCCAGCCTGGGCGACAGTGCAAAACTACGTCTCCAAAAAAAAAAAAAAAAGACCCATGTCATGGTAAACTACGTGTGTATTCAGGGAAGTAAAGGAAGACAAAGATTTTAAAGAAAAATGAGGGTTGTATAATTGTTTTGAAATAATTGTCGTTGGTTACAAAGATCAATAGCAAGGGTGGTGCCACTCTGAAGTTGGACAGGCAGTGGCTAGGCAAAAGTATTTTGTGGGTAACCTTTGTGAAAGGTTGCAGTTTTTGTAACACAAGCTGCTTTATTTTCCCAAAAGCTTTCACAGTACATAGAAAATATATTGGACGTGTATTAAATGTGCCAAATTAGTCAGCAATATTACATTAAAATATGTGTTATTACTTGTTAATGTTCTTAATAAGTTGTTCAGGCAGTTATACCAGACTATCTTTTCTCATTTTCCAATTTATAAGTGTATTATCCAAAAATGTTAGTTTTAGGGTGACCACTGTATATTTTGGTATTTTTTAAAGCTACCCAATTGTGTATAATTTATAAAAATCTTTTTTTCATAAGACCTAAAACTTCTGAACAATACATAGGTGCAAATAAATAAATTCCTTTTTATCTCAAACTCACTTCCACTGCCCTCCCTGAAGAAAGCCTTTTGTTATTGTTGTCTTGACTAAATGTGGCATGGGAGCTAACATTTTCAAGGGAAGCTGATCTTATCTCCGGGCTCTAGAAGCCAAGACATGAGGTATGTGTTTACCGTCTCTTAGGTGACTCTCCAGAACTTTCATTCTCAACCTCCTCCCTCACTGCCAGTTCCTCCTCAGCTTCTTAGCCAAGTGGTAGAGGAAAAATGGTATTTTATGTCAGGACTAAGCCATGTGCTCTGAGCCCTGGGTAAGTCTGCAAGGCTTCTCTAGAACTCATACATAGGTCAATTATTCCTCCTCTGAAAACTTAAACTCTGGCACCACTAGCTTTTTCCTACAGCATACATGGGCTCAGTAAATCCTCTGTTAAGACAACAGGAAAATTAAGACAATGTCCTTGCAAGCCCCATAACTACTTTCTATCCCTGCTATTCACAGCCAAGTGTGTCGAGACCAGTTCACACAAACCTTGTTGATTTTCGGTTTCACCCCCTCCTTACTAAATCACCCCTCCATTTGCTGCAGTTGCCCTTGCGTGCTGTACTCAGACTTGGAGGAAGTGATGTCTTATTCAAGGCCAGTTTTTGTACTAGTGGTTAAATAAATGGTTTCCAAATTGGAGTCAGAAGGAGAGCTTCTAAAATGTAGGTTCCCTGGCCTCAATTGTGAGATTCTGCTTTAGCAGGTCTGGAATTGGAGCACTGGGATCTGCATTTTCAGAAAACCCAAAATGATTATCAGCCAGGACTTAAACCTCTGCTTTAGACCACATTCCCTGTGGGCTTTCAGATTTTCTATCAATGTTCTTCCCTCTTCCCAGCTCCCACACATTAAAACTCAGATCATGCAGAAAAGAAGTTACAGTTCCTTCATTTCACATCAATTTCTCATGCATCCCATCTGGTTTTGGGAAGGTGTGGGACGAGGTGGATGGCCTTAAACTTGCCAATCAAAGATAACGTTCTCTTTCGATTCAAATAGCCTATCTCAGGCTTAAAACCATCTCTTTGGATAAATGCTCAGCTTTTCAAAGGTTCTTCCTAGCTTCTTCCTCATGATGGCATCTAGTGGGTGAGAACAGTCATCTCCAGGTGACACAGGAAAGAGTTTCTCTAATGTATGTGCTGAGGTCCTTGACGGTCCTGCTGCTGGTGCTCATCCTGCCATCTTTGCTGGATGTCACTGAGTCTACTGGGTAATGTAAGTGGGTCCCTGGCTTTTGTTCACTGCTGTCATGCCCTGCTCCTGACCACAACTCTGTCATTGCCTTTGGTCTCAAGGTCTCTACCTTAATAGCTTCCATGTCCCAACTATGGGACTGTTAATCTGCTGGGCTTTGGAGTGGGTGGGAAGGGATGATGTTGGAACTTTGGGATGTACTGAACATCTTGCTCAAGCTTTGGGAAGCCAACATTTTCTCAGACTGACTAGACACCTCCTTCCACCAATGCTGAGCTAGTGCTCCTGTGCCATACTGGGTAAGCCTCTAAGTCATGAGTAGGACTTTTTTGAGTGGCTTGCAGTCTTCCCCAGGCTATGCCAGGAAAGTAGTTGACTAACCCTGCTGCTCCAAGACTCGCATACCCATCCTGAAGTTTCCGTTTATTTCCCAACAGGGCAATTGCAATCTCAATCAATCTCTCCCTGCCCTGGGAGTCATTCCACTCCTGCCTAATGAAGAGACTCTTCTCACATCGTATTCTCAGTTTCTCTTATCCATGGTTAGGAGTAAAACTCATGTTCAGTTGTCCAAGCTTTGCTTTTAGTATGTGAATGGAGCTCTTAGCATGTAGAACTCCCTTCTCATTCTCAGTAAAGTCTGACTTTGAAGACTACTTATCATCTTCCTAGAGATGCCAAAGAATAATCAAGATAATAAAGGCAGGCTCTGAGATTCACAGCTGAGTAGCAACTGTGCTGTTACTCTAGTACACACCCTCTCCTTTCCTGTGACTGTCAGGCTTCAGGGCTTACCTTTATTGGAAAGACAGCAGGGGGGCATATATGAAGAAAATGGAATCTTTAATATTGTCAAAGTCTTGACCCAATAGAGACATTCTTGCCCCAGACTCTCTTGCTTCAGTGCCTTTGCCTGTTCTGGTCCTAAGTACCTTGAATATCCTTCTCTTGATGCCCTGATATAAAACTCTTTATTCCTCAAAGCCAAGTTCAGGTTATCACCTCCACCACAGACTTTTCTTTCCCTCCCCAAACTTCATTGCCTCTTCTCATCACTCCCTTTGTAATTTGTTTATACTGGTAAGAGAGCATTCATCATAATTAGGCCTATCTATGCCTACCTTTCTTGTTAAATTATGAGCTTTGTTCTGCCTTGGATATCTCTCTGGCTTGGATATCTCTCTGGCCTTTGCTCTGCACTTCCAAATGTATCCATTATTCAAGACCCAGGTTTCCAGCCTGATCAACATAGCAAGATCCCATCTCTCCAAAAAAAAAAAAAAAAAAAAATTGTGGGGCCGGGTACAGTGGCTCATGCCTGTAATCCCAGCACTTTGGGAGGCCGAGGCAGGTGGATCATGAGGTCACGAGTTTGAGACCAGTCTGGCCAACATAGTGAAACCCCATCTGTACTAAAAATGCAGAAAATTAGCCGGGTGTGGTGGTGTGTGCCTGTAATCCCAGCTACTCGGGAGGCTGAGGCAGGAGAATCGCATGAACCCGGGAGGCAGAGGTTGCAGTGAGCCGAGATTGCGCCACTGCACTCCAGCCTGGGTGACATTGCAAGACTCCATCTCAAAAAAAAAAAAAAAAAAAATTAGCTGGGCATGGTGGCAGGCACCTGTAGTCCCAGCTACTTGAGAGGCTGAGGTGGGAGGATTGCTTGAGCCCAGGAAGTCGAGGCTTCATGAGCCATGTTTGTGCTACTGCACTCTAGCCTGGATGACAAAGTGAGATCCTTTTCTAAAAATAAGGACCCAGTTTATTTTATTTAGTTATTTAGTTATTTTTGAGACCAAGTTTCATCACTCAGGCTGGAGTGCAATGGCACAGTCTTGACTCACTGCAACCTCTGCCTCCTGGATTCAAGCAATTCTTCTGCCTCAGCCTCTTGAGTAGCTGGGATTGCAGGTGCCCGCCACCACACCTGGCTAATTTTTGTATTTTTGGTAGAGACAGGGTTTCACTATGTTGGCCAGGCTGGTCTCAAACTCCTGACCTCAGGTGATCCACCTGCCTTGGTCTCCCAAACTGCTGGGATTACAGGTGTGAGTCACCCTGCCTGGCCAGAACCCAGTTTAAATTCCATCCTCTCTGCAGAGTCTTCCTTAACCACCCCTATTGAAAGTTACCCCTGCTTCCTACAAGAAGTGGTACTTGGATGTTCATGAGATACCTGTGCAAGGCTCCTGTGGGGGTCCTGGGGAGACAGTGACATGGACACTCATGAAAGGAACCTTGGAATAGCGAGTGTGTGTGCTATAAAATGTGCTTTAGATTTGATTACCACCACTTAAGTTATGAGCTCTGATATGGTTTGGGTCTCCATCCCCACCCAAATCTCATCTTGAATTGTAATCCCTACATGTTGAGGGAAGGAAGTAATTGTATTATGGGGGTGGTTCTCCCATGCTGTTCTCATGATAGTGAATTCTCACAGGATCTGATGGTTTTATAAATGGTAGTTTTTCCTGTACTTTCACACACTCACACTCTCTTCTGCCACCTTGTGAAGAAGGTGCCTGCTTCCCCTTCTGCCATAATTGTAAGTTTCCTGAGGCCTCCCCAGCTGTATTAGTCTGATCTCACGCGGCTAATAAAGAGATACCGGAGACTGGGTAATTTATAAAAGAGGTTTAATTGACTCACAGTTTTACATGGCTGGGGAGGCCTCACAATTATGGCAGAAGGTGAAGGGGGAGCAAGACACATCTTACATGGCATCAGGCGAGAGAGCTTGTGTAGGGGAACTCCCCTTTATAAAACCATCAGATCTCGTGAGACTTATTCACTATTACAAGAGCAGCACGGGAAAGACCCACCCCCATGATTCAGTTACCTCTCACTGGGTCCCTCACATAATATGGGGAATTATGGGAGCTCCAATTCAAGATGAGATTTGGGTGGGGACACAGCCAAACTATATCACCAGCCATGTGGAACTGTTGAGTCAATTAAACCTCTTTCCTTTATAAATTACCCAGTCTCAGGTATTTCTTTATAGCAGTGTGAGAACAGACTAATACAAGCACCTTGAGGTCAGAGGCTAAAATCACTTTTTCCCAAACATTTCCTTTTTATATATGCTACATCTTTGTGTCTGCTTCAACATTTCCAGCAGTGCTTTATATATGGTAGGCATGCAATAAATGCTTCTTGATCGACTGACAGGTGCTCAGAAGATCTAGGTTGGTTGATTCTCTTGTGATGCCATCTTTTCCTGAGAGCTCATTAATTTTTAAGTTGTTTTCCTTGAAATGCATGGTATGTTTCCTCCACCCTGCTCTTTGCCTTTCATAGGGTTCCATTTTGATCAGCTGCTCTCATTGTCTGTTTTGTGATCAAAGGTTCTGATGAACTTTGGAATATGTGTATGTTTGGAGTGAGGATGGGGTCTGGAGGAGATGCATGGTTGAGGACCAATTCACCCAACCCAGCTTACAGAAGTAAAGCGGCCCCTTAGGAGCACTGAAGCATTGCTGTGGATTTCAGAATTACCTTATTTCTTTTTCTTTTTTTTTTTTTTTTTTTTGAGACGAGGTCTCGCTCTGTCGCCCAGGCTGGAGTGCAGTGGCACAATCTCAGCTCACTGCAAGCTCCGCCTCCTGGGTTCACACCATTCTCCTCCCTCAGCCTCCCCAGCAGCTGGGACTATAGGTGCACGCCGCCACGCCTGGCTAATTTTTGTATTTTTAGTGGAGACAGGGTTTCACCGTGTTAGCCAGGATGGTCTCAATCTCCTGACCTTGTGATCCACCCGCCTCAGCCTCCCAAAGTGCTGGGATTACAGGCGTGAGCCACCGTGCCCAGCCAGCTTCTTTCAAATCAGAGTAGGCCTTCCAGTGTGGCAGGCCATAAGATCTGAAGTTTTCACCCTGTTCCTGGAAGCCAAGTGGACAGCAACTAATTTTTACTTTCTTTATTGCACATTTGGGGCTTGGGGGATAGAGTCAGATGTGTGTCAGTTGAAACTGTAGCTACTGCATTCCACTCCTTGGGGGATCGTAGTGCTCATGCCAACAGAAAACTTCGAGGCTAATAATTACTGTCTTCAGAGTACAAGACAGGCACGGAAGTTGTTTTGGCATAAGAAAACCACGATTTGCATCCCACAGTCTAAGGAAGACGATGCTGAATTCAGAAGATGGTGCAAAAGTGTGACAGTTCAGCTGTGGCGGCTGTTGCTGATGCATGGGACTATTTTATTTACATTTCCTTTCTTCTTTTTTAACAGAGACAGGATCTTGCTGTGTTGCCCAGCCTGGTCTTAAACTCCTGGGCCCAAGTGATCCTCCCACCTCAGCCTCCCAACGTGTTGGGATTACAGGCATGAGCCACCATGCCTGGGCTTTATTTATATTTCCAAGTCAAATGTTAGTTGGTCAATCAGTCTTTTTAAGCACCAATTTTGTGCCTAGCCTTGTGGAAACTGTAGGAAAAAGATACTTTTTATTTGGGAGGACCTTGATTTGCTGTCACAGGTGCCACTAATGCCAATTATAAGGCAGTGTGGAATCAGGTGATTGAAAGCCCAGTCTGTAGCATAAACTGCTGCAGGGTTCCAGTGGGGGCAATTAAGGTGGGCAGGGAGGGTGGATAGCATTTGACTTTGACAGCATAACCTGAGCAGAGGCACAGTGGGGATGGTGAGTGTGCAGTGGGAGGAGGGAGAGAGGTAAGTGGTAGGGAAGAGGTGGGAAGGGGGCAAGGAGAAGGCTCAGGAGGTTTGGGGACAGGGAAATGACTTGGTTGGCGACCTCTTACTTTCTTCTCGTGTGTGCAATTTGGAATTCACTTGGTTCTTAGTATTTCTGGGTCAGATGACTTCTTTGCAGTATGAGAAACCATTTCCCAGGCTGGCTACCTGGGCTGTGGTATCTTCCAGTGCTCCTCTGTGATTGTACTCAGATCAGCTCGTCTAGGCAGGCAGGATGGCAGAAGCCCTCTGACTTCATGTCTGAAAGAGTATGTGTTTCAACTCTGTAATTACAGCATTTAACAGACGATATCAGCCCTCTTTGGGATGGCTTTTGGCAAATGGGCTAGAAGTCTATTGTGCATTTAAATGATACTGCATCTTCTCTTTAAAAGGTTTCTCAGTGAGTCCACCCCACTCTGTATCCAAGTATGTCTCAGGCCATGAGGCAAAAGGAAATGAGTAGTTCTTTTTGGTTGGAGAATTAAAAAGAAATCTCCACCCAAGTAACAGGTACATAGTGGGAAAAAATAACATCTGCCTGAAAGCTTCATCTTCAGGCAAAGAGAGGGTCAGGGGGCGGGAGCTTAGTAATGGGGAAACCTCAGAAGATTTAAAGAGAATTACAGACAGACAAGGCTGAACATTGGCTGTCATCCAACAAAGCTCTTATAAGATGGGAATCACTGCCCGGTTCTTGAGCTCCGACCTGGAGGGAAGAGGAGTCTGGAAGACTTGGCACAGGCCTGAGTGCTTCATTGTCTTTCTGGTTCCAAGTCCTCCTCAGCTCACTAGGAAGGAGGTGGGGTGGGGGCAGGTAGGCCACTCTGCATAAGTGCACACATCTACACTGGCTAGTCTACTTCACAATTCCCCCACAGGTTATCCTTATCTCTACCTGGTTCCAGTTCCAGATTGGAGGGATATAGAATACCATCCCCACCCCTCACCTTGCTTGCTCTGGCCTGGAAAACTGTCATTCCTTTACCACCAGCTGGCATCTGCCATATGCTTCAAGGAACTGAATAAAGAGGAAGGGGAAAGAAGAAACTAGAGAAACTGGAATGCTTCCTATCTGACCCCCAAGTACAGGGACTGCCTCTTTCCGTAACGGCACAGAACGTCTCCATCCCTTTGACCTCCACCTCCCCAGAGATGCCCGAGGAGGACAGCCTTGTTTCTGTGATCTGTTGTTGAGAACTGCTGCTGAGAATTCTTCCTTCAGCACCGCCTTAGGCACCATTGGTTTTTCACTAGGTCCGCTGTAGAAAACAGCCAGGAATTACTTAGTTGACTACCACCTGAGGTGCTGTTTGGTGTTGGTAATAAAGAATAAAGGTGGAAATGAA']\n"
     ]
    }
   ],
   "source": [
    "import csv\n",
    "\n",
    "# Specify the row number you want to check (1715)\n",
    "row_number_to_check = 1715\n",
    "\n",
    "with open(\"transcript_seq.csv\", \"r\") as emb_file:\n",
    "    \n",
    "    csv_reader = csv.reader(emb_file)\n",
    "    for index, row in enumerate(csv_reader):\n",
    "        if index == row_number_to_check:\n",
    "            print(\"Row 1715 in 'emb_file.csv' corresponds to:\")\n",
    "            print(row)\n",
    "            break"
   ]
  },
  {
   "cell_type": "markdown",
   "id": "148830d1",
   "metadata": {},
   "source": [
    "34k seq size"
   ]
  }
 ],
 "metadata": {
  "kernelspec": {
   "display_name": "Python 3 (ipykernel)",
   "language": "python",
   "name": "python3"
  },
  "language_info": {
   "codemirror_mode": {
    "name": "ipython",
    "version": 3
   },
   "file_extension": ".py",
   "mimetype": "text/x-python",
   "name": "python",
   "nbconvert_exporter": "python",
   "pygments_lexer": "ipython3",
   "version": "3.8.18"
  }
 },
 "nbformat": 4,
 "nbformat_minor": 5
}
