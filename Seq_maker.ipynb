{
 "cells": [
  {
   "cell_type": "code",
   "execution_count": 14,
   "id": "33ccc9c2",
   "metadata": {},
   "outputs": [],
   "source": [
    "from pyfaidx import Fasta\n",
    "import pandas as pd\n",
    "import matplotlib.pyplot as plt\n",
    "import seaborn as sns\n",
    "import numpy as np\n",
    "\n",
    "\n",
    "sfari= pd.read_csv(\"sfari_ed.csv\")\n",
    "\n",
    "genes = Fasta('Homo_sapiens.GRCh38.cdna.all.fa')\n"
   ]
  },
  {
   "cell_type": "markdown",
   "id": "2df37b47",
   "metadata": {},
   "source": [
    "## Full list of the transcripts"
   ]
  },
  {
   "cell_type": "code",
   "execution_count": 15,
   "id": "7634fe4b",
   "metadata": {},
   "outputs": [],
   "source": [
    "names = pd.DataFrame(genes.keys(), columns=[\"id_version\"])\n",
    "names[\"id\"]= names[\"id_version\"].str.split(\".\").str.get(0)"
   ]
  },
  {
   "cell_type": "markdown",
   "id": "e58c5b2f",
   "metadata": {},
   "source": [
    "# Get the Canonical dataset"
   ]
  },
  {
   "cell_type": "code",
   "execution_count": 16,
   "id": "238e5aa5",
   "metadata": {},
   "outputs": [],
   "source": [
    "from pybiomart import Dataset\n",
    "\n",
    "dataset = Dataset(name='hsapiens_gene_ensembl', host='http://www.ensembl.org')\n",
    "\n",
    "\n",
    "df = dataset.query(attributes=['ensembl_gene_id', 'external_gene_name', 'ensembl_transcript_id', 'transcript_is_canonical','entrezgene_id'])"
   ]
  },
  {
   "cell_type": "code",
   "execution_count": 17,
   "id": "e658d84f",
   "metadata": {},
   "outputs": [],
   "source": [
    "transcrip_df=df[df[\"Ensembl Canonical\"]==1].copy() # filter to only show the canonical genes"
   ]
  },
  {
   "cell_type": "code",
   "execution_count": 18,
   "metadata": {},
   "outputs": [],
   "source": [
    "def format_float(x): # remove the version from the values\n",
    "    if isinstance(x, float) and not np.isnan(x):\n",
    "        return str(int(x))\n",
    "    return x\n",
    "\n",
    "transcrip_df[\"NCBI gene (formerly Entrezgene) ID\"] = transcrip_df[\"NCBI gene (formerly Entrezgene) ID\"].apply(format_float)\n",
    "transcrip_df = transcrip_df.rename(columns={\"NCBI gene (formerly Entrezgene) ID\": \"NCBI_id\"})\n"
   ]
  },
  {
   "cell_type": "markdown",
   "id": "4eb17c01",
   "metadata": {},
   "source": [
    "### Merge the full transcipts with the cannonical transcripts"
   ]
  },
  {
   "cell_type": "markdown",
   "id": "3109e548",
   "metadata": {},
   "source": [
    "The purpose of this is to extract the Transcript version"
   ]
  },
  {
   "cell_type": "code",
   "execution_count": 19,
   "id": "58f9d316",
   "metadata": {},
   "outputs": [],
   "source": [
    "cano_df = pd.merge(transcrip_df,names , left_on='Transcript stable ID', right_on='id')"
   ]
  },
  {
   "cell_type": "code",
   "execution_count": 20,
   "id": "a1242c22",
   "metadata": {},
   "outputs": [],
   "source": [
    "clean_df = cano_df[[\"Gene name\",\"Gene stable ID\",\"id_version\",\"NCBI_id\"]].copy()"
   ]
  },
  {
   "cell_type": "code",
   "execution_count": 21,
   "id": "85f24456",
   "metadata": {},
   "outputs": [
    {
     "data": {
      "text/html": [
       "<div>\n",
       "<style scoped>\n",
       "    .dataframe tbody tr th:only-of-type {\n",
       "        vertical-align: middle;\n",
       "    }\n",
       "\n",
       "    .dataframe tbody tr th {\n",
       "        vertical-align: top;\n",
       "    }\n",
       "\n",
       "    .dataframe thead th {\n",
       "        text-align: right;\n",
       "    }\n",
       "</style>\n",
       "<table border=\"1\" class=\"dataframe\">\n",
       "  <thead>\n",
       "    <tr style=\"text-align: right;\">\n",
       "      <th></th>\n",
       "      <th>Gene name</th>\n",
       "      <th>Gene stable ID</th>\n",
       "      <th>id_version</th>\n",
       "      <th>NCBI_id</th>\n",
       "    </tr>\n",
       "  </thead>\n",
       "  <tbody>\n",
       "    <tr>\n",
       "      <th>0</th>\n",
       "      <td>MT-ND1</td>\n",
       "      <td>ENSG00000198888</td>\n",
       "      <td>ENST00000361390.2</td>\n",
       "      <td>4535</td>\n",
       "    </tr>\n",
       "    <tr>\n",
       "      <th>1</th>\n",
       "      <td>MT-ND2</td>\n",
       "      <td>ENSG00000198763</td>\n",
       "      <td>ENST00000361453.3</td>\n",
       "      <td>4536</td>\n",
       "    </tr>\n",
       "    <tr>\n",
       "      <th>2</th>\n",
       "      <td>MT-CO1</td>\n",
       "      <td>ENSG00000198804</td>\n",
       "      <td>ENST00000361624.2</td>\n",
       "      <td>4512</td>\n",
       "    </tr>\n",
       "    <tr>\n",
       "      <th>3</th>\n",
       "      <td>MT-CO2</td>\n",
       "      <td>ENSG00000198712</td>\n",
       "      <td>ENST00000361739.1</td>\n",
       "      <td>4513</td>\n",
       "    </tr>\n",
       "    <tr>\n",
       "      <th>4</th>\n",
       "      <td>MT-ATP8</td>\n",
       "      <td>ENSG00000228253</td>\n",
       "      <td>ENST00000361851.1</td>\n",
       "      <td>4509</td>\n",
       "    </tr>\n",
       "    <tr>\n",
       "      <th>...</th>\n",
       "      <td>...</td>\n",
       "      <td>...</td>\n",
       "      <td>...</td>\n",
       "      <td>...</td>\n",
       "    </tr>\n",
       "    <tr>\n",
       "      <th>42064</th>\n",
       "      <td>CHCHD2P6</td>\n",
       "      <td>ENSG00000235084</td>\n",
       "      <td>ENST00000454346.1</td>\n",
       "      <td>NaN</td>\n",
       "    </tr>\n",
       "    <tr>\n",
       "      <th>42065</th>\n",
       "      <td>CD24P1</td>\n",
       "      <td>ENSG00000236500</td>\n",
       "      <td>ENST00000422383.1</td>\n",
       "      <td>NaN</td>\n",
       "    </tr>\n",
       "    <tr>\n",
       "      <th>42066</th>\n",
       "      <td>DDI2</td>\n",
       "      <td>ENSG00000197312</td>\n",
       "      <td>ENST00000480945.6</td>\n",
       "      <td>84301</td>\n",
       "    </tr>\n",
       "    <tr>\n",
       "      <th>42067</th>\n",
       "      <td>RSC1A1</td>\n",
       "      <td>ENSG00000215695</td>\n",
       "      <td>ENST00000345034.2</td>\n",
       "      <td>6248</td>\n",
       "    </tr>\n",
       "    <tr>\n",
       "      <th>42068</th>\n",
       "      <td>PLEKHM2</td>\n",
       "      <td>ENSG00000116786</td>\n",
       "      <td>ENST00000375799.8</td>\n",
       "      <td>23207</td>\n",
       "    </tr>\n",
       "  </tbody>\n",
       "</table>\n",
       "<p>42069 rows × 4 columns</p>\n",
       "</div>"
      ],
      "text/plain": [
       "      Gene name   Gene stable ID         id_version NCBI_id\n",
       "0        MT-ND1  ENSG00000198888  ENST00000361390.2    4535\n",
       "1        MT-ND2  ENSG00000198763  ENST00000361453.3    4536\n",
       "2        MT-CO1  ENSG00000198804  ENST00000361624.2    4512\n",
       "3        MT-CO2  ENSG00000198712  ENST00000361739.1    4513\n",
       "4       MT-ATP8  ENSG00000228253  ENST00000361851.1    4509\n",
       "...         ...              ...                ...     ...\n",
       "42064  CHCHD2P6  ENSG00000235084  ENST00000454346.1     NaN\n",
       "42065    CD24P1  ENSG00000236500  ENST00000422383.1     NaN\n",
       "42066      DDI2  ENSG00000197312  ENST00000480945.6   84301\n",
       "42067    RSC1A1  ENSG00000215695  ENST00000345034.2    6248\n",
       "42068   PLEKHM2  ENSG00000116786  ENST00000375799.8   23207\n",
       "\n",
       "[42069 rows x 4 columns]"
      ]
     },
     "execution_count": 21,
     "metadata": {},
     "output_type": "execute_result"
    }
   ],
   "source": [
    "clean_df"
   ]
  },
  {
   "cell_type": "code",
   "execution_count": 22,
   "metadata": {},
   "outputs": [
    {
     "name": "stdout",
     "output_type": "stream",
     "text": [
      "Gene name          6697\n",
      "Gene stable ID        0\n",
      "id_version            0\n",
      "NCBI_id           18308\n",
      "dtype: int64\n"
     ]
    }
   ],
   "source": [
    "print(clean_df.isna().sum())"
   ]
  },
  {
   "cell_type": "markdown",
   "id": "d7b78198",
   "metadata": {},
   "source": [
    "# Add the sequences"
   ]
  },
  {
   "cell_type": "code",
   "execution_count": 23,
   "id": "73a68556",
   "metadata": {},
   "outputs": [],
   "source": [
    "def get_seq(id):\n",
    "    if id in genes:\n",
    "                seq=genes[id][:].seq\n",
    "                return seq"
   ]
  },
  {
   "cell_type": "code",
   "execution_count": 24,
   "id": "de35cc42",
   "metadata": {},
   "outputs": [],
   "source": [
    "clean_dna=clean_df.copy()\n",
    "clean_dna[\"seq\"]=clean_dna['id_version'].apply(get_seq)"
   ]
  },
  {
   "cell_type": "code",
   "execution_count": 25,
   "id": "30c0dc79",
   "metadata": {},
   "outputs": [
    {
     "data": {
      "text/html": [
       "<div>\n",
       "<style scoped>\n",
       "    .dataframe tbody tr th:only-of-type {\n",
       "        vertical-align: middle;\n",
       "    }\n",
       "\n",
       "    .dataframe tbody tr th {\n",
       "        vertical-align: top;\n",
       "    }\n",
       "\n",
       "    .dataframe thead th {\n",
       "        text-align: right;\n",
       "    }\n",
       "</style>\n",
       "<table border=\"1\" class=\"dataframe\">\n",
       "  <thead>\n",
       "    <tr style=\"text-align: right;\">\n",
       "      <th></th>\n",
       "      <th>Gene name</th>\n",
       "      <th>Gene stable ID</th>\n",
       "      <th>id_version</th>\n",
       "      <th>NCBI_id</th>\n",
       "      <th>seq</th>\n",
       "    </tr>\n",
       "  </thead>\n",
       "  <tbody>\n",
       "    <tr>\n",
       "      <th>0</th>\n",
       "      <td>MT-ND1</td>\n",
       "      <td>ENSG00000198888</td>\n",
       "      <td>ENST00000361390.2</td>\n",
       "      <td>4535</td>\n",
       "      <td>ATACCCATGGCCAACCTCCTACTCCTCATTGTACCCATTCTAATCG...</td>\n",
       "    </tr>\n",
       "    <tr>\n",
       "      <th>1</th>\n",
       "      <td>MT-ND2</td>\n",
       "      <td>ENSG00000198763</td>\n",
       "      <td>ENST00000361453.3</td>\n",
       "      <td>4536</td>\n",
       "      <td>ATTAATCCCCTGGCCCAACCCGTCATCTACTCTACCATCTTTGCAG...</td>\n",
       "    </tr>\n",
       "    <tr>\n",
       "      <th>2</th>\n",
       "      <td>MT-CO1</td>\n",
       "      <td>ENSG00000198804</td>\n",
       "      <td>ENST00000361624.2</td>\n",
       "      <td>4512</td>\n",
       "      <td>ATGTTCGCCGACCGTTGACTATTCTCTACAAACCACAAAGACATTG...</td>\n",
       "    </tr>\n",
       "    <tr>\n",
       "      <th>3</th>\n",
       "      <td>MT-CO2</td>\n",
       "      <td>ENSG00000198712</td>\n",
       "      <td>ENST00000361739.1</td>\n",
       "      <td>4513</td>\n",
       "      <td>ATGGCACATGCAGCGCAAGTAGGTCTACAAGACGCTACTTCCCCTA...</td>\n",
       "    </tr>\n",
       "    <tr>\n",
       "      <th>4</th>\n",
       "      <td>MT-ATP8</td>\n",
       "      <td>ENSG00000228253</td>\n",
       "      <td>ENST00000361851.1</td>\n",
       "      <td>4509</td>\n",
       "      <td>ATGCCCCAACTAAATACTACCGTATGGCCCACCATAATTACCCCCA...</td>\n",
       "    </tr>\n",
       "    <tr>\n",
       "      <th>...</th>\n",
       "      <td>...</td>\n",
       "      <td>...</td>\n",
       "      <td>...</td>\n",
       "      <td>...</td>\n",
       "      <td>...</td>\n",
       "    </tr>\n",
       "    <tr>\n",
       "      <th>42064</th>\n",
       "      <td>CHCHD2P6</td>\n",
       "      <td>ENSG00000235084</td>\n",
       "      <td>ENST00000454346.1</td>\n",
       "      <td>NaN</td>\n",
       "      <td>GGAAGCCGAAGCCACACCTCCCGCATGGCCCCTCCGGCCAGCCGGG...</td>\n",
       "    </tr>\n",
       "    <tr>\n",
       "      <th>42065</th>\n",
       "      <td>CD24P1</td>\n",
       "      <td>ENSG00000236500</td>\n",
       "      <td>ENST00000422383.1</td>\n",
       "      <td>NaN</td>\n",
       "      <td>GCAATGGTGGACAGGCTCAGGCTGGGGCTGCTGCTTCTGGCACTGC...</td>\n",
       "    </tr>\n",
       "    <tr>\n",
       "      <th>42066</th>\n",
       "      <td>DDI2</td>\n",
       "      <td>ENSG00000197312</td>\n",
       "      <td>ENST00000480945.6</td>\n",
       "      <td>84301</td>\n",
       "      <td>AGACGGACTCGCAGGCGTGTGGCGGCGGCCGTGCTTGCTAGTGAGG...</td>\n",
       "    </tr>\n",
       "    <tr>\n",
       "      <th>42067</th>\n",
       "      <td>RSC1A1</td>\n",
       "      <td>ENSG00000215695</td>\n",
       "      <td>ENST00000345034.2</td>\n",
       "      <td>6248</td>\n",
       "      <td>AAGAGAAACCCGAGTTTGAGGACCTTATTTTATTCTACGCTGTTTA...</td>\n",
       "    </tr>\n",
       "    <tr>\n",
       "      <th>42068</th>\n",
       "      <td>PLEKHM2</td>\n",
       "      <td>ENSG00000116786</td>\n",
       "      <td>ENST00000375799.8</td>\n",
       "      <td>23207</td>\n",
       "      <td>GCACAGCCCGCGGCCTCCTTCCCCGCCGGCCGCGCTCCGGAGCCTC...</td>\n",
       "    </tr>\n",
       "  </tbody>\n",
       "</table>\n",
       "<p>42069 rows × 5 columns</p>\n",
       "</div>"
      ],
      "text/plain": [
       "      Gene name   Gene stable ID         id_version NCBI_id  \\\n",
       "0        MT-ND1  ENSG00000198888  ENST00000361390.2    4535   \n",
       "1        MT-ND2  ENSG00000198763  ENST00000361453.3    4536   \n",
       "2        MT-CO1  ENSG00000198804  ENST00000361624.2    4512   \n",
       "3        MT-CO2  ENSG00000198712  ENST00000361739.1    4513   \n",
       "4       MT-ATP8  ENSG00000228253  ENST00000361851.1    4509   \n",
       "...         ...              ...                ...     ...   \n",
       "42064  CHCHD2P6  ENSG00000235084  ENST00000454346.1     NaN   \n",
       "42065    CD24P1  ENSG00000236500  ENST00000422383.1     NaN   \n",
       "42066      DDI2  ENSG00000197312  ENST00000480945.6   84301   \n",
       "42067    RSC1A1  ENSG00000215695  ENST00000345034.2    6248   \n",
       "42068   PLEKHM2  ENSG00000116786  ENST00000375799.8   23207   \n",
       "\n",
       "                                                     seq  \n",
       "0      ATACCCATGGCCAACCTCCTACTCCTCATTGTACCCATTCTAATCG...  \n",
       "1      ATTAATCCCCTGGCCCAACCCGTCATCTACTCTACCATCTTTGCAG...  \n",
       "2      ATGTTCGCCGACCGTTGACTATTCTCTACAAACCACAAAGACATTG...  \n",
       "3      ATGGCACATGCAGCGCAAGTAGGTCTACAAGACGCTACTTCCCCTA...  \n",
       "4      ATGCCCCAACTAAATACTACCGTATGGCCCACCATAATTACCCCCA...  \n",
       "...                                                  ...  \n",
       "42064  GGAAGCCGAAGCCACACCTCCCGCATGGCCCCTCCGGCCAGCCGGG...  \n",
       "42065  GCAATGGTGGACAGGCTCAGGCTGGGGCTGCTGCTTCTGGCACTGC...  \n",
       "42066  AGACGGACTCGCAGGCGTGTGGCGGCGGCCGTGCTTGCTAGTGAGG...  \n",
       "42067  AAGAGAAACCCGAGTTTGAGGACCTTATTTTATTCTACGCTGTTTA...  \n",
       "42068  GCACAGCCCGCGGCCTCCTTCCCCGCCGGCCGCGCTCCGGAGCCTC...  \n",
       "\n",
       "[42069 rows x 5 columns]"
      ]
     },
     "execution_count": 25,
     "metadata": {},
     "output_type": "execute_result"
    }
   ],
   "source": [
    "clean_dna"
   ]
  },
  {
   "cell_type": "code",
   "execution_count": 26,
   "id": "5817b16c",
   "metadata": {},
   "outputs": [],
   "source": [
    "clean_dna.to_csv(\"transcript_seq.csv\",index= False)"
   ]
  },
  {
   "cell_type": "code",
   "execution_count": null,
   "id": "064f8633",
   "metadata": {},
   "outputs": [],
   "source": []
  },
  {
   "cell_type": "code",
   "execution_count": null,
   "id": "fe87ae58",
   "metadata": {},
   "outputs": [],
   "source": []
  }
 ],
 "metadata": {
  "kernelspec": {
   "display_name": "Python 3 (ipykernel)",
   "language": "python",
   "name": "python3"
  },
  "language_info": {
   "codemirror_mode": {
    "name": "ipython",
    "version": 3
   },
   "file_extension": ".py",
   "mimetype": "text/x-python",
   "name": "python",
   "nbconvert_exporter": "python",
   "pygments_lexer": "ipython3",
   "version": "3.8.18"
  }
 },
 "nbformat": 4,
 "nbformat_minor": 5
}
