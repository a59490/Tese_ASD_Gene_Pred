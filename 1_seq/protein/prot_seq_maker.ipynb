{
 "cells": [
  {
   "cell_type": "code",
   "execution_count": 74,
   "id": "33ccc9c2",
   "metadata": {},
   "outputs": [],
   "source": [
    "from pyfaidx import Fasta\n",
    "import pandas as pd\n",
    "import matplotlib.pyplot as plt\n",
    "import seaborn as sns\n",
    "import numpy as np"
   ]
  },
  {
   "cell_type": "markdown",
   "id": "2df37b47",
   "metadata": {},
   "source": [
    "## Full list of the transcripts"
   ]
  },
  {
   "cell_type": "markdown",
   "id": "a306e92a",
   "metadata": {},
   "source": [
    "Não faz sentido ir buscar o gene id, "
   ]
  },
  {
   "cell_type": "code",
   "execution_count": 75,
   "id": "7634fe4b",
   "metadata": {},
   "outputs": [],
   "source": [
    "petides = Fasta('Homo_sapiens.GRCh38.pep.all.fa')\n",
    "\n",
    "petide_sequence = pd.DataFrame(petides.keys(), columns=[\"id_version\"])\n",
    "petide_sequence[\"Protein_ID\"]= petide_sequence[\"id_version\"].str.split(\".\").str.get(0) #"
   ]
  },
  {
   "cell_type": "code",
   "execution_count": 76,
   "id": "1412656b",
   "metadata": {},
   "outputs": [],
   "source": [
    "def get_protein_seq(id):\n",
    "    seq=petides[id][:].seq\n",
    "    return seq\n"
   ]
  },
  {
   "cell_type": "code",
   "execution_count": 77,
   "id": "50de9c8c",
   "metadata": {},
   "outputs": [
    {
     "data": {
      "text/html": [
       "<div>\n",
       "<style scoped>\n",
       "    .dataframe tbody tr th:only-of-type {\n",
       "        vertical-align: middle;\n",
       "    }\n",
       "\n",
       "    .dataframe tbody tr th {\n",
       "        vertical-align: top;\n",
       "    }\n",
       "\n",
       "    .dataframe thead th {\n",
       "        text-align: right;\n",
       "    }\n",
       "</style>\n",
       "<table border=\"1\" class=\"dataframe\">\n",
       "  <thead>\n",
       "    <tr style=\"text-align: right;\">\n",
       "      <th></th>\n",
       "      <th>id_version</th>\n",
       "      <th>Protein_ID</th>\n",
       "      <th>protein_seq</th>\n",
       "    </tr>\n",
       "  </thead>\n",
       "  <tbody>\n",
       "    <tr>\n",
       "      <th>0</th>\n",
       "      <td>ENSP00000451042.1</td>\n",
       "      <td>ENSP00000451042</td>\n",
       "      <td>EI</td>\n",
       "    </tr>\n",
       "    <tr>\n",
       "      <th>1</th>\n",
       "      <td>ENSP00000452494.1</td>\n",
       "      <td>ENSP00000452494</td>\n",
       "      <td>TGGY</td>\n",
       "    </tr>\n",
       "    <tr>\n",
       "      <th>2</th>\n",
       "      <td>ENSP00000451515.1</td>\n",
       "      <td>ENSP00000451515</td>\n",
       "      <td>PSY</td>\n",
       "    </tr>\n",
       "    <tr>\n",
       "      <th>3</th>\n",
       "      <td>ENSP00000488240.1</td>\n",
       "      <td>ENSP00000488240</td>\n",
       "      <td>GTGG</td>\n",
       "    </tr>\n",
       "    <tr>\n",
       "      <th>4</th>\n",
       "      <td>ENSP00000487941.1</td>\n",
       "      <td>ENSP00000487941</td>\n",
       "      <td>GTGG</td>\n",
       "    </tr>\n",
       "    <tr>\n",
       "      <th>...</th>\n",
       "      <td>...</td>\n",
       "      <td>...</td>\n",
       "      <td>...</td>\n",
       "    </tr>\n",
       "    <tr>\n",
       "      <th>122609</th>\n",
       "      <td>ENSP00000448878.1</td>\n",
       "      <td>ENSP00000448878</td>\n",
       "      <td>XEITSSPQGLDNPALLRDMLLANPHELSLLKERNPPLAEALLSGDL...</td>\n",
       "    </tr>\n",
       "    <tr>\n",
       "      <th>122610</th>\n",
       "      <td>ENSP00000341963.1</td>\n",
       "      <td>ENSP00000341963</td>\n",
       "      <td>MSSLPTSDGFNHPARSSGQSPDVGNPMSLARSVSASVCPIKPSDSD...</td>\n",
       "    </tr>\n",
       "    <tr>\n",
       "      <th>122611</th>\n",
       "      <td>ENSP00000364956.3</td>\n",
       "      <td>ENSP00000364956</td>\n",
       "      <td>MEPGEVKDRILENISLSVKKLQSYFAACEDEIPAIRNHDKVLQRLC...</td>\n",
       "    </tr>\n",
       "    <tr>\n",
       "      <th>122612</th>\n",
       "      <td>ENSP00000364950.2</td>\n",
       "      <td>ENSP00000364950</td>\n",
       "      <td>MEPGEVKDRILENISLSVKKLQSYFAACEDEIPAIRNHDKVLQRLC...</td>\n",
       "    </tr>\n",
       "    <tr>\n",
       "      <th>122613</th>\n",
       "      <td>ENSP00000494591.1</td>\n",
       "      <td>ENSP00000494591</td>\n",
       "      <td>MEPGEVKDRILENISLSVKKLQSYFAACEDEIPAIRNHDKVLQRLC...</td>\n",
       "    </tr>\n",
       "  </tbody>\n",
       "</table>\n",
       "<p>122614 rows × 3 columns</p>\n",
       "</div>"
      ],
      "text/plain": [
       "               id_version       Protein_ID  \\\n",
       "0       ENSP00000451042.1  ENSP00000451042   \n",
       "1       ENSP00000452494.1  ENSP00000452494   \n",
       "2       ENSP00000451515.1  ENSP00000451515   \n",
       "3       ENSP00000488240.1  ENSP00000488240   \n",
       "4       ENSP00000487941.1  ENSP00000487941   \n",
       "...                   ...              ...   \n",
       "122609  ENSP00000448878.1  ENSP00000448878   \n",
       "122610  ENSP00000341963.1  ENSP00000341963   \n",
       "122611  ENSP00000364956.3  ENSP00000364956   \n",
       "122612  ENSP00000364950.2  ENSP00000364950   \n",
       "122613  ENSP00000494591.1  ENSP00000494591   \n",
       "\n",
       "                                              protein_seq  \n",
       "0                                                      EI  \n",
       "1                                                    TGGY  \n",
       "2                                                     PSY  \n",
       "3                                                    GTGG  \n",
       "4                                                    GTGG  \n",
       "...                                                   ...  \n",
       "122609  XEITSSPQGLDNPALLRDMLLANPHELSLLKERNPPLAEALLSGDL...  \n",
       "122610  MSSLPTSDGFNHPARSSGQSPDVGNPMSLARSVSASVCPIKPSDSD...  \n",
       "122611  MEPGEVKDRILENISLSVKKLQSYFAACEDEIPAIRNHDKVLQRLC...  \n",
       "122612  MEPGEVKDRILENISLSVKKLQSYFAACEDEIPAIRNHDKVLQRLC...  \n",
       "122613  MEPGEVKDRILENISLSVKKLQSYFAACEDEIPAIRNHDKVLQRLC...  \n",
       "\n",
       "[122614 rows x 3 columns]"
      ]
     },
     "execution_count": 77,
     "metadata": {},
     "output_type": "execute_result"
    }
   ],
   "source": [
    "petide_sequence[\"protein_seq\"]=petide_sequence[\"id_version\"].apply(get_protein_seq)\n",
    "petide_sequence"
   ]
  },
  {
   "cell_type": "markdown",
   "id": "e58c5b2f",
   "metadata": {},
   "source": [
    "# Get the Canonical dataset"
   ]
  },
  {
   "cell_type": "code",
   "execution_count": 78,
   "id": "65dd07f2",
   "metadata": {},
   "outputs": [],
   "source": [
    "from pybiomart import Dataset\n",
    "dataset = Dataset(name='hsapiens_gene_ensembl',\n",
    "           host='http://www.ensembl.org')\n",
    "\n",
    "dataset_df=dataset.list_attributes()\n",
    "dataset_df.to_csv(\"pybiomart_dataset.csv\")\n"
   ]
  },
  {
   "cell_type": "code",
   "execution_count": 79,
   "id": "238e5aa5",
   "metadata": {},
   "outputs": [],
   "source": [
    "from pybiomart import Dataset\n",
    "\n",
    "dataset = Dataset(name='hsapiens_gene_ensembl', host='http://www.ensembl.org')\n",
    "\n",
    "\n",
    "df = dataset.query(attributes=['ensembl_gene_id', 'external_gene_name', 'ensembl_peptide_id', 'transcript_is_canonical'])"
   ]
  },
  {
   "cell_type": "code",
   "execution_count": 80,
   "id": "e658d84f",
   "metadata": {},
   "outputs": [],
   "source": [
    "pedtide_df=df[df[\"Ensembl Canonical\"]==1].copy() # filter to only show the canonical genes"
   ]
  },
  {
   "cell_type": "code",
   "execution_count": 81,
   "id": "752237a4",
   "metadata": {},
   "outputs": [
    {
     "data": {
      "text/html": [
       "<div>\n",
       "<style scoped>\n",
       "    .dataframe tbody tr th:only-of-type {\n",
       "        vertical-align: middle;\n",
       "    }\n",
       "\n",
       "    .dataframe tbody tr th {\n",
       "        vertical-align: top;\n",
       "    }\n",
       "\n",
       "    .dataframe thead th {\n",
       "        text-align: right;\n",
       "    }\n",
       "</style>\n",
       "<table border=\"1\" class=\"dataframe\">\n",
       "  <thead>\n",
       "    <tr style=\"text-align: right;\">\n",
       "      <th></th>\n",
       "      <th>Gene stable ID</th>\n",
       "      <th>Gene name</th>\n",
       "      <th>Protein stable ID</th>\n",
       "      <th>Ensembl Canonical</th>\n",
       "    </tr>\n",
       "  </thead>\n",
       "  <tbody>\n",
       "    <tr>\n",
       "      <th>0</th>\n",
       "      <td>ENSG00000210049</td>\n",
       "      <td>MT-TF</td>\n",
       "      <td>NaN</td>\n",
       "      <td>1.0</td>\n",
       "    </tr>\n",
       "    <tr>\n",
       "      <th>1</th>\n",
       "      <td>ENSG00000211459</td>\n",
       "      <td>MT-RNR1</td>\n",
       "      <td>NaN</td>\n",
       "      <td>1.0</td>\n",
       "    </tr>\n",
       "    <tr>\n",
       "      <th>2</th>\n",
       "      <td>ENSG00000210077</td>\n",
       "      <td>MT-TV</td>\n",
       "      <td>NaN</td>\n",
       "      <td>1.0</td>\n",
       "    </tr>\n",
       "    <tr>\n",
       "      <th>3</th>\n",
       "      <td>ENSG00000210082</td>\n",
       "      <td>MT-RNR2</td>\n",
       "      <td>NaN</td>\n",
       "      <td>1.0</td>\n",
       "    </tr>\n",
       "    <tr>\n",
       "      <th>4</th>\n",
       "      <td>ENSG00000209082</td>\n",
       "      <td>MT-TL1</td>\n",
       "      <td>NaN</td>\n",
       "      <td>1.0</td>\n",
       "    </tr>\n",
       "    <tr>\n",
       "      <th>...</th>\n",
       "      <td>...</td>\n",
       "      <td>...</td>\n",
       "      <td>...</td>\n",
       "      <td>...</td>\n",
       "    </tr>\n",
       "    <tr>\n",
       "      <th>191666</th>\n",
       "      <td>ENSG00000288629</td>\n",
       "      <td>NaN</td>\n",
       "      <td>ENSP00000502602</td>\n",
       "      <td>1.0</td>\n",
       "    </tr>\n",
       "    <tr>\n",
       "      <th>191667</th>\n",
       "      <td>ENSG00000288678</td>\n",
       "      <td>NaN</td>\n",
       "      <td>ENSP00000505765</td>\n",
       "      <td>1.0</td>\n",
       "    </tr>\n",
       "    <tr>\n",
       "      <th>191669</th>\n",
       "      <td>ENSG00000290825</td>\n",
       "      <td>DDX11L2</td>\n",
       "      <td>NaN</td>\n",
       "      <td>1.0</td>\n",
       "    </tr>\n",
       "    <tr>\n",
       "      <th>191670</th>\n",
       "      <td>ENSG00000227232</td>\n",
       "      <td>WASH7P</td>\n",
       "      <td>NaN</td>\n",
       "      <td>1.0</td>\n",
       "    </tr>\n",
       "    <tr>\n",
       "      <th>191671</th>\n",
       "      <td>ENSG00000290826</td>\n",
       "      <td>NaN</td>\n",
       "      <td>NaN</td>\n",
       "      <td>1.0</td>\n",
       "    </tr>\n",
       "  </tbody>\n",
       "</table>\n",
       "<p>70711 rows × 4 columns</p>\n",
       "</div>"
      ],
      "text/plain": [
       "         Gene stable ID Gene name Protein stable ID  Ensembl Canonical\n",
       "0       ENSG00000210049     MT-TF               NaN                1.0\n",
       "1       ENSG00000211459   MT-RNR1               NaN                1.0\n",
       "2       ENSG00000210077     MT-TV               NaN                1.0\n",
       "3       ENSG00000210082   MT-RNR2               NaN                1.0\n",
       "4       ENSG00000209082    MT-TL1               NaN                1.0\n",
       "...                 ...       ...               ...                ...\n",
       "191666  ENSG00000288629       NaN   ENSP00000502602                1.0\n",
       "191667  ENSG00000288678       NaN   ENSP00000505765                1.0\n",
       "191669  ENSG00000290825   DDX11L2               NaN                1.0\n",
       "191670  ENSG00000227232    WASH7P               NaN                1.0\n",
       "191671  ENSG00000290826       NaN               NaN                1.0\n",
       "\n",
       "[70711 rows x 4 columns]"
      ]
     },
     "execution_count": 81,
     "metadata": {},
     "output_type": "execute_result"
    }
   ],
   "source": [
    "pedtide_df"
   ]
  },
  {
   "cell_type": "code",
   "execution_count": 82,
   "id": "daabc5dd",
   "metadata": {},
   "outputs": [
    {
     "name": "stdout",
     "output_type": "stream",
     "text": [
      "Gene stable ID           0\n",
      "Gene name            22601\n",
      "Protein stable ID    46891\n",
      "Ensembl Canonical        0\n",
      "dtype: int64\n"
     ]
    }
   ],
   "source": [
    "print(pedtide_df.isna().sum())"
   ]
  },
  {
   "cell_type": "markdown",
   "id": "4eb17c01",
   "metadata": {},
   "source": [
    "### Merge the full transcripts with the canonical transcripts"
   ]
  },
  {
   "cell_type": "markdown",
   "id": "3109e548",
   "metadata": {},
   "source": [
    "The purpose of this is to extract the Transcript version"
   ]
  },
  {
   "cell_type": "code",
   "execution_count": 83,
   "id": "58f9d316",
   "metadata": {},
   "outputs": [],
   "source": [
    "cano_df = pd.merge(pedtide_df,petide_sequence , left_on='Protein stable ID', right_on='Protein_ID')"
   ]
  },
  {
   "cell_type": "code",
   "execution_count": 84,
   "id": "a1242c22",
   "metadata": {},
   "outputs": [],
   "source": [
    "clean_df = cano_df[[\"Gene name\",\"Gene stable ID\",\"Protein_ID\",\"protein_seq\"]].copy()"
   ]
  },
  {
   "cell_type": "code",
   "execution_count": 85,
   "id": "85f24456",
   "metadata": {},
   "outputs": [
    {
     "data": {
      "text/html": [
       "<div>\n",
       "<style scoped>\n",
       "    .dataframe tbody tr th:only-of-type {\n",
       "        vertical-align: middle;\n",
       "    }\n",
       "\n",
       "    .dataframe tbody tr th {\n",
       "        vertical-align: top;\n",
       "    }\n",
       "\n",
       "    .dataframe thead th {\n",
       "        text-align: right;\n",
       "    }\n",
       "</style>\n",
       "<table border=\"1\" class=\"dataframe\">\n",
       "  <thead>\n",
       "    <tr style=\"text-align: right;\">\n",
       "      <th></th>\n",
       "      <th>Gene name</th>\n",
       "      <th>Gene stable ID</th>\n",
       "      <th>Protein_ID</th>\n",
       "      <th>protein_seq</th>\n",
       "    </tr>\n",
       "  </thead>\n",
       "  <tbody>\n",
       "    <tr>\n",
       "      <th>0</th>\n",
       "      <td>MT-ND1</td>\n",
       "      <td>ENSG00000198888</td>\n",
       "      <td>ENSP00000354687</td>\n",
       "      <td>MPMANLLLLIVPILIAMAFLMLTERKILGYMQLRKGPNVVGPYGLL...</td>\n",
       "    </tr>\n",
       "    <tr>\n",
       "      <th>1</th>\n",
       "      <td>MT-ND2</td>\n",
       "      <td>ENSG00000198763</td>\n",
       "      <td>ENSP00000355046</td>\n",
       "      <td>MNPLAQPVIYSTIFAGTLITALSSHWFFTWVGLEMNMLAFIPVLTK...</td>\n",
       "    </tr>\n",
       "    <tr>\n",
       "      <th>2</th>\n",
       "      <td>MT-CO1</td>\n",
       "      <td>ENSG00000198804</td>\n",
       "      <td>ENSP00000354499</td>\n",
       "      <td>MFADRWLFSTNHKDIGTLYLLFGAWAGVLGTALSLLIRAELGQPGN...</td>\n",
       "    </tr>\n",
       "    <tr>\n",
       "      <th>3</th>\n",
       "      <td>MT-CO2</td>\n",
       "      <td>ENSG00000198712</td>\n",
       "      <td>ENSP00000354876</td>\n",
       "      <td>MAHAAQVGLQDATSPIMEELITFHDHALMIIFLICFLVLYALFLTL...</td>\n",
       "    </tr>\n",
       "    <tr>\n",
       "      <th>4</th>\n",
       "      <td>MT-ATP8</td>\n",
       "      <td>ENSG00000228253</td>\n",
       "      <td>ENSP00000355265</td>\n",
       "      <td>MPQLNTTVWPTMITPMLLTLFLITQLKMLNTNYHLPPSPKPMKMKN...</td>\n",
       "    </tr>\n",
       "    <tr>\n",
       "      <th>...</th>\n",
       "      <td>...</td>\n",
       "      <td>...</td>\n",
       "      <td>...</td>\n",
       "      <td>...</td>\n",
       "    </tr>\n",
       "    <tr>\n",
       "      <th>23776</th>\n",
       "      <td>CNKSR1</td>\n",
       "      <td>ENSG00000142675</td>\n",
       "      <td>ENSP00000354609</td>\n",
       "      <td>MEPVETWTPGKVATWLRGLDDSLQDYPFEDWQLPGKNLLQLCPQSL...</td>\n",
       "    </tr>\n",
       "    <tr>\n",
       "      <th>23777</th>\n",
       "      <td>NaN</td>\n",
       "      <td>ENSG00000288644</td>\n",
       "      <td>ENSP00000502499</td>\n",
       "      <td>MAIMLLCLLQLAAPLCSYSITIRFYLFWLNTP</td>\n",
       "    </tr>\n",
       "    <tr>\n",
       "      <th>23778</th>\n",
       "      <td>NaN</td>\n",
       "      <td>ENSG00000288626</td>\n",
       "      <td>ENSP00000502794</td>\n",
       "      <td>MRDFPLAAGGTHPENAGAARGKDPLPQQRKTKRKKAYRQRALRDAP...</td>\n",
       "    </tr>\n",
       "    <tr>\n",
       "      <th>23779</th>\n",
       "      <td>NaN</td>\n",
       "      <td>ENSG00000288629</td>\n",
       "      <td>ENSP00000502602</td>\n",
       "      <td>MKTNTEMVCLRNFKRCRPPD</td>\n",
       "    </tr>\n",
       "    <tr>\n",
       "      <th>23780</th>\n",
       "      <td>NaN</td>\n",
       "      <td>ENSG00000288678</td>\n",
       "      <td>ENSP00000505765</td>\n",
       "      <td>MAILSVRADFCQAQHSIFADK</td>\n",
       "    </tr>\n",
       "  </tbody>\n",
       "</table>\n",
       "<p>23781 rows × 4 columns</p>\n",
       "</div>"
      ],
      "text/plain": [
       "      Gene name   Gene stable ID       Protein_ID  \\\n",
       "0        MT-ND1  ENSG00000198888  ENSP00000354687   \n",
       "1        MT-ND2  ENSG00000198763  ENSP00000355046   \n",
       "2        MT-CO1  ENSG00000198804  ENSP00000354499   \n",
       "3        MT-CO2  ENSG00000198712  ENSP00000354876   \n",
       "4       MT-ATP8  ENSG00000228253  ENSP00000355265   \n",
       "...         ...              ...              ...   \n",
       "23776    CNKSR1  ENSG00000142675  ENSP00000354609   \n",
       "23777       NaN  ENSG00000288644  ENSP00000502499   \n",
       "23778       NaN  ENSG00000288626  ENSP00000502794   \n",
       "23779       NaN  ENSG00000288629  ENSP00000502602   \n",
       "23780       NaN  ENSG00000288678  ENSP00000505765   \n",
       "\n",
       "                                             protein_seq  \n",
       "0      MPMANLLLLIVPILIAMAFLMLTERKILGYMQLRKGPNVVGPYGLL...  \n",
       "1      MNPLAQPVIYSTIFAGTLITALSSHWFFTWVGLEMNMLAFIPVLTK...  \n",
       "2      MFADRWLFSTNHKDIGTLYLLFGAWAGVLGTALSLLIRAELGQPGN...  \n",
       "3      MAHAAQVGLQDATSPIMEELITFHDHALMIIFLICFLVLYALFLTL...  \n",
       "4      MPQLNTTVWPTMITPMLLTLFLITQLKMLNTNYHLPPSPKPMKMKN...  \n",
       "...                                                  ...  \n",
       "23776  MEPVETWTPGKVATWLRGLDDSLQDYPFEDWQLPGKNLLQLCPQSL...  \n",
       "23777                   MAIMLLCLLQLAAPLCSYSITIRFYLFWLNTP  \n",
       "23778  MRDFPLAAGGTHPENAGAARGKDPLPQQRKTKRKKAYRQRALRDAP...  \n",
       "23779                               MKTNTEMVCLRNFKRCRPPD  \n",
       "23780                              MAILSVRADFCQAQHSIFADK  \n",
       "\n",
       "[23781 rows x 4 columns]"
      ]
     },
     "execution_count": 85,
     "metadata": {},
     "output_type": "execute_result"
    }
   ],
   "source": [
    "clean_df"
   ]
  },
  {
   "cell_type": "markdown",
   "id": "639cd255",
   "metadata": {},
   "source": [
    "## NAN"
   ]
  },
  {
   "cell_type": "code",
   "execution_count": 86,
   "metadata": {},
   "outputs": [
    {
     "name": "stdout",
     "output_type": "stream",
     "text": [
      "Gene name         830\n",
      "Gene stable ID      0\n",
      "Protein_ID          0\n",
      "protein_seq         0\n",
      "dtype: int64\n"
     ]
    }
   ],
   "source": [
    "print(clean_df.isna().sum())"
   ]
  },
  {
   "cell_type": "code",
   "execution_count": 87,
   "id": "5817b16c",
   "metadata": {},
   "outputs": [],
   "source": [
    "clean_df.to_csv(\"peptide_seq.csv\",index= False)"
   ]
  },
  {
   "cell_type": "code",
   "execution_count": null,
   "id": "89244ec2",
   "metadata": {},
   "outputs": [],
   "source": []
  }
 ],
 "metadata": {
  "kernelspec": {
   "display_name": "Python 3 (ipykernel)",
   "language": "python",
   "name": "python3"
  },
  "language_info": {
   "codemirror_mode": {
    "name": "ipython",
    "version": 3
   },
   "file_extension": ".py",
   "mimetype": "text/x-python",
   "name": "python",
   "nbconvert_exporter": "python",
   "pygments_lexer": "ipython3",
   "version": "3.8.18"
  }
 },
 "nbformat": 4,
 "nbformat_minor": 5
}
